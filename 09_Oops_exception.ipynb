{
  "nbformat": 4,
  "nbformat_minor": 0,
  "metadata": {
    "colab": {
      "provenance": [],
      "authorship_tag": "ABX9TyN7ENZKGxYgY53iU4tYDRmo",
      "include_colab_link": true
    },
    "kernelspec": {
      "name": "python3",
      "display_name": "Python 3"
    },
    "language_info": {
      "name": "python"
    }
  },
  "cells": [
    {
      "cell_type": "markdown",
      "metadata": {
        "id": "view-in-github",
        "colab_type": "text"
      },
      "source": [
        "<a href=\"https://colab.research.google.com/github/VidhiNegi19/sem4/blob/main/09_Oops_exception.ipynb\" target=\"_parent\"><img src=\"https://colab.research.google.com/assets/colab-badge.svg\" alt=\"Open In Colab\"/></a>"
      ]
    },
    {
      "cell_type": "code",
      "source": [
        "empty_list = []\n",
        "empty_list"
      ],
      "metadata": {
        "colab": {
          "base_uri": "https://localhost:8080/"
        },
        "id": "cq9yvl3AHFTk",
        "outputId": "1db7312d-82c9-4d0c-e1f4-751128d407a8"
      },
      "execution_count": null,
      "outputs": [
        {
          "output_type": "execute_result",
          "data": {
            "text/plain": [
              "[]"
            ]
          },
          "metadata": {},
          "execution_count": 1
        }
      ]
    },
    {
      "cell_type": "code",
      "source": [
        "another_empty_list = list()\n",
        "another_empty_list"
      ],
      "metadata": {
        "id": "RF42B7tvHNFs",
        "outputId": "01b40646-714c-4baa-8b84-da7f38d214ed",
        "colab": {
          "base_uri": "https://localhost:8080/"
        }
      },
      "execution_count": null,
      "outputs": [
        {
          "output_type": "execute_result",
          "data": {
            "text/plain": [
              "[]"
            ]
          },
          "metadata": {},
          "execution_count": 2
        }
      ]
    },
    {
      "cell_type": "code",
      "source": [
        "another_empty_list = list()\n",
        "another_empty_list\n",
        "another_empty_list.append(2)\n",
        "another_empty_list"
      ],
      "metadata": {
        "colab": {
          "base_uri": "https://localhost:8080/"
        },
        "id": "DL_7tl3WtwC8",
        "outputId": "7079cbef-068e-4fcf-b4ec-4728179dc47e"
      },
      "execution_count": 27,
      "outputs": [
        {
          "output_type": "execute_result",
          "data": {
            "text/plain": [
              "[2]"
            ]
          },
          "metadata": {},
          "execution_count": 27
        }
      ]
    },
    {
      "cell_type": "code",
      "source": [],
      "metadata": {
        "id": "eGQAJeXlxswW"
      },
      "execution_count": null,
      "outputs": []
    },
    {
      "cell_type": "code",
      "source": [
        "print(another_empty_list)\n",
        "# Check if 3 is in the list before trying to find its index\n",
        "if 3 in another_empty_list:\n",
        "    index_of_3 = another_empty_list.index(3)\n",
        "    print(f\"The index of 3 is: {index_of_3}\")\n",
        "else:\n",
        "    print(\"3 is not in the list\")\n"
      ],
      "metadata": {
        "colab": {
          "base_uri": "https://localhost:8080/"
        },
        "id": "ps9y3QY-wD98",
        "outputId": "4835a17d-5bc7-4ec0-8575-e7be926c04ec"
      },
      "execution_count": 33,
      "outputs": [
        {
          "output_type": "stream",
          "name": "stdout",
          "text": [
            "[]\n",
            "3 is not in the list\n"
          ]
        }
      ]
    },
    {
      "cell_type": "code",
      "source": [
        "the_sixth_sense = 6\n",
        "print(type(the_sixth_sense))"
      ],
      "metadata": {
        "colab": {
          "base_uri": "https://localhost:8080/"
        },
        "id": "regdtFRUwLhS",
        "outputId": "b2f21f25-7916-4ef1-d6a8-8b1d1f1f35df"
      },
      "execution_count": 3,
      "outputs": [
        {
          "output_type": "stream",
          "name": "stdout",
          "text": [
            "<class 'int'>\n"
          ]
        }
      ]
    },
    {
      "cell_type": "code",
      "source": [
        "two_and_a_half = 2.5\n",
        "print(type(two_and_a_half))"
      ],
      "metadata": {
        "colab": {
          "base_uri": "https://localhost:8080/"
        },
        "id": "2K8Q_r2jwQHa",
        "outputId": "45949407-105a-42d6-8bff-5b0819ff5628"
      },
      "execution_count": 4,
      "outputs": [
        {
          "output_type": "stream",
          "name": "stdout",
          "text": [
            "<class 'float'>\n"
          ]
        }
      ]
    },
    {
      "cell_type": "code",
      "source": [
        "fellow_list = list()\n",
        "print(type(fellow_list))"
      ],
      "metadata": {
        "colab": {
          "base_uri": "https://localhost:8080/"
        },
        "id": "20sJvLjRwcF5",
        "outputId": "0f1804e4-437a-484a-f4e3-eed226549a21"
      },
      "execution_count": 5,
      "outputs": [
        {
          "output_type": "stream",
          "name": "stdout",
          "text": [
            "<class 'list'>\n"
          ]
        }
      ]
    },
    {
      "cell_type": "code",
      "source": [
        "another_list = list()\n",
        "tharoor = {'farrago':'a confused mixture'}\n",
        "print(type(tharoor))"
      ],
      "metadata": {
        "colab": {
          "base_uri": "https://localhost:8080/"
        },
        "id": "trgFDMwkwgQp",
        "outputId": "6c084436-aad4-44c4-cdff-ccfa934c6ea1"
      },
      "execution_count": 6,
      "outputs": [
        {
          "output_type": "stream",
          "name": "stdout",
          "text": [
            "<class 'dict'>\n"
          ]
        }
      ]
    },
    {
      "cell_type": "code",
      "source": [
        "#Create a new object type called FirstClass\n",
        "class FirstClass:\n",
        "  pass"
      ],
      "metadata": {
        "id": "3DaR-cnZwlox"
      },
      "execution_count": 7,
      "outputs": []
    },
    {
      "cell_type": "code",
      "source": [
        "#Instance of FirstClass\n",
        "x = FirstClass()\n",
        "print(type(x))"
      ],
      "metadata": {
        "colab": {
          "base_uri": "https://localhost:8080/"
        },
        "id": "5f7mINoowoXh",
        "outputId": "039b1b19-5c07-4c90-cbcb-c85b87e1fd4b"
      },
      "execution_count": 8,
      "outputs": [
        {
          "output_type": "stream",
          "name": "stdout",
          "text": [
            "<class '__main__.FirstClass'>\n"
          ]
        }
      ]
    },
    {
      "cell_type": "code",
      "source": [
        "y = FirstClass()\n",
        "print(type(y))"
      ],
      "metadata": {
        "colab": {
          "base_uri": "https://localhost:8080/"
        },
        "id": "EiNZVdJqwtIQ",
        "outputId": "d93174f6-6cb6-490b-9b2c-c30b351df5a2"
      },
      "execution_count": 9,
      "outputs": [
        {
          "output_type": "stream",
          "name": "stdout",
          "text": [
            "<class '__main__.FirstClass'>\n"
          ]
        }
      ]
    },
    {
      "cell_type": "code",
      "source": [
        "#Attributes\n",
        "class Dog:\n",
        "  def __init__(self, breed, name):\n",
        "    self.breed_attribute = breed\n",
        "    self.name_attribute = name"
      ],
      "metadata": {
        "id": "VdXZOg65wzQg"
      },
      "execution_count": 10,
      "outputs": []
    },
    {
      "cell_type": "code",
      "source": [
        "sam_object = Dog(breed='Lab', name='Sam')\n",
        "frank_object = Dog(breed='Huskie', name='Frank')"
      ],
      "metadata": {
        "id": "tw4BBOCmw45Y"
      },
      "execution_count": 11,
      "outputs": []
    },
    {
      "cell_type": "code",
      "source": [
        "sam_object.breed_attribute"
      ],
      "metadata": {
        "colab": {
          "base_uri": "https://localhost:8080/",
          "height": 35
        },
        "id": "Wa53uv9Lw8T4",
        "outputId": "74ca345e-b68a-4cf7-af80-39ec6fa035e5"
      },
      "execution_count": 12,
      "outputs": [
        {
          "output_type": "execute_result",
          "data": {
            "text/plain": [
              "'Lab'"
            ],
            "application/vnd.google.colaboratory.intrinsic+json": {
              "type": "string"
            }
          },
          "metadata": {},
          "execution_count": 12
        }
      ]
    },
    {
      "cell_type": "code",
      "source": [
        "frank_object.name_attribute"
      ],
      "metadata": {
        "colab": {
          "base_uri": "https://localhost:8080/",
          "height": 35
        },
        "id": "WaA7Vv9UxAfw",
        "outputId": "c5bb2624-e9c0-421e-ca22-ee3d6b3e7db4"
      },
      "execution_count": 13,
      "outputs": [
        {
          "output_type": "execute_result",
          "data": {
            "text/plain": [
              "'Frank'"
            ],
            "application/vnd.google.colaboratory.intrinsic+json": {
              "type": "string"
            }
          },
          "metadata": {},
          "execution_count": 13
        }
      ]
    },
    {
      "cell_type": "code",
      "source": [
        "#Circle class\n",
        "class Circle:\n",
        "  def __init__(self, radius = 1):\n",
        "    self.radius = radius\n",
        "    self.area = 3.14 * radius * radius\n",
        "\n",
        "  def setRadius(self, new_radius):\n",
        "      self.radius = new_radius\n",
        "      self.area = 3.14 * new_radius * new_radius\n",
        "\n",
        "  def getCircumference(self):\n",
        "      return 2 * 3.14 * self.radius\n",
        "\n",
        "c = Circle(2)\n",
        "c.area"
      ],
      "metadata": {
        "colab": {
          "base_uri": "https://localhost:8080/"
        },
        "id": "6SvfxVPcxFav",
        "outputId": "11e52e19-621d-441f-869f-669e5cdacf9c"
      },
      "execution_count": 14,
      "outputs": [
        {
          "output_type": "execute_result",
          "data": {
            "text/plain": [
              "12.56"
            ]
          },
          "metadata": {},
          "execution_count": 14
        }
      ]
    },
    {
      "cell_type": "code",
      "source": [
        "c.setRadius(10)\n",
        "print(c.getCircumference())"
      ],
      "metadata": {
        "colab": {
          "base_uri": "https://localhost:8080/"
        },
        "id": "Cb8X5hNcxwF1",
        "outputId": "b7897257-964d-4921-bc68-80b8fadf828a"
      },
      "execution_count": 16,
      "outputs": [
        {
          "output_type": "stream",
          "name": "stdout",
          "text": [
            "62.800000000000004\n"
          ]
        }
      ]
    },
    {
      "cell_type": "code",
      "source": [
        "print('Radius is: ', c.radius)\n",
        "print('Area is: ', c.area)\n",
        "print('Circumference is: ', c.getCircumference())"
      ],
      "metadata": {
        "colab": {
          "base_uri": "https://localhost:8080/"
        },
        "id": "E017-xq8x6Ad",
        "outputId": "973ed544-f0dc-42d1-f8d6-cc413179b2ce"
      },
      "execution_count": 17,
      "outputs": [
        {
          "output_type": "stream",
          "name": "stdout",
          "text": [
            "Radius is:  10\n",
            "Area is:  314.0\n",
            "Circumference is:  62.800000000000004\n"
          ]
        }
      ]
    },
    {
      "cell_type": "code",
      "source": [
        "#Changing the radius\n",
        "c.setRadius(4)\n",
        "print('radius is: ', c.radius)\n",
        "print('Area is: ', c.area)\n",
        "print('Circumference is: ', c.getCircumference())"
      ],
      "metadata": {
        "colab": {
          "base_uri": "https://localhost:8080/"
        },
        "id": "fuBQjV3oyEbU",
        "outputId": "236a16c9-e175-4d6d-c4ba-0ae86a4bc7a7"
      },
      "execution_count": 18,
      "outputs": [
        {
          "output_type": "stream",
          "name": "stdout",
          "text": [
            "radius is:  4\n",
            "Area is:  50.24\n",
            "Circumference is:  25.12\n"
          ]
        }
      ]
    },
    {
      "cell_type": "code",
      "source": [
        "#Polymorphism\n",
        "class HouseStark:\n",
        "  def __init__(self, sigil):\n",
        "    self.sigil = sigil\n",
        "\n",
        "  def motto(self):\n",
        "    return \"house stark with sigil \" + self.sigil + \"has the motto 'Winter is Coming'\"\n",
        "\n",
        "class HouseTargaryen:\n",
        "  def __init__(self, sigil):\n",
        "    self.sigil = sigil\n",
        "\n",
        "  def motto(self):\n",
        "      return \"house targaryen with sigil \" + self.sigil + \"has the motto 'Fire and Blood'\""
      ],
      "metadata": {
        "id": "X2AH-QgAyJbU"
      },
      "execution_count": 19,
      "outputs": []
    },
    {
      "cell_type": "code",
      "source": [
        "arya = HouseStark('direwolf')\n",
        "danaerys = HouseTargaryen('dragon')\n",
        "\n",
        "print(arya.motto())"
      ],
      "metadata": {
        "colab": {
          "base_uri": "https://localhost:8080/"
        },
        "id": "QOEEbKaSySZt",
        "outputId": "4f40fa5f-471c-430e-8a5f-f408651aa4e1"
      },
      "execution_count": 20,
      "outputs": [
        {
          "output_type": "stream",
          "name": "stdout",
          "text": [
            "house stark with sigil direwolfhas the motto 'Winter is Coming'\n"
          ]
        }
      ]
    },
    {
      "cell_type": "code",
      "source": [
        "print(danaerys.motto())"
      ],
      "metadata": {
        "colab": {
          "base_uri": "https://localhost:8080/"
        },
        "id": "U5JpG7qhybeG",
        "outputId": "cac8de9e-07d3-4604-e435-48098d18f1c0"
      },
      "execution_count": 21,
      "outputs": [
        {
          "output_type": "stream",
          "name": "stdout",
          "text": [
            "house targaryen with sigil dragonhas the motto 'Fire and Blood'\n"
          ]
        }
      ]
    },
    {
      "cell_type": "code",
      "source": [
        "print(danaerys.motto())"
      ],
      "metadata": {
        "colab": {
          "base_uri": "https://localhost:8080/"
        },
        "id": "bwSzXXzbyeOs",
        "outputId": "3c74d1a5-d1ae-4b28-98ea-7bfb89e864d2"
      },
      "execution_count": 22,
      "outputs": [
        {
          "output_type": "stream",
          "name": "stdout",
          "text": [
            "house targaryen with sigil dragonhas the motto 'Fire and Blood'\n"
          ]
        }
      ]
    },
    {
      "cell_type": "code",
      "source": [
        "def get_motto(warrior):\n",
        "  print(warrior.motto())\n",
        "\n",
        "get_motto(arya)\n",
        "get_motto(danaerys)"
      ],
      "metadata": {
        "colab": {
          "base_uri": "https://localhost:8080/"
        },
        "id": "w8xpj9P8yhpC",
        "outputId": "df458b91-96d9-415d-ffb6-15bcf436aadd"
      },
      "execution_count": 23,
      "outputs": [
        {
          "output_type": "stream",
          "name": "stdout",
          "text": [
            "house stark with sigil direwolfhas the motto 'Winter is Coming'\n",
            "house targaryen with sigil dragonhas the motto 'Fire and Blood'\n"
          ]
        }
      ]
    },
    {
      "cell_type": "code",
      "source": [
        "#Try and except\n",
        "try:\n",
        "  print(\"good to go\")\n",
        "  print('sss')\n",
        "  print('top','class')\n",
        "except:\n",
        "  print('yesss')\n",
        "  print('hahaha')\n",
        "  print('blabla')\n",
        "else:\n",
        "  print(\"t r u e\")\n",
        "  print(' no matter')\n",
        "  print('what')"
      ],
      "metadata": {
        "colab": {
          "base_uri": "https://localhost:8080/"
        },
        "id": "N7hr-0YoykDy",
        "outputId": "8a32afa0-9af5-457f-8404-cbdd13305d6c"
      },
      "execution_count": 24,
      "outputs": [
        {
          "output_type": "stream",
          "name": "stdout",
          "text": [
            "good to go\n",
            "sss\n",
            "top class\n",
            "t r u e\n",
            " no matter\n",
            "what\n"
          ]
        }
      ]
    },
    {
      "cell_type": "code",
      "source": [
        "#Finally\n",
        "try:\n",
        "  print(\"execute try statements\")\n",
        "except:\n",
        "  print(\"neverrrr\")\n",
        "finally:\n",
        "  print(\"finally always\")"
      ],
      "metadata": {
        "colab": {
          "base_uri": "https://localhost:8080/"
        },
        "id": "esCJr02EynUj",
        "outputId": "5020a8ff-6dba-46b6-c26d-df7413f4db5f"
      },
      "execution_count": 25,
      "outputs": [
        {
          "output_type": "stream",
          "name": "stdout",
          "text": [
            "execute try statements\n",
            "finally always\n"
          ]
        }
      ]
    },
    {
      "cell_type": "code",
      "source": [
        "#A real world case example\n",
        "'''\n",
        "uber price calculation\n",
        "'''\n",
        "def get_price_per_km(hour):\n",
        "\n",
        "  if (hour>8 & (hour<11)):\n",
        "    price_per_km = 20\n",
        "  elif (hour>18 & (hour<21)):\n",
        "    price_per_km = 25\n",
        "  else:\n",
        "    price_per_km = 30\n",
        "  return price_per_km"
      ],
      "metadata": {
        "id": "R3HYxb7Bytaz"
      },
      "execution_count": 34,
      "outputs": []
    },
    {
      "cell_type": "code",
      "source": [
        "'''\n",
        "productiobn grade code\n",
        "'''\n",
        "class SurgePricing:\n",
        "    def __init__(self):\n",
        "        pass\n",
        "    def get_price_per_km(self, hour):\n",
        "        try:\n",
        "            if (hour > 8 and (hour < 11)):\n",
        "                price_per_km = 20\n",
        "            elif (hour > 18 and (hour < 21)):\n",
        "                price_per_km = 25\n",
        "            else:\n",
        "                price_per_km = 30\n",
        "        except:\n",
        "            price_per_km = 10\n",
        "        return price_per_km\n",
        ""
      ],
      "metadata": {
        "id": "-SJ2teKHz1i4"
      },
      "execution_count": 35,
      "outputs": []
    }
  ]
}