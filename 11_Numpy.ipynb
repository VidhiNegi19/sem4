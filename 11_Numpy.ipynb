{
  "nbformat": 4,
  "nbformat_minor": 0,
  "metadata": {
    "colab": {
      "provenance": [],
      "authorship_tag": "ABX9TyPHBI4hKpRO7PvQtxDbUlTW",
      "include_colab_link": true
    },
    "kernelspec": {
      "name": "python3",
      "display_name": "Python 3"
    },
    "language_info": {
      "name": "python"
    }
  },
  "cells": [
    {
      "cell_type": "markdown",
      "metadata": {
        "id": "view-in-github",
        "colab_type": "text"
      },
      "source": [
        "<a href=\"https://colab.research.google.com/github/VidhiNegi19/sem4/blob/main/11_Numpy.ipynb\" target=\"_parent\"><img src=\"https://colab.research.google.com/assets/colab-badge.svg\" alt=\"Open In Colab\"/></a>"
      ]
    },
    {
      "cell_type": "code",
      "execution_count": 1,
      "metadata": {
        "id": "UWCIP7SK318Z"
      },
      "outputs": [],
      "source": [
        "#Staement to import the numpy library\n",
        "import numpy as np\n",
        "import math as math\n",
        "import sys\n",
        ""
      ]
    },
    {
      "cell_type": "code",
      "source": [
        "#creating our first array in python\n",
        "my_array = np.array([1,2,3,4,5,6])\n",
        "type(my_array)"
      ],
      "metadata": {
        "colab": {
          "base_uri": "https://localhost:8080/"
        },
        "id": "0M9xgIOl4OJS",
        "outputId": "2fec2965-dd0a-49df-90c7-be59458e022c"
      },
      "execution_count": 3,
      "outputs": [
        {
          "output_type": "execute_result",
          "data": {
            "text/plain": [
              "numpy.ndarray"
            ]
          },
          "metadata": {},
          "execution_count": 3
        }
      ]
    },
    {
      "cell_type": "code",
      "source": [
        "my_array.shape"
      ],
      "metadata": {
        "colab": {
          "base_uri": "https://localhost:8080/"
        },
        "id": "LK-GH-Bp4aPM",
        "outputId": "84009a70-23f2-4a70-96bd-7207f426951f"
      },
      "execution_count": 4,
      "outputs": [
        {
          "output_type": "execute_result",
          "data": {
            "text/plain": [
              "(6,)"
            ]
          },
          "metadata": {},
          "execution_count": 4
        }
      ]
    },
    {
      "cell_type": "code",
      "source": [
        "my_array.size"
      ],
      "metadata": {
        "colab": {
          "base_uri": "https://localhost:8080/"
        },
        "id": "_jNYqHo-4dZx",
        "outputId": "bad06d2d-0076-43a6-8fa5-80371c3bbe96"
      },
      "execution_count": 5,
      "outputs": [
        {
          "output_type": "execute_result",
          "data": {
            "text/plain": [
              "6"
            ]
          },
          "metadata": {},
          "execution_count": 5
        }
      ]
    },
    {
      "cell_type": "code",
      "source": [
        "type(my_array)"
      ],
      "metadata": {
        "colab": {
          "base_uri": "https://localhost:8080/"
        },
        "id": "3JtqHUWl4gfx",
        "outputId": "cff093e9-3c7d-4bc6-f650-a25ffcffd278"
      },
      "execution_count": 6,
      "outputs": [
        {
          "output_type": "execute_result",
          "data": {
            "text/plain": [
              "numpy.ndarray"
            ]
          },
          "metadata": {},
          "execution_count": 6
        }
      ]
    },
    {
      "cell_type": "code",
      "source": [
        "type(my_array[-1])"
      ],
      "metadata": {
        "colab": {
          "base_uri": "https://localhost:8080/"
        },
        "id": "7-jOiRxf4kLo",
        "outputId": "a51f8c7e-070b-4e49-e05f-9684b64c788d"
      },
      "execution_count": 7,
      "outputs": [
        {
          "output_type": "execute_result",
          "data": {
            "text/plain": [
              "numpy.int64"
            ]
          },
          "metadata": {},
          "execution_count": 7
        }
      ]
    },
    {
      "cell_type": "code",
      "source": [
        "#One-dimensional array of some prime numbers\n",
        "prime_array = np.array([2,3,5,7,11,13,17,19,23,29,31], dtype=\"str\")\n",
        "print(prime_array)"
      ],
      "metadata": {
        "colab": {
          "base_uri": "https://localhost:8080/"
        },
        "id": "pJaIBbz-4psQ",
        "outputId": "77121a6f-33b8-4a2c-d12a-309c372271c5"
      },
      "execution_count": 8,
      "outputs": [
        {
          "output_type": "stream",
          "name": "stdout",
          "text": [
            "['2' '3' '5' '7' '11' '13' '17' '19' '23' '29' '31']\n"
          ]
        }
      ]
    },
    {
      "cell_type": "code",
      "source": [
        "type(prime_array)"
      ],
      "metadata": {
        "colab": {
          "base_uri": "https://localhost:8080/"
        },
        "id": "zo1PqK164uDA",
        "outputId": "8a2c4eb2-458f-4ddd-a7fe-297c5e8d7fef"
      },
      "execution_count": 9,
      "outputs": [
        {
          "output_type": "execute_result",
          "data": {
            "text/plain": [
              "numpy.ndarray"
            ]
          },
          "metadata": {},
          "execution_count": 9
        }
      ]
    },
    {
      "cell_type": "code",
      "source": [
        "type(prime_array[-1])"
      ],
      "metadata": {
        "colab": {
          "base_uri": "https://localhost:8080/"
        },
        "id": "U7LrM2rE4_m5",
        "outputId": "1e9a17a6-90ce-4029-d11f-008d9c9ce891"
      },
      "execution_count": 10,
      "outputs": [
        {
          "output_type": "execute_result",
          "data": {
            "text/plain": [
              "numpy.str_"
            ]
          },
          "metadata": {},
          "execution_count": 10
        }
      ]
    },
    {
      "cell_type": "code",
      "source": [
        "#Create a 2-D array\n",
        "another_array = np.array([[1,2,3],[4,5,6],[7,8,9]])\n",
        "print(another_array)"
      ],
      "metadata": {
        "colab": {
          "base_uri": "https://localhost:8080/"
        },
        "id": "qd8Rz0rR5E_f",
        "outputId": "6467016c-9c95-4cd6-9b17-588ab5d76e0b"
      },
      "execution_count": 12,
      "outputs": [
        {
          "output_type": "stream",
          "name": "stdout",
          "text": [
            "[[1 2 3]\n",
            " [4 5 6]\n",
            " [7 8 9]]\n"
          ]
        }
      ]
    },
    {
      "cell_type": "code",
      "source": [
        "list_of_list = [[1,2],[3,4]]\n",
        "list_of_list[1][1]"
      ],
      "metadata": {
        "colab": {
          "base_uri": "https://localhost:8080/"
        },
        "id": "XV9WDPiQ5J-v",
        "outputId": "e3efa36a-e812-48c5-8f31-624e1b452e4b"
      },
      "execution_count": 13,
      "outputs": [
        {
          "output_type": "execute_result",
          "data": {
            "text/plain": [
              "4"
            ]
          },
          "metadata": {},
          "execution_count": 13
        }
      ]
    },
    {
      "cell_type": "code",
      "source": [
        "list_of_list = [[1,2],[3,4]]\n",
        "list_of_list[1][1]"
      ],
      "metadata": {
        "colab": {
          "base_uri": "https://localhost:8080/"
        },
        "id": "SVEK2xtT5Muo",
        "outputId": "b0bc6c16-bed1-4d15-eab5-8c42e815bd84"
      },
      "execution_count": 14,
      "outputs": [
        {
          "output_type": "execute_result",
          "data": {
            "text/plain": [
              "4"
            ]
          },
          "metadata": {},
          "execution_count": 14
        }
      ]
    },
    {
      "cell_type": "code",
      "source": [
        "#Importing a specific module names 'datasets' in sklearn library\n",
        "import sklearn.datasets as skd\n",
        "skd"
      ],
      "metadata": {
        "colab": {
          "base_uri": "https://localhost:8080/"
        },
        "id": "XjEv2Hoj5Qmv",
        "outputId": "2d8cecba-c571-467a-dab2-4a4b5411464c"
      },
      "execution_count": 15,
      "outputs": [
        {
          "output_type": "execute_result",
          "data": {
            "text/plain": [
              "<module 'sklearn.datasets' from '/usr/local/lib/python3.11/dist-packages/sklearn/datasets/__init__.py'>"
            ]
          },
          "metadata": {},
          "execution_count": 15
        }
      ]
    },
    {
      "cell_type": "code",
      "source": [
        "skd.load_wine()"
      ],
      "metadata": {
        "colab": {
          "base_uri": "https://localhost:8080/"
        },
        "id": "5kjUjhAj5TaH",
        "outputId": "7e68e43b-c9e7-408e-8689-44bf1d0043f0"
      },
      "execution_count": 16,
      "outputs": [
        {
          "output_type": "execute_result",
          "data": {
            "text/plain": [
              "{'data': array([[1.423e+01, 1.710e+00, 2.430e+00, ..., 1.040e+00, 3.920e+00,\n",
              "         1.065e+03],\n",
              "        [1.320e+01, 1.780e+00, 2.140e+00, ..., 1.050e+00, 3.400e+00,\n",
              "         1.050e+03],\n",
              "        [1.316e+01, 2.360e+00, 2.670e+00, ..., 1.030e+00, 3.170e+00,\n",
              "         1.185e+03],\n",
              "        ...,\n",
              "        [1.327e+01, 4.280e+00, 2.260e+00, ..., 5.900e-01, 1.560e+00,\n",
              "         8.350e+02],\n",
              "        [1.317e+01, 2.590e+00, 2.370e+00, ..., 6.000e-01, 1.620e+00,\n",
              "         8.400e+02],\n",
              "        [1.413e+01, 4.100e+00, 2.740e+00, ..., 6.100e-01, 1.600e+00,\n",
              "         5.600e+02]]),\n",
              " 'target': array([0, 0, 0, 0, 0, 0, 0, 0, 0, 0, 0, 0, 0, 0, 0, 0, 0, 0, 0, 0, 0, 0,\n",
              "        0, 0, 0, 0, 0, 0, 0, 0, 0, 0, 0, 0, 0, 0, 0, 0, 0, 0, 0, 0, 0, 0,\n",
              "        0, 0, 0, 0, 0, 0, 0, 0, 0, 0, 0, 0, 0, 0, 0, 1, 1, 1, 1, 1, 1, 1,\n",
              "        1, 1, 1, 1, 1, 1, 1, 1, 1, 1, 1, 1, 1, 1, 1, 1, 1, 1, 1, 1, 1, 1,\n",
              "        1, 1, 1, 1, 1, 1, 1, 1, 1, 1, 1, 1, 1, 1, 1, 1, 1, 1, 1, 1, 1, 1,\n",
              "        1, 1, 1, 1, 1, 1, 1, 1, 1, 1, 1, 1, 1, 1, 1, 1, 1, 1, 1, 1, 2, 2,\n",
              "        2, 2, 2, 2, 2, 2, 2, 2, 2, 2, 2, 2, 2, 2, 2, 2, 2, 2, 2, 2, 2, 2,\n",
              "        2, 2, 2, 2, 2, 2, 2, 2, 2, 2, 2, 2, 2, 2, 2, 2, 2, 2, 2, 2, 2, 2,\n",
              "        2, 2]),\n",
              " 'frame': None,\n",
              " 'target_names': array(['class_0', 'class_1', 'class_2'], dtype='<U7'),\n",
              " 'DESCR': '.. _wine_dataset:\\n\\nWine recognition dataset\\n------------------------\\n\\n**Data Set Characteristics:**\\n\\n:Number of Instances: 178\\n:Number of Attributes: 13 numeric, predictive attributes and the class\\n:Attribute Information:\\n    - Alcohol\\n    - Malic acid\\n    - Ash\\n    - Alcalinity of ash\\n    - Magnesium\\n    - Total phenols\\n    - Flavanoids\\n    - Nonflavanoid phenols\\n    - Proanthocyanins\\n    - Color intensity\\n    - Hue\\n    - OD280/OD315 of diluted wines\\n    - Proline\\n    - class:\\n        - class_0\\n        - class_1\\n        - class_2\\n\\n:Summary Statistics:\\n\\n============================= ==== ===== ======= =====\\n                                Min   Max   Mean     SD\\n============================= ==== ===== ======= =====\\nAlcohol:                      11.0  14.8    13.0   0.8\\nMalic Acid:                   0.74  5.80    2.34  1.12\\nAsh:                          1.36  3.23    2.36  0.27\\nAlcalinity of Ash:            10.6  30.0    19.5   3.3\\nMagnesium:                    70.0 162.0    99.7  14.3\\nTotal Phenols:                0.98  3.88    2.29  0.63\\nFlavanoids:                   0.34  5.08    2.03  1.00\\nNonflavanoid Phenols:         0.13  0.66    0.36  0.12\\nProanthocyanins:              0.41  3.58    1.59  0.57\\nColour Intensity:              1.3  13.0     5.1   2.3\\nHue:                          0.48  1.71    0.96  0.23\\nOD280/OD315 of diluted wines: 1.27  4.00    2.61  0.71\\nProline:                       278  1680     746   315\\n============================= ==== ===== ======= =====\\n\\n:Missing Attribute Values: None\\n:Class Distribution: class_0 (59), class_1 (71), class_2 (48)\\n:Creator: R.A. Fisher\\n:Donor: Michael Marshall (MARSHALL%PLU@io.arc.nasa.gov)\\n:Date: July, 1988\\n\\nThis is a copy of UCI ML Wine recognition datasets.\\nhttps://archive.ics.uci.edu/ml/machine-learning-databases/wine/wine.data\\n\\nThe data is the results of a chemical analysis of wines grown in the same\\nregion in Italy by three different cultivators. There are thirteen different\\nmeasurements taken for different constituents found in the three types of\\nwine.\\n\\nOriginal Owners:\\n\\nForina, M. et al, PARVUS -\\nAn Extendible Package for Data Exploration, Classification and Correlation.\\nInstitute of Pharmaceutical and Food Analysis and Technologies,\\nVia Brigata Salerno, 16147 Genoa, Italy.\\n\\nCitation:\\n\\nLichman, M. (2013). UCI Machine Learning Repository\\n[https://archive.ics.uci.edu/ml]. Irvine, CA: University of California,\\nSchool of Information and Computer Science.\\n\\n.. dropdown:: References\\n\\n    (1) S. Aeberhard, D. Coomans and O. de Vel,\\n    Comparison of Classifiers in High Dimensional Settings,\\n    Tech. Rep. no. 92-02, (1992), Dept. of Computer Science and Dept. of\\n    Mathematics and Statistics, James Cook University of North Queensland.\\n    (Also submitted to Technometrics).\\n\\n    The data was used with many others for comparing various\\n    classifiers. The classes are separable, though only RDA\\n    has achieved 100% correct classification.\\n    (RDA : 100%, QDA 99.4%, LDA 98.9%, 1NN 96.1% (z-transformed data))\\n    (All results using the leave-one-out technique)\\n\\n    (2) S. Aeberhard, D. Coomans and O. de Vel,\\n    \"THE CLASSIFICATION PERFORMANCE OF RDA\"\\n    Tech. Rep. no. 92-01, (1992), Dept. of Computer Science and Dept. of\\n    Mathematics and Statistics, James Cook University of North Queensland.\\n    (Also submitted to Journal of Chemometrics).\\n',\n",
              " 'feature_names': ['alcohol',\n",
              "  'malic_acid',\n",
              "  'ash',\n",
              "  'alcalinity_of_ash',\n",
              "  'magnesium',\n",
              "  'total_phenols',\n",
              "  'flavanoids',\n",
              "  'nonflavanoid_phenols',\n",
              "  'proanthocyanins',\n",
              "  'color_intensity',\n",
              "  'hue',\n",
              "  'od280/od315_of_diluted_wines',\n",
              "  'proline']}"
            ]
          },
          "metadata": {},
          "execution_count": 16
        }
      ]
    },
    {
      "cell_type": "code",
      "source": [
        "oned_array = np.array([1,2,3,4,5,6])\n",
        "oned_array"
      ],
      "metadata": {
        "colab": {
          "base_uri": "https://localhost:8080/"
        },
        "id": "BeYbI0or5YiG",
        "outputId": "3ac3424b-98c4-452a-a30c-8310e3374eec"
      },
      "execution_count": 17,
      "outputs": [
        {
          "output_type": "execute_result",
          "data": {
            "text/plain": [
              "array([1, 2, 3, 4, 5, 6])"
            ]
          },
          "metadata": {},
          "execution_count": 17
        }
      ]
    },
    {
      "cell_type": "code",
      "source": [
        "oned_array[5]"
      ],
      "metadata": {
        "colab": {
          "base_uri": "https://localhost:8080/"
        },
        "id": "sdf9XY9-5dhu",
        "outputId": "8bb274b2-09a4-4f53-b685-739df95f83dd"
      },
      "execution_count": 18,
      "outputs": [
        {
          "output_type": "execute_result",
          "data": {
            "text/plain": [
              "6"
            ]
          },
          "metadata": {},
          "execution_count": 18
        }
      ]
    },
    {
      "cell_type": "code",
      "source": [
        "another_array = np.array([[1,2,3],[4,5,6],[7,8,9]])\n",
        "another_array"
      ],
      "metadata": {
        "colab": {
          "base_uri": "https://localhost:8080/"
        },
        "id": "lBOdoOr75jeW",
        "outputId": "d4d0b56d-67f5-43cf-c856-8f53e538ab5e"
      },
      "execution_count": 19,
      "outputs": [
        {
          "output_type": "execute_result",
          "data": {
            "text/plain": [
              "array([[1, 2, 3],\n",
              "       [4, 5, 6],\n",
              "       [7, 8, 9]])"
            ]
          },
          "metadata": {},
          "execution_count": 19
        }
      ]
    },
    {
      "cell_type": "code",
      "source": [
        "another_array[2]"
      ],
      "metadata": {
        "colab": {
          "base_uri": "https://localhost:8080/"
        },
        "id": "kAl4dSr-5oRO",
        "outputId": "dcf6df25-dddd-4f75-de9b-0dbd49bfeda0"
      },
      "execution_count": 20,
      "outputs": [
        {
          "output_type": "execute_result",
          "data": {
            "text/plain": [
              "array([7, 8, 9])"
            ]
          },
          "metadata": {},
          "execution_count": 20
        }
      ]
    },
    {
      "cell_type": "code",
      "source": [
        "another_array[1,1]"
      ],
      "metadata": {
        "colab": {
          "base_uri": "https://localhost:8080/"
        },
        "id": "CvV3h1_G5qw-",
        "outputId": "ebdfb054-e77f-4c07-b523-d8b2716d1cf3"
      },
      "execution_count": 21,
      "outputs": [
        {
          "output_type": "execute_result",
          "data": {
            "text/plain": [
              "5"
            ]
          },
          "metadata": {},
          "execution_count": 21
        }
      ]
    },
    {
      "cell_type": "code",
      "source": [
        "twod_array = np.array([[1,2,3,4],[5,6,7,8]])"
      ],
      "metadata": {
        "id": "00vVHkKJ5wAm"
      },
      "execution_count": 23,
      "outputs": []
    },
    {
      "cell_type": "code",
      "source": [
        "twod_array.shape"
      ],
      "metadata": {
        "colab": {
          "base_uri": "https://localhost:8080/"
        },
        "id": "fZuGiDDi51Ui",
        "outputId": "fa11e7c2-a11a-4a55-f495-bb62d3848872"
      },
      "execution_count": 24,
      "outputs": [
        {
          "output_type": "execute_result",
          "data": {
            "text/plain": [
              "(2, 4)"
            ]
          },
          "metadata": {},
          "execution_count": 24
        }
      ]
    },
    {
      "cell_type": "code",
      "source": [
        "type(twod_array)"
      ],
      "metadata": {
        "colab": {
          "base_uri": "https://localhost:8080/"
        },
        "id": "B0uaPAdD57_0",
        "outputId": "5ddc94d7-ba7c-4458-d439-4cb88171b2e5"
      },
      "execution_count": 25,
      "outputs": [
        {
          "output_type": "execute_result",
          "data": {
            "text/plain": [
              "numpy.ndarray"
            ]
          },
          "metadata": {},
          "execution_count": 25
        }
      ]
    },
    {
      "cell_type": "code",
      "source": [
        "import numpy as np\n",
        "import matplotlib.pyplot as plt"
      ],
      "metadata": {
        "id": "xoIqddL25_ol"
      },
      "execution_count": 26,
      "outputs": []
    },
    {
      "cell_type": "code",
      "source": [
        "#Define the dimensions of the image\n",
        "height = 100\n",
        "width = 100"
      ],
      "metadata": {
        "id": "b4JgOi0s6BMF"
      },
      "execution_count": 27,
      "outputs": []
    },
    {
      "cell_type": "code",
      "source": [
        "#Create a random colored image\n",
        "random_image = np.random.randint(0,256, (height, width, 3), dtype = np.uint8)"
      ],
      "metadata": {
        "id": "TIzRAFV_6EAV"
      },
      "execution_count": 28,
      "outputs": []
    },
    {
      "cell_type": "code",
      "source": [
        "#Print the matrix representing the image\n",
        "print(\"Matrix representing the image:\")\n",
        "print(random_image)"
      ],
      "metadata": {
        "colab": {
          "base_uri": "https://localhost:8080/"
        },
        "id": "hzmABDWk6J-9",
        "outputId": "1e8d6abe-fab2-4753-815c-10e9bd921caf"
      },
      "execution_count": 29,
      "outputs": [
        {
          "output_type": "stream",
          "name": "stdout",
          "text": [
            "Matrix representing the image:\n",
            "[[[107 144 200]\n",
            "  [  6 236 213]\n",
            "  [ 94 199  54]\n",
            "  ...\n",
            "  [240 168 100]\n",
            "  [162 232 168]\n",
            "  [185  81  40]]\n",
            "\n",
            " [[ 14 211 218]\n",
            "  [150 172 222]\n",
            "  [147  35 232]\n",
            "  ...\n",
            "  [206 214 201]\n",
            "  [166 105  46]\n",
            "  [  9 238 132]]\n",
            "\n",
            " [[ 70  65  33]\n",
            "  [210  40 162]\n",
            "  [144  14  56]\n",
            "  ...\n",
            "  [139 250  51]\n",
            "  [164 247  77]\n",
            "  [ 49 244 203]]\n",
            "\n",
            " ...\n",
            "\n",
            " [[115  63  23]\n",
            "  [225 104  53]\n",
            "  [115  16 255]\n",
            "  ...\n",
            "  [151 219  81]\n",
            "  [145 175 118]\n",
            "  [116 179  26]]\n",
            "\n",
            " [[174  36  21]\n",
            "  [ 89  50  53]\n",
            "  [241 101 115]\n",
            "  ...\n",
            "  [109  13  98]\n",
            "  [111  40 175]\n",
            "  [ 51  22 242]]\n",
            "\n",
            " [[128  35 137]\n",
            "  [144 203  60]\n",
            "  [183   4  56]\n",
            "  ...\n",
            "  [160 204 129]\n",
            "  [136  89 210]\n",
            "  [247  75   4]]]\n"
          ]
        }
      ]
    },
    {
      "cell_type": "code",
      "source": [
        "#Display the image\n",
        "plt.imshow(random_image)\n",
        "plt.title('Random Colored Image')\n",
        "plt.axis('off')\n",
        "plt.show()"
      ],
      "metadata": {
        "colab": {
          "base_uri": "https://localhost:8080/",
          "height": 428
        },
        "id": "0TePKN8K6QUb",
        "outputId": "784eace2-01dc-432d-a6cc-e236d6108499"
      },
      "execution_count": 30,
      "outputs": [
        {
          "output_type": "display_data",
          "data": {
            "text/plain": [
              "<Figure size 640x480 with 1 Axes>"
            ],
            "image/png": "[encoded data removed]"
          },
          "metadata": {}
        }
      ]
    },
    {
      "cell_type": "code",
      "source": [
        "plt.imshow(random_image[:2,3,:4])"
      ],
      "metadata": {
        "colab": {
          "base_uri": "https://localhost:8080/",
          "height": 413
        },
        "id": "WRGxJnHl6cGk",
        "outputId": "c8dbeb1a-283f-4455-ac06-9308b10c9ae0"
      },
      "execution_count": 31,
      "outputs": [
        {
          "output_type": "execute_result",
          "data": {
            "text/plain": [
              "<matplotlib.image.AxesImage at 0x789e57be7910>"
            ]
          },
          "metadata": {},
          "execution_count": 31
        },
        {
          "output_type": "display_data",
          "data": {
            "text/plain": [
              "<Figure size 640x480 with 1 Axes>"
            ],
            "image/png": "[encoded data removed]"
          },
          "metadata": {}
        }
      ]
    },
    {
      "cell_type": "code",
      "source": [
        "#Create a three-dimensional array\n",
        "threed_array = np.array([[[1,2,3],[4,5,6]],[[7,8,9],[10,11,12]]])\n",
        "print(threed_array)\n",
        "print(threed_array.shape)"
      ],
      "metadata": {
        "colab": {
          "base_uri": "https://localhost:8080/"
        },
        "id": "KuClY39B6hMM",
        "outputId": "ab654f02-e5d8-42b2-b860-fe36de192c90"
      },
      "execution_count": 32,
      "outputs": [
        {
          "output_type": "stream",
          "name": "stdout",
          "text": [
            "[[[ 1  2  3]\n",
            "  [ 4  5  6]]\n",
            "\n",
            " [[ 7  8  9]\n",
            "  [10 11 12]]]\n",
            "(2, 2, 3)\n"
          ]
        }
      ]
    },
    {
      "cell_type": "code",
      "source": [
        "matrix = np.random.randint(0,1,(50,50), dtype=np.uint8)\n",
        "matrix"
      ],
      "metadata": {
        "colab": {
          "base_uri": "https://localhost:8080/",
          "height": 158
        },
        "id": "gdsS-eKV6j3E",
        "outputId": "127f81c1-dcda-4dc7-84bc-9570a40cee6a"
      },
      "execution_count": 33,
      "outputs": [
        {
          "output_type": "execute_result",
          "data": {
            "text/plain": [
              "array([[0, 0, 0, ..., 0, 0, 0],\n",
              "       [0, 0, 0, ..., 0, 0, 0],\n",
              "       [0, 0, 0, ..., 0, 0, 0],\n",
              "       ...,\n",
              "       [0, 0, 0, ..., 0, 0, 0],\n",
              "       [0, 0, 0, ..., 0, 0, 0],\n",
              "       [0, 0, 0, ..., 0, 0, 0]], dtype=uint8)"
            ],
            "text/html": [
              "<style>\n",
              "      .ndarray_repr .ndarray_raw_data {\n",
              "        display: none;\n",
              "      }\n",
              "      .ndarray_repr.show_array .ndarray_raw_data {\n",
              "        display: block;\n",
              "      }\n",
              "      .ndarray_repr.show_array .ndarray_image_preview {\n",
              "        display: none;\n",
              "      }\n",
              "      </style>\n",
              "      <div id=\"id-dd674eca-73db-4f28-9542-335cd5d91427\" class=\"ndarray_repr\"><pre>ndarray (50, 50) <button style=\"padding: 0 2px;\">show data</button></pre><img src=\"data:image/png;base64,iVBORw0KGgoAAAANSUhEUgAAADIAAAAyCAAAAAA7VNdtAAAAGUlEQVR4nO3BAQ0AAADCoPdPbQ8HFAAA/wYJ9gAByjRWDQAAAABJRU5ErkJggg==\" class=\"ndarray_image_preview\" /><pre class=\"ndarray_raw_data\">array([[0, 0, 0, ..., 0, 0, 0],\n",
              "       [0, 0, 0, ..., 0, 0, 0],\n",
              "       [0, 0, 0, ..., 0, 0, 0],\n",
              "       ...,\n",
              "       [0, 0, 0, ..., 0, 0, 0],\n",
              "       [0, 0, 0, ..., 0, 0, 0],\n",
              "       [0, 0, 0, ..., 0, 0, 0]], dtype=uint8)</pre></div><script>\n",
              "      (() => {\n",
              "      const titles = ['show data', 'hide data'];\n",
              "      let index = 0\n",
              "      document.querySelector('#id-dd674eca-73db-4f28-9542-335cd5d91427 button').onclick = (e) => {\n",
              "        document.querySelector('#id-dd674eca-73db-4f28-9542-335cd5d91427').classList.toggle('show_array');\n",
              "        index = (++index) % 2;\n",
              "        document.querySelector('#id-dd674eca-73db-4f28-9542-335cd5d91427 button').textContent = titles[index];\n",
              "        e.preventDefault();\n",
              "        e.stopPropagation();\n",
              "      }\n",
              "      })();\n",
              "    </script>"
            ]
          },
          "metadata": {},
          "execution_count": 33
        }
      ]
    },
    {
      "cell_type": "code",
      "source": [
        "matrix.shape"
      ],
      "metadata": {
        "colab": {
          "base_uri": "https://localhost:8080/"
        },
        "id": "1PFls_3K6tHZ",
        "outputId": "7e1c6421-1416-4c62-acdb-7915d1caecc7"
      },
      "execution_count": 35,
      "outputs": [
        {
          "output_type": "execute_result",
          "data": {
            "text/plain": [
              "(50, 50)"
            ]
          },
          "metadata": {},
          "execution_count": 35
        }
      ]
    },
    {
      "cell_type": "code",
      "source": [
        "\n",
        "import numpy as np\n",
        "import matplotlib.pyplot as plt"
      ],
      "metadata": {
        "id": "Uh9Wgu7a6xVc"
      },
      "execution_count": 36,
      "outputs": []
    },
    {
      "cell_type": "code",
      "source": [
        "\n",
        "plt.imshow(matrix[:,] )\n",
        "plt.axis('off')\n",
        "plt.show()"
      ],
      "metadata": {
        "colab": {
          "base_uri": "https://localhost:8080/",
          "height": 406
        },
        "id": "aOt9krKg6mkr",
        "outputId": "ad4127fc-af45-4cc6-dca0-0316facb1594"
      },
      "execution_count": 34,
      "outputs": [
        {
          "output_type": "display_data",
          "data": {
            "text/plain": [
              "<Figure size 640x480 with 1 Axes>"
            ],
            "image/png": "[encoded data removed]"
          },
          "metadata": {}
        }
      ]
    },
    {
      "cell_type": "code",
      "source": [
        "#Define dimensions of the image\n",
        "height=100\n",
        "width=100"
      ],
      "metadata": {
        "id": "6h92qJqg61KZ"
      },
      "execution_count": 37,
      "outputs": []
    },
    {
      "cell_type": "code",
      "source": [
        "#Create a 2d numpy array filled with zeros(black pixels)\n",
        "black_image = np.random.binomial(2,0.5,(height,width))"
      ],
      "metadata": {
        "id": "qcQC26xn666j"
      },
      "execution_count": 38,
      "outputs": []
    },
    {
      "cell_type": "code",
      "source": [
        "#Display the black image\n",
        "plt.imshow(black_image, cmap='gray')\n",
        "plt.axis('off')\n",
        "plt.show()"
      ],
      "metadata": {
        "colab": {
          "base_uri": "https://localhost:8080/",
          "height": 406
        },
        "id": "suokItON68dL",
        "outputId": "8a28f62f-c46f-4b11-957a-2df5f9e03a14"
      },
      "execution_count": 39,
      "outputs": [
        {
          "output_type": "display_data",
          "data": {
            "text/plain": [
              "<Figure size 640x480 with 1 Axes>"
            ],
            "image/png": "[encoded data removed]"
          },
          "metadata": {}
        }
      ]
    },
    {
      "cell_type": "code",
      "source": [
        "import numpy as np\n",
        "import matplotlib.pyplot as plt"
      ],
      "metadata": {
        "id": "IBOeNmGQ6_Sj"
      },
      "execution_count": 41,
      "outputs": []
    },
    {
      "cell_type": "code",
      "source": [
        "#Define dimensions of the matrix\n",
        "height = 20\n",
        "width = 20"
      ],
      "metadata": {
        "id": "oItq84xW7RRy"
      },
      "execution_count": 43,
      "outputs": []
    },
    {
      "cell_type": "code",
      "source": [
        "#Generate a 3d matrix of random numbers\n",
        "matrix = np.random.randint(250,255,(height, width), dtype=np.uint8)"
      ],
      "metadata": {
        "id": "AU5I6tRI7iW5"
      },
      "execution_count": 44,
      "outputs": []
    },
    {
      "cell_type": "code",
      "source": [
        "#Display the image\n",
        "plt.imshow(matrix[:,:])\n",
        "plt.axis('off')"
      ],
      "metadata": {
        "colab": {
          "base_uri": "https://localhost:8080/",
          "height": 423
        },
        "id": "g0FJc6Tp7nex",
        "outputId": "0ab97d2a-9e2a-4ca5-9bc6-dd4244cbcd45"
      },
      "execution_count": 47,
      "outputs": [
        {
          "output_type": "execute_result",
          "data": {
            "text/plain": [
              "(-0.5, 19.5, 19.5, -0.5)"
            ]
          },
          "metadata": {},
          "execution_count": 47
        },
        {
          "output_type": "display_data",
          "data": {
            "text/plain": [
              "<Figure size 640x480 with 1 Axes>"
            ],
            "image/png": "[encoded data removed]"
          },
          "metadata": {}
        }
      ]
    },
    {
      "cell_type": "code",
      "source": [
        "matrix.shape"
      ],
      "metadata": {
        "colab": {
          "base_uri": "https://localhost:8080/"
        },
        "id": "VyHbNAtj7yQ3",
        "outputId": "4ace65aa-8f6e-4852-99ce-01f61c39b3f5"
      },
      "execution_count": 48,
      "outputs": [
        {
          "output_type": "execute_result",
          "data": {
            "text/plain": [
              "(20, 20)"
            ]
          },
          "metadata": {},
          "execution_count": 48
        }
      ]
    },
    {
      "cell_type": "code",
      "source": [
        "matrix"
      ],
      "metadata": {
        "colab": {
          "base_uri": "https://localhost:8080/",
          "height": 60
        },
        "id": "1nMqPAX37rmK",
        "outputId": "c1f48ed3-66fb-4c40-a9bf-04dbd1bd59a1"
      },
      "execution_count": 46,
      "outputs": [
        {
          "output_type": "execute_result",
          "data": {
            "text/plain": [
              "array([[252, 253, 251, 254, 254, 253, 251, 251, 252, 252, 252, 254, 250,\n",
              "        253, 251, 254, 253, 252, 251, 254],\n",
              "       [252, 253, 251, 253, 250, 254, 253, 251, 250, 252, 251, 251, 250,\n",
              "        254, 250, 252, 253, 250, 254, 252],\n",
              "       [253, 250, 254, 252, 251, 250, 251, 250, 251, 254, 253, 253, 251,\n",
              "        250, 251, 251, 253, 253, 252, 251],\n",
              "       [252, 253, 251, 253, 251, 252, 251, 250, 250, 250, 250, 253, 253,\n",
              "        250, 254, 251, 250, 253, 251, 252],\n",
              "       [251, 251, 250, 253, 250, 251, 252, 251, 254, 254, 251, 251, 252,\n",
              "        251, 253, 252, 252, 252, 251, 253],\n",
              "       [250, 250, 252, 250, 250, 252, 250, 254, 253, 251, 252, 253, 250,\n",
              "        254, 250, 250, 254, 254, 252, 252],\n",
              "       [252, 250, 254, 254, 252, 250, 251, 253, 251, 254, 251, 252, 252,\n",
              "        252, 250, 251, 252, 254, 253, 253],\n",
              "       [251, 251, 252, 250, 254, 251, 250, 254, 254, 254, 250, 254, 253,\n",
              "        253, 251, 253, 254, 253, 253, 253],\n",
              "       [254, 254, 250, 250, 251, 252, 254, 251, 252, 254, 250, 251, 254,\n",
              "        253, 250, 254, 251, 253, 251, 251],\n",
              "       [250, 251, 254, 252, 250, 251, 252, 251, 250, 253, 252, 251, 253,\n",
              "        254, 253, 254, 254, 252, 252, 254],\n",
              "       [254, 254, 252, 250, 254, 251, 250, 254, 254, 253, 250, 250, 253,\n",
              "        250, 250, 254, 251, 254, 254, 250],\n",
              "       [251, 252, 250, 252, 251, 253, 252, 253, 250, 252, 252, 250, 250,\n",
              "        254, 251, 251, 250, 251, 252, 250],\n",
              "       [253, 250, 253, 251, 252, 254, 252, 254, 253, 251, 253, 252, 252,\n",
              "        250, 250, 253, 254, 254, 251, 250],\n",
              "       [254, 253, 254, 253, 254, 253, 254, 251, 254, 254, 254, 254, 250,\n",
              "        252, 251, 254, 254, 251, 251, 252],\n",
              "       [252, 251, 253, 253, 253, 250, 253, 251, 254, 251, 253, 251, 254,\n",
              "        252, 253, 250, 254, 251, 254, 253],\n",
              "       [252, 253, 250, 253, 254, 254, 252, 253, 250, 251, 250, 250, 252,\n",
              "        250, 250, 252, 254, 254, 251, 253],\n",
              "       [251, 250, 254, 250, 251, 254, 251, 251, 252, 253, 253, 254, 251,\n",
              "        254, 253, 253, 252, 254, 253, 251],\n",
              "       [251, 250, 253, 254, 250, 251, 250, 254, 253, 254, 250, 251, 250,\n",
              "        253, 251, 251, 253, 254, 254, 251],\n",
              "       [253, 250, 252, 252, 253, 253, 254, 253, 253, 252, 254, 251, 254,\n",
              "        251, 254, 252, 252, 253, 253, 253],\n",
              "       [251, 250, 252, 250, 251, 250, 252, 250, 253, 253, 253, 251, 251,\n",
              "        250, 252, 252, 251, 250, 254, 251]], dtype=uint8)"
            ],
            "text/html": [
              "<style>\n",
              "      .ndarray_repr .ndarray_raw_data {\n",
              "        display: none;\n",
              "      }\n",
              "      .ndarray_repr.show_array .ndarray_raw_data {\n",
              "        display: block;\n",
              "      }\n",
              "      .ndarray_repr.show_array .ndarray_image_preview {\n",
              "        display: none;\n",
              "      }\n",
              "      </style>\n",
              "      <div id=\"id-fcd42827-d6e8-4bcd-976c-608fc30f1438\" class=\"ndarray_repr\"><pre>ndarray (20, 20) <button style=\"padding: 0 2px;\">show data</button></pre><img src=\"data:image/png;base64,iVBORw0KGgoAAAANSUhEUgAAABQAAAAUCAAAAACo4kLRAAAAuklEQVR4nCXRwUEAQRACwYbZ/APWA3xYKZQ+9VgR+LvetjOwT6YsaKVXJa+bphudMJt3EYZ9wRxhetsY4kilSUPeHNRb5F5qazZ+rtbbXFSkN7Vv07Ebsga+K9FLIWIKrX50rbTdZk0Uq7QveyxceDk+/aqep5jywqQqucr16lFOZOo0TTng844gt2MZZHn4g5M+5UQVDRebWL97ny5IKDfm1bC37KRka4VQYoTGnMv9FxTaNGhkZVH/AKCWs8GSl0KMAAAAAElFTkSuQmCC\" class=\"ndarray_image_preview\" /><pre class=\"ndarray_raw_data\">array([[252, 253, 251, 254, 254, 253, 251, 251, 252, 252, 252, 254, 250,\n",
              "        253, 251, 254, 253, 252, 251, 254],\n",
              "       [252, 253, 251, 253, 250, 254, 253, 251, 250, 252, 251, 251, 250,\n",
              "        254, 250, 252, 253, 250, 254, 252],\n",
              "       [253, 250, 254, 252, 251, 250, 251, 250, 251, 254, 253, 253, 251,\n",
              "        250, 251, 251, 253, 253, 252, 251],\n",
              "       [252, 253, 251, 253, 251, 252, 251, 250, 250, 250, 250, 253, 253,\n",
              "        250, 254, 251, 250, 253, 251, 252],\n",
              "       [251, 251, 250, 253, 250, 251, 252, 251, 254, 254, 251, 251, 252,\n",
              "        251, 253, 252, 252, 252, 251, 253],\n",
              "       [250, 250, 252, 250, 250, 252, 250, 254, 253, 251, 252, 253, 250,\n",
              "        254, 250, 250, 254, 254, 252, 252],\n",
              "       [252, 250, 254, 254, 252, 250, 251, 253, 251, 254, 251, 252, 252,\n",
              "        252, 250, 251, 252, 254, 253, 253],\n",
              "       [251, 251, 252, 250, 254, 251, 250, 254, 254, 254, 250, 254, 253,\n",
              "        253, 251, 253, 254, 253, 253, 253],\n",
              "       [254, 254, 250, 250, 251, 252, 254, 251, 252, 254, 250, 251, 254,\n",
              "        253, 250, 254, 251, 253, 251, 251],\n",
              "       [250, 251, 254, 252, 250, 251, 252, 251, 250, 253, 252, 251, 253,\n",
              "        254, 253, 254, 254, 252, 252, 254],\n",
              "       [254, 254, 252, 250, 254, 251, 250, 254, 254, 253, 250, 250, 253,\n",
              "        250, 250, 254, 251, 254, 254, 250],\n",
              "       [251, 252, 250, 252, 251, 253, 252, 253, 250, 252, 252, 250, 250,\n",
              "        254, 251, 251, 250, 251, 252, 250],\n",
              "       [253, 250, 253, 251, 252, 254, 252, 254, 253, 251, 253, 252, 252,\n",
              "        250, 250, 253, 254, 254, 251, 250],\n",
              "       [254, 253, 254, 253, 254, 253, 254, 251, 254, 254, 254, 254, 250,\n",
              "        252, 251, 254, 254, 251, 251, 252],\n",
              "       [252, 251, 253, 253, 253, 250, 253, 251, 254, 251, 253, 251, 254,\n",
              "        252, 253, 250, 254, 251, 254, 253],\n",
              "       [252, 253, 250, 253, 254, 254, 252, 253, 250, 251, 250, 250, 252,\n",
              "        250, 250, 252, 254, 254, 251, 253],\n",
              "       [251, 250, 254, 250, 251, 254, 251, 251, 252, 253, 253, 254, 251,\n",
              "        254, 253, 253, 252, 254, 253, 251],\n",
              "       [251, 250, 253, 254, 250, 251, 250, 254, 253, 254, 250, 251, 250,\n",
              "        253, 251, 251, 253, 254, 254, 251],\n",
              "       [253, 250, 252, 252, 253, 253, 254, 253, 253, 252, 254, 251, 254,\n",
              "        251, 254, 252, 252, 253, 253, 253],\n",
              "       [251, 250, 252, 250, 251, 250, 252, 250, 253, 253, 253, 251, 251,\n",
              "        250, 252, 252, 251, 250, 254, 251]], dtype=uint8)</pre></div><script>\n",
              "      (() => {\n",
              "      const titles = ['show data', 'hide data'];\n",
              "      let index = 0\n",
              "      document.querySelector('#id-fcd42827-d6e8-4bcd-976c-608fc30f1438 button').onclick = (e) => {\n",
              "        document.querySelector('#id-fcd42827-d6e8-4bcd-976c-608fc30f1438').classList.toggle('show_array');\n",
              "        index = (++index) % 2;\n",
              "        document.querySelector('#id-fcd42827-d6e8-4bcd-976c-608fc30f1438 button').textContent = titles[index];\n",
              "        e.preventDefault();\n",
              "        e.stopPropagation();\n",
              "      }\n",
              "      })();\n",
              "    </script>"
            ]
          },
          "metadata": {},
          "execution_count": 46
        }
      ]
    },
    {
      "cell_type": "code",
      "source": [
        "matrix.size"
      ],
      "metadata": {
        "colab": {
          "base_uri": "https://localhost:8080/"
        },
        "id": "tFocLDpe74E4",
        "outputId": "4d90965f-52e9-48c9-c7d4-f38d26fe8251"
      },
      "execution_count": 49,
      "outputs": [
        {
          "output_type": "execute_result",
          "data": {
            "text/plain": [
              "400"
            ]
          },
          "metadata": {},
          "execution_count": 49
        }
      ]
    },
    {
      "cell_type": "code",
      "source": [
        "matrix[1:5,1:5,]"
      ],
      "metadata": {
        "colab": {
          "base_uri": "https://localhost:8080/"
        },
        "id": "JGt5G2bq8A6o",
        "outputId": "68417e5d-5def-4a6c-b68a-bba20bfea5b4"
      },
      "execution_count": 50,
      "outputs": [
        {
          "output_type": "execute_result",
          "data": {
            "text/plain": [
              "array([[253, 251, 253, 250],\n",
              "       [250, 254, 252, 251],\n",
              "       [253, 251, 253, 251],\n",
              "       [251, 250, 253, 250]], dtype=uint8)"
            ]
          },
          "metadata": {},
          "execution_count": 50
        }
      ]
    },
    {
      "cell_type": "code",
      "source": [
        "matrix.shape"
      ],
      "metadata": {
        "colab": {
          "base_uri": "https://localhost:8080/"
        },
        "id": "0QwJWSXD8CW-",
        "outputId": "c5734847-56e9-42ad-dd06-3548e5894e98"
      },
      "execution_count": 51,
      "outputs": [
        {
          "output_type": "execute_result",
          "data": {
            "text/plain": [
              "(20, 20)"
            ]
          },
          "metadata": {},
          "execution_count": 51
        }
      ]
    },
    {
      "cell_type": "code",
      "source": [
        "#ndarray.shape\n",
        "alma_array = np.array([[1,2,3,4],[5,6,7,8]])\n",
        "print(alma_array.shape)"
      ],
      "metadata": {
        "colab": {
          "base_uri": "https://localhost:8080/"
        },
        "id": "-_Q_54UT8IXS",
        "outputId": "d1bb9838-c974-484d-b54f-b0fb5bd80653"
      },
      "execution_count": 52,
      "outputs": [
        {
          "output_type": "stream",
          "name": "stdout",
          "text": [
            "(2, 4)\n"
          ]
        }
      ]
    },
    {
      "cell_type": "code",
      "source": [
        "alma_array.ndim"
      ],
      "metadata": {
        "colab": {
          "base_uri": "https://localhost:8080/"
        },
        "id": "Ezy3MJN78Mmw",
        "outputId": "7765a817-4381-4be6-b767-2d5175137620"
      },
      "execution_count": 53,
      "outputs": [
        {
          "output_type": "execute_result",
          "data": {
            "text/plain": [
              "2"
            ]
          },
          "metadata": {},
          "execution_count": 53
        }
      ]
    },
    {
      "cell_type": "code",
      "source": [
        "alma_array = np.array ([[1,2,3,4],[5,6,7,8]])\n",
        "print(alma_array.shape)"
      ],
      "metadata": {
        "colab": {
          "base_uri": "https://localhost:8080/"
        },
        "id": "wa73nbdn8QSw",
        "outputId": "43678ec0-182e-49d1-cab3-6819827d0e26"
      },
      "execution_count": 54,
      "outputs": [
        {
          "output_type": "stream",
          "name": "stdout",
          "text": [
            "(2, 4)\n"
          ]
        }
      ]
    },
    {
      "cell_type": "code",
      "source": [
        "print(alma_array.shape)"
      ],
      "metadata": {
        "colab": {
          "base_uri": "https://localhost:8080/"
        },
        "id": "Y1RbAwYS8RjH",
        "outputId": "9c9cada2-e221-42f1-eb37-70623772e0f0"
      },
      "execution_count": 55,
      "outputs": [
        {
          "output_type": "stream",
          "name": "stdout",
          "text": [
            "(2, 4)\n"
          ]
        }
      ]
    },
    {
      "cell_type": "code",
      "source": [
        "alma_array"
      ],
      "metadata": {
        "colab": {
          "base_uri": "https://localhost:8080/"
        },
        "id": "3RmmMOrr8Vvo",
        "outputId": "6a781294-165c-4a51-8fb5-6755677748fd"
      },
      "execution_count": 56,
      "outputs": [
        {
          "output_type": "execute_result",
          "data": {
            "text/plain": [
              "array([[1, 2, 3, 4],\n",
              "       [5, 6, 7, 8]])"
            ]
          },
          "metadata": {},
          "execution_count": 56
        }
      ]
    },
    {
      "cell_type": "code",
      "source": [
        "#ndarray.ndim\n",
        "array_of_integers = np.array([1,2,3,4,5,6,7,8,9])\n",
        "print(\"dimension of 'array_of_integers' = \", array_of_integers.ndim)"
      ],
      "metadata": {
        "colab": {
          "base_uri": "https://localhost:8080/"
        },
        "id": "hliCSi9s8W7v",
        "outputId": "6ea98790-6a74-467f-a1d1-30657ba7c9f5"
      },
      "execution_count": 57,
      "outputs": [
        {
          "output_type": "stream",
          "name": "stdout",
          "text": [
            "dimension of 'array_of_integers' =  1\n"
          ]
        }
      ]
    },
    {
      "cell_type": "code",
      "source": [
        "sample_2d_array = np.array([[1,2,3,4],[5,6,7,8]])\n",
        "print(\"dimension of 'sample_2d_array' = \", sample_2d_array.ndim)"
      ],
      "metadata": {
        "colab": {
          "base_uri": "https://localhost:8080/"
        },
        "id": "DKaVmSJ68bZX",
        "outputId": "1062bcce-a47c-4a1c-a745-1f9e9f9eaaf5"
      },
      "execution_count": 58,
      "outputs": [
        {
          "output_type": "stream",
          "name": "stdout",
          "text": [
            "dimension of 'sample_2d_array' =  2\n"
          ]
        }
      ]
    },
    {
      "cell_type": "code",
      "source": [
        "\n",
        "#ndarray.size\n",
        "array_of_integers = np.array([1,2,3,4,5,6,7,8,9])\n",
        "print(f\"The total number of elements in 'array_of_integers' = {array_of_integers.size}\")"
      ],
      "metadata": {
        "colab": {
          "base_uri": "https://localhost:8080/"
        },
        "id": "yn2v-COJ8n1X",
        "outputId": "6076a57c-795d-4a3e-e5fc-85189753a459"
      },
      "execution_count": 59,
      "outputs": [
        {
          "output_type": "stream",
          "name": "stdout",
          "text": [
            "The total number of elements in 'array_of_integers' = 9\n"
          ]
        }
      ]
    },
    {
      "cell_type": "code",
      "source": [
        "sample_2d_array = np.array([[1,2,3,4],[5,6,7,8]])\n",
        "print(f\"The total number of elements in 'sample_2d_array' = {sample_2d_array.size}\")"
      ],
      "metadata": {
        "colab": {
          "base_uri": "https://localhost:8080/"
        },
        "id": "H90S3hG986Du",
        "outputId": "f8186f26-2470-4d6e-8b14-84bbe8e22504"
      },
      "execution_count": 60,
      "outputs": [
        {
          "output_type": "stream",
          "name": "stdout",
          "text": [
            "The total number of elements in 'sample_2d_array' = 8\n"
          ]
        }
      ]
    },
    {
      "cell_type": "code",
      "source": [
        "#ndarray.dtype\n",
        "my_array = np.array([1,2,3,4,5])\n",
        "print(my_array.dtype)\n",
        ""
      ],
      "metadata": {
        "colab": {
          "base_uri": "https://localhost:8080/"
        },
        "id": "ngRKrSYW9B4I",
        "outputId": "40274b12-48da-499c-a3f5-e081609f5711"
      },
      "execution_count": 61,
      "outputs": [
        {
          "output_type": "stream",
          "name": "stdout",
          "text": [
            "int64\n"
          ]
        }
      ]
    },
    {
      "cell_type": "code",
      "source": [
        "my_list = [1,2,3,4,5,6,'v']\n",
        "my_list"
      ],
      "metadata": {
        "colab": {
          "base_uri": "https://localhost:8080/"
        },
        "id": "3wAjCdY79KxF",
        "outputId": "b7e3ee03-8718-407d-98f5-2126db2843bc"
      },
      "execution_count": 62,
      "outputs": [
        {
          "output_type": "execute_result",
          "data": {
            "text/plain": [
              "[1, 2, 3, 4, 5, 6, 'v']"
            ]
          },
          "metadata": {},
          "execution_count": 62
        }
      ]
    },
    {
      "cell_type": "code",
      "source": [
        "#Print the datatype of another array\n",
        "my_array = np.array([0,1,2,3,4,5])\n",
        "print(my_array.dtype)"
      ],
      "metadata": {
        "colab": {
          "base_uri": "https://localhost:8080/"
        },
        "id": "8LJK5jLl9Rv1",
        "outputId": "a9c6376d-4577-4322-a4ee-2bc2850f679a"
      },
      "execution_count": 63,
      "outputs": [
        {
          "output_type": "stream",
          "name": "stdout",
          "text": [
            "int64\n"
          ]
        }
      ]
    },
    {
      "cell_type": "code",
      "source": [
        "my_array = np.array(['v','bbb','ccc'])\n",
        "print(my_array.dtype)"
      ],
      "metadata": {
        "colab": {
          "base_uri": "https://localhost:8080/"
        },
        "id": "8SpZtW219WLd",
        "outputId": "fd231259-5db4-40a4-beb3-dde48f11cc46"
      },
      "execution_count": 64,
      "outputs": [
        {
          "output_type": "stream",
          "name": "stdout",
          "text": [
            "<U3\n"
          ]
        }
      ]
    },
    {
      "cell_type": "code",
      "source": [
        "#ndarray.astype\n",
        "my_array = np.array([1,2,3,4,5])\n",
        "print(my_array)\n",
        "print(my_array.dtype)"
      ],
      "metadata": {
        "colab": {
          "base_uri": "https://localhost:8080/"
        },
        "id": "QbJnkebC9ZB-",
        "outputId": "f0c179c8-71c8-4bc1-d75d-5fbf3bfcdc32"
      },
      "execution_count": 65,
      "outputs": [
        {
          "output_type": "stream",
          "name": "stdout",
          "text": [
            "[1 2 3 4 5]\n",
            "int64\n"
          ]
        }
      ]
    },
    {
      "cell_type": "code",
      "source": [
        "#Change the datatype of the array to float\n",
        "my_array = my_array.astype(np.float64)\n",
        "print(my_array)\n",
        "print(my_array.dtype)"
      ],
      "metadata": {
        "colab": {
          "base_uri": "https://localhost:8080/"
        },
        "id": "VZknKmN89gzx",
        "outputId": "040a8759-deb7-43ff-cf74-cb4ede4c4dc8"
      },
      "execution_count": 66,
      "outputs": [
        {
          "output_type": "stream",
          "name": "stdout",
          "text": [
            "[1. 2. 3. 4. 5.]\n",
            "float64\n"
          ]
        }
      ]
    },
    {
      "cell_type": "code",
      "source": [
        "#Change the datatype of the array to string\n",
        "my_array = my_array.astype('string_')\n",
        "print(my_array)\n",
        "print(my_array.dtype)"
      ],
      "metadata": {
        "colab": {
          "base_uri": "https://localhost:8080/"
        },
        "id": "ESRXTiWr9jqM",
        "outputId": "70993004-532a-4ac9-b3b4-4b74be4a2b46"
      },
      "execution_count": 67,
      "outputs": [
        {
          "output_type": "stream",
          "name": "stdout",
          "text": [
            "[b'1.0' b'2.0' b'3.0' b'4.0' b'5.0']\n",
            "|S32\n"
          ]
        }
      ]
    },
    {
      "cell_type": "code",
      "source": [
        "#Memory\n",
        "import numpy as np\n",
        "import sys"
      ],
      "metadata": {
        "id": "8fqGpC_E95er"
      },
      "execution_count": 68,
      "outputs": []
    },
    {
      "cell_type": "code",
      "source": [
        "#Declaring a list of 10 elements\n",
        "s = [9,8,7,6,5,4,3,2,1]\n",
        "print(\"size of each element of list in bytes: \", sys.getsizeof(s))\n",
        "print(\"size of the whole list in bytes: \", sys.getsizeof(s)*len(s))"
      ],
      "metadata": {
        "colab": {
          "base_uri": "https://localhost:8080/"
        },
        "id": "AE365p5098fT",
        "outputId": "863c5f3e-7d5c-40b7-b7f8-a1ce0f8767a7"
      },
      "execution_count": 69,
      "outputs": [
        {
          "output_type": "stream",
          "name": "stdout",
          "text": [
            "size of each element of list in bytes:  136\n",
            "size of the whole list in bytes:  1224\n"
          ]
        }
      ]
    },
    {
      "cell_type": "code",
      "source": [
        "#Declaring a numpy array of 10 elements\n",
        "d = np.array([9,8,7,6,5,4,3,2,1])\n",
        "print(\"size of each element of the numpy array in bytes: \", d.itemsize)\n",
        "print(\"size of the whole numpy array in bytes: \", d.size*d.itemsize)"
      ],
      "metadata": {
        "colab": {
          "base_uri": "https://localhost:8080/"
        },
        "id": "7qTmc5uX-Dtc",
        "outputId": "95dd605d-f7a5-43c4-a869-474d0eda0d16"
      },
      "execution_count": 70,
      "outputs": [
        {
          "output_type": "stream",
          "name": "stdout",
          "text": [
            "size of each element of the numpy array in bytes:  8\n",
            "size of the whole numpy array in bytes:  72\n"
          ]
        }
      ]
    },
    {
      "cell_type": "code",
      "source": [
        "[(a*b) for a,b in zip([1,2,3],[4,5,6])]"
      ],
      "metadata": {
        "colab": {
          "base_uri": "https://localhost:8080/"
        },
        "id": "Gxjh6lxe-Eyj",
        "outputId": "774739f0-b296-40aa-ad15-ac16b0c2f92c"
      },
      "execution_count": 71,
      "outputs": [
        {
          "output_type": "execute_result",
          "data": {
            "text/plain": [
              "[4, 10, 18]"
            ]
          },
          "metadata": {},
          "execution_count": 71
        }
      ]
    },
    {
      "cell_type": "code",
      "source": [
        "import numpy as np\n",
        "import time"
      ],
      "metadata": {
        "id": "KmmiGFhy-MbI"
      },
      "execution_count": 72,
      "outputs": []
    },
    {
      "cell_type": "code",
      "source": [
        "#Size of arrays and lists\n",
        "size = 5000"
      ],
      "metadata": {
        "id": "cH0_hpiY-Sqq"
      },
      "execution_count": 73,
      "outputs": []
    },
    {
      "cell_type": "code",
      "source": [
        "#Declaring lists\n",
        "list1 = range(size)\n",
        "list2 = range(size)"
      ],
      "metadata": {
        "id": "KSZLtY4J-Wji"
      },
      "execution_count": 74,
      "outputs": []
    },
    {
      "cell_type": "code",
      "source": [
        "#Declaring arrays\n",
        "array1 = np.arange(size)\n",
        "array2 = np.arange(size)"
      ],
      "metadata": {
        "id": "1uB6S74p-YLI"
      },
      "execution_count": 75,
      "outputs": []
    },
    {
      "cell_type": "code",
      "source": [
        "#Capturing time before the multiplication of python lists\n",
        "initialTime = time.time()"
      ],
      "metadata": {
        "id": "EBsoWqJY-g7i"
      },
      "execution_count": 76,
      "outputs": []
    },
    {
      "cell_type": "code",
      "source": [
        "#Multiplying elements of both the lists and stored in another list\n",
        "resultantList = [(a*b) for a,b in zip(list1, list2)]"
      ],
      "metadata": {
        "id": "LRgFZQS1-kF6"
      },
      "execution_count": 77,
      "outputs": []
    },
    {
      "cell_type": "code",
      "source": [
        "#Calculating execution time\n",
        "print(\"time taken by lists to perform multiplication: \",\n",
        " (time.time() - initialTime)*1000,\n",
        " \"seconds\")"
      ],
      "metadata": {
        "colab": {
          "base_uri": "https://localhost:8080/"
        },
        "id": "K25Nij7f-ogh",
        "outputId": "99f29a86-fb2d-4a3f-cde0-57617446f87a"
      },
      "execution_count": 78,
      "outputs": [
        {
          "output_type": "stream",
          "name": "stdout",
          "text": [
            "time taken by lists to perform multiplication:  29778.745889663696 seconds\n"
          ]
        }
      ]
    },
    {
      "cell_type": "code",
      "source": [
        "#Capturing time before the multiplication of numpy arrays\n",
        "import time\n",
        "initialTime = time.time()"
      ],
      "metadata": {
        "id": "vpMbWSYk-prQ"
      },
      "execution_count": 79,
      "outputs": []
    },
    {
      "cell_type": "code",
      "source": [
        "#multiplying elements of both the numpy arrays and stored in another numpy array\n",
        "resultantArray = array1 * array2"
      ],
      "metadata": {
        "id": "E5qT8WW0-2HU"
      },
      "execution_count": 80,
      "outputs": []
    },
    {
      "cell_type": "code",
      "source": [
        "#Calculating execution time\n",
        "print(\"time taken by numpy arrays to perform multiplication\",\n",
        "      (time.time() - initialTime)*1000,\n",
        "      \"seconds\")"
      ],
      "metadata": {
        "colab": {
          "base_uri": "https://localhost:8080/"
        },
        "id": "kojaC3Fb-5Fg",
        "outputId": "d041d8ef-f148-41cd-ab4e-ab1c3cc8d305"
      },
      "execution_count": 81,
      "outputs": [
        {
          "output_type": "stream",
          "name": "stdout",
          "text": [
            "time taken by numpy arrays to perform multiplication 28035.001277923584 seconds\n"
          ]
        }
      ]
    },
    {
      "cell_type": "code",
      "source": [
        "words = ['apple', 'banana', 'cherry', 'date', 'elderberry']"
      ],
      "metadata": {
        "id": "Gsfc6_i---aU"
      },
      "execution_count": 82,
      "outputs": []
    },
    {
      "cell_type": "code",
      "source": [
        "#Capturing time before the multiplication of numpy arrays\n",
        "initialTime = time.time()"
      ],
      "metadata": {
        "id": "3hFUY0-x_A-4"
      },
      "execution_count": 83,
      "outputs": []
    },
    {
      "cell_type": "code",
      "source": [
        "#Multiplying elements of both the numpy arrays and stored in another numpy array\n",
        "resultantArray = [word for word in words if len(word)>4]"
      ],
      "metadata": {
        "id": "jMCVvSPx_KZR"
      },
      "execution_count": 84,
      "outputs": []
    },
    {
      "cell_type": "code",
      "source": [
        "#Calculating execution time\n",
        "print(\"time taken by numpy arrays to perform multiplication\",\n",
        "      (time.time() - initialTime)*1000,\n",
        "      \"seconds\")"
      ],
      "metadata": {
        "colab": {
          "base_uri": "https://localhost:8080/"
        },
        "id": "Tb6lVfyR_Or4",
        "outputId": "235cf057-91b1-4024-c0fa-53c57c6dbcf7"
      },
      "execution_count": 85,
      "outputs": [
        {
          "output_type": "stream",
          "name": "stdout",
          "text": [
            "time taken by numpy arrays to perform multiplication 41966.68100357056 seconds\n"
          ]
        }
      ]
    },
    {
      "cell_type": "code",
      "source": [
        "#Functionality\n",
        "import numpy as np"
      ],
      "metadata": {
        "id": "ENUQ83Uc_SHg"
      },
      "execution_count": 86,
      "outputs": []
    },
    {
      "cell_type": "code",
      "source": [
        "#Declaring a list\n",
        "list = [1,2,3,4]"
      ],
      "metadata": {
        "id": "eBY-2j2S_VsX"
      },
      "execution_count": 88,
      "outputs": []
    },
    {
      "cell_type": "code",
      "source": [
        "#Converting the list into a numpy array\n",
        "arr = np.array(list)"
      ],
      "metadata": {
        "id": "Mmt9h58K_cV6"
      },
      "execution_count": 89,
      "outputs": []
    },
    {
      "cell_type": "code",
      "source": [
        "list = list + [7]"
      ],
      "metadata": {
        "id": "A1jNMniv_deH"
      },
      "execution_count": 90,
      "outputs": []
    },
    {
      "cell_type": "code",
      "source": [
        "list.append(8)"
      ],
      "metadata": {
        "id": "Oq_J8GEU_r_v"
      },
      "execution_count": 91,
      "outputs": []
    },
    {
      "cell_type": "code",
      "source": [
        "arr = arr +4"
      ],
      "metadata": {
        "id": "p6ge-06I_vVz"
      },
      "execution_count": 92,
      "outputs": []
    },
    {
      "cell_type": "code",
      "source": [
        "print(\"Modified numpy array: \",arr)"
      ],
      "metadata": {
        "colab": {
          "base_uri": "https://localhost:8080/"
        },
        "id": "QUF89tgL_zl0",
        "outputId": "cf0f6024-f036-4308-f3b9-bfa043b16cf9"
      },
      "execution_count": 93,
      "outputs": [
        {
          "output_type": "stream",
          "name": "stdout",
          "text": [
            "Modified numpy array:  [5 6 7 8]\n"
          ]
        }
      ]
    },
    {
      "cell_type": "code",
      "source": [
        "#Different ways of creating an ndarray\n",
        "#1_uninitialized\n",
        "#Creating an uninitialized array of a specified shape\n",
        "uninitialized_array = np.empty([5,3],dtype=int)\n",
        "print(uninitialized_array)"
      ],
      "metadata": {
        "colab": {
          "base_uri": "https://localhost:8080/"
        },
        "id": "qa8GUnKr_38u",
        "outputId": "01ee7571-269e-4df0-9795-b7676774ab99"
      },
      "execution_count": 94,
      "outputs": [
        {
          "output_type": "stream",
          "name": "stdout",
          "text": [
            "[[ 2857 15741  1080]\n",
            " [19344  5778  5778]\n",
            " [19344  1080 15741]\n",
            " [ 2857     0     0]\n",
            " [    0     0     0]]\n"
          ]
        }
      ]
    },
    {
      "cell_type": "code",
      "source": [
        "#Initializing the arrays with zeros\n",
        "zeros_array = np.zeros((3,4),dtype=float)\n",
        "another_zeros_array = np.zeros((4,3),dtype=int)\n",
        "print(zeros_array)\n",
        "print(another_zeros_array)"
      ],
      "metadata": {
        "colab": {
          "base_uri": "https://localhost:8080/"
        },
        "id": "V2_uHqhG__Vm",
        "outputId": "e09a5b2b-396d-41bf-95f3-8dd1c74b42ed"
      },
      "execution_count": 95,
      "outputs": [
        {
          "output_type": "stream",
          "name": "stdout",
          "text": [
            "[[0. 0. 0. 0.]\n",
            " [0. 0. 0. 0.]\n",
            " [0. 0. 0. 0.]]\n",
            "[[0 0 0]\n",
            " [0 0 0]\n",
            " [0 0 0]\n",
            " [0 0 0]]\n"
          ]
        }
      ]
    },
    {
      "cell_type": "code",
      "source": [
        "np.zeros((6,7))"
      ],
      "metadata": {
        "colab": {
          "base_uri": "https://localhost:8080/"
        },
        "id": "Ma39zVX6AFZG",
        "outputId": "2d216762-9ce9-42d0-852b-b83d6f12f712"
      },
      "execution_count": 96,
      "outputs": [
        {
          "output_type": "execute_result",
          "data": {
            "text/plain": [
              "array([[0., 0., 0., 0., 0., 0., 0.],\n",
              "       [0., 0., 0., 0., 0., 0., 0.],\n",
              "       [0., 0., 0., 0., 0., 0., 0.],\n",
              "       [0., 0., 0., 0., 0., 0., 0.],\n",
              "       [0., 0., 0., 0., 0., 0., 0.],\n",
              "       [0., 0., 0., 0., 0., 0., 0.]])"
            ]
          },
          "metadata": {},
          "execution_count": 96
        }
      ]
    },
    {
      "cell_type": "code",
      "source": [
        "zeros_array.dtype"
      ],
      "metadata": {
        "colab": {
          "base_uri": "https://localhost:8080/"
        },
        "id": "j5s9FB-cAIhF",
        "outputId": "31b83b18-d8fa-437c-d3e4-abafc09c18c3"
      },
      "execution_count": 97,
      "outputs": [
        {
          "output_type": "execute_result",
          "data": {
            "text/plain": [
              "dtype('float64')"
            ]
          },
          "metadata": {},
          "execution_count": 97
        }
      ]
    },
    {
      "cell_type": "code",
      "source": [
        "another_zeros_array.dtype"
      ],
      "metadata": {
        "colab": {
          "base_uri": "https://localhost:8080/"
        },
        "id": "5X1lzTr8AJWk",
        "outputId": "bf863243-b128-410a-c82d-9bae73b41676"
      },
      "execution_count": 98,
      "outputs": [
        {
          "output_type": "execute_result",
          "data": {
            "text/plain": [
              "dtype('int64')"
            ]
          },
          "metadata": {},
          "execution_count": 98
        }
      ]
    },
    {
      "cell_type": "code",
      "source": [
        "np.zeros((2,2))"
      ],
      "metadata": {
        "colab": {
          "base_uri": "https://localhost:8080/"
        },
        "id": "Jd4qv2CUANBp",
        "outputId": "5ea744c1-d8ae-4a34-82c0-de976f76e55a"
      },
      "execution_count": 99,
      "outputs": [
        {
          "output_type": "execute_result",
          "data": {
            "text/plain": [
              "array([[0., 0.],\n",
              "       [0., 0.]])"
            ]
          },
          "metadata": {},
          "execution_count": 99
        }
      ]
    },
    {
      "cell_type": "code",
      "source": [
        "#Initializing the arrays with ones\n",
        "ones_array = np.ones((3,3))*50\n",
        "another_ones_array = np.ones((2,3),dtype=int)\n",
        "print(another_ones_array)"
      ],
      "metadata": {
        "colab": {
          "base_uri": "https://localhost:8080/"
        },
        "id": "7fQCw8X0AT9S",
        "outputId": "939dc311-ab8c-45d3-b64a-580395e51b51"
      },
      "execution_count": 100,
      "outputs": [
        {
          "output_type": "stream",
          "name": "stdout",
          "text": [
            "[[1 1 1]\n",
            " [1 1 1]]\n"
          ]
        }
      ]
    },
    {
      "cell_type": "code",
      "source": [
        "another_ones_array.dtype"
      ],
      "metadata": {
        "colab": {
          "base_uri": "https://localhost:8080/"
        },
        "id": "70rfWnDoAYSm",
        "outputId": "1a1daee8-9acb-46eb-dab8-a637515d3155"
      },
      "execution_count": 101,
      "outputs": [
        {
          "output_type": "execute_result",
          "data": {
            "text/plain": [
              "dtype('int64')"
            ]
          },
          "metadata": {},
          "execution_count": 101
        }
      ]
    },
    {
      "cell_type": "code",
      "source": [
        "bunch_of_ones = np.ones((4,3))\n",
        "bunch_of_ones"
      ],
      "metadata": {
        "colab": {
          "base_uri": "https://localhost:8080/"
        },
        "id": "DUMLzvNfAbRM",
        "outputId": "ca795a35-c48b-4841-e962-065fd160cfcd"
      },
      "execution_count": 102,
      "outputs": [
        {
          "output_type": "execute_result",
          "data": {
            "text/plain": [
              "array([[1., 1., 1.],\n",
              "       [1., 1., 1.],\n",
              "       [1., 1., 1.],\n",
              "       [1., 1., 1.]])"
            ]
          },
          "metadata": {},
          "execution_count": 102
        }
      ]
    },
    {
      "cell_type": "code",
      "source": [
        "#Trying to change the shape of our array\n",
        "bunch_of_ones.shape = (2,6)\n",
        "bunch_of_ones"
      ],
      "metadata": {
        "colab": {
          "base_uri": "https://localhost:8080/"
        },
        "id": "1wXmUarPAe38",
        "outputId": "91de7c3b-ddcb-4e2f-b4e9-5213705c3abb"
      },
      "execution_count": 103,
      "outputs": [
        {
          "output_type": "execute_result",
          "data": {
            "text/plain": [
              "array([[1., 1., 1., 1., 1., 1.],\n",
              "       [1., 1., 1., 1., 1., 1.]])"
            ]
          },
          "metadata": {},
          "execution_count": 103
        }
      ]
    },
    {
      "cell_type": "code",
      "source": [
        "#Array with values from 0 to N\n",
        "array_with_range = np.arange(5)\n",
        "array_with_range"
      ],
      "metadata": {
        "colab": {
          "base_uri": "https://localhost:8080/"
        },
        "id": "0BQWce7kAgDG",
        "outputId": "545fd95a-90e6-4fc7-c78b-ff196eb08aea"
      },
      "execution_count": 104,
      "outputs": [
        {
          "output_type": "execute_result",
          "data": {
            "text/plain": [
              "array([0, 1, 2, 3, 4])"
            ]
          },
          "metadata": {},
          "execution_count": 104
        }
      ]
    },
    {
      "cell_type": "code",
      "source": [
        "#Set start and stop parameters\n",
        "another_array_with_range = np.arange(10,20,2)\n",
        "another_array_with_range"
      ],
      "metadata": {
        "colab": {
          "base_uri": "https://localhost:8080/"
        },
        "id": "LZwRxJNOAjfV",
        "outputId": "0cbaa147-2837-4071-b2ca-54903b2eccba"
      },
      "execution_count": 105,
      "outputs": [
        {
          "output_type": "execute_result",
          "data": {
            "text/plain": [
              "array([10, 12, 14, 16, 18])"
            ]
          },
          "metadata": {},
          "execution_count": 105
        }
      ]
    },
    {
      "cell_type": "code",
      "source": [
        "#To get the number of evenly spaced values between intervals\n",
        "linearly_spaced_values = np.linspace(10,20,9, endpoint=False, retstep=True)\n",
        "linearly_spaced_values"
      ],
      "metadata": {
        "colab": {
          "base_uri": "https://localhost:8080/"
        },
        "id": "dq4ZktZpAnGF",
        "outputId": "9fde073e-13fa-46d5-a6d2-58c93fe19d72"
      },
      "execution_count": 106,
      "outputs": [
        {
          "output_type": "execute_result",
          "data": {
            "text/plain": [
              "(array([10.        , 11.11111111, 12.22222222, 13.33333333, 14.44444444,\n",
              "        15.55555556, 16.66666667, 17.77777778, 18.88888889]),\n",
              " 1.1111111111111112)"
            ]
          },
          "metadata": {},
          "execution_count": 106
        }
      ]
    },
    {
      "cell_type": "code",
      "source": [
        "#Array from random numbers\n",
        "random_array = np.random.normal(1,3,(4,3))\n",
        "print(random_array)"
      ],
      "metadata": {
        "colab": {
          "base_uri": "https://localhost:8080/"
        },
        "id": "5GCRPacPAsft",
        "outputId": "bd6b7dc7-0138-4d5a-b662-c57606c20355"
      },
      "execution_count": 107,
      "outputs": [
        {
          "output_type": "stream",
          "name": "stdout",
          "text": [
            "[[ 6.65332069  2.58454856  0.62033857]\n",
            " [ 5.2106579   2.50851874 -5.57759171]\n",
            " [ 2.61315058  5.6871354   1.62421986]\n",
            " [-1.62555892  4.12231052  3.8709114 ]]\n"
          ]
        }
      ]
    },
    {
      "cell_type": "code",
      "source": [
        "#To get an array with random input integral elements of desired shape\n",
        "random_integral_array = np.random.randint(0,100,size=(3,4))\n",
        "print(random_integral_array)"
      ],
      "metadata": {
        "colab": {
          "base_uri": "https://localhost:8080/"
        },
        "id": "_wAExEjKAwEs",
        "outputId": "41afc4d8-88a7-429b-c1a6-6f29e5b8999b"
      },
      "execution_count": 108,
      "outputs": [
        {
          "output_type": "stream",
          "name": "stdout",
          "text": [
            "[[ 6 20 85 91]\n",
            " [84 17 19  8]\n",
            " [73 91 12 44]]\n"
          ]
        }
      ]
    },
    {
      "cell_type": "code",
      "source": [
        "#Array from specified numbers\n",
        "a = np.full((3,3),100)\n",
        "print(a)\n",
        ""
      ],
      "metadata": {
        "colab": {
          "base_uri": "https://localhost:8080/"
        },
        "id": "ExhoxiJlAzMD",
        "outputId": "44e960b1-b441-4c39-de2d-89aa35a523de"
      },
      "execution_count": 109,
      "outputs": [
        {
          "output_type": "stream",
          "name": "stdout",
          "text": [
            "[[100 100 100]\n",
            " [100 100 100]\n",
            " [100 100 100]]\n"
          ]
        }
      ]
    },
    {
      "cell_type": "code",
      "source": [
        "a = np.ones((3,3), dtype=int)*100\n",
        "print(a)"
      ],
      "metadata": {
        "colab": {
          "base_uri": "https://localhost:8080/"
        },
        "id": "d5izNNprA2Gk",
        "outputId": "4eaafa39-020f-4be0-de28-71615a1ddfb9"
      },
      "execution_count": 110,
      "outputs": [
        {
          "output_type": "stream",
          "name": "stdout",
          "text": [
            "[[100 100 100]\n",
            " [100 100 100]\n",
            " [100 100 100]]\n"
          ]
        }
      ]
    },
    {
      "cell_type": "code",
      "source": [
        "#To get an identity matrix\n",
        "a = np.identity(5)\n",
        "print(a)"
      ],
      "metadata": {
        "colab": {
          "base_uri": "https://localhost:8080/"
        },
        "id": "SqIgGpsXA5Fk",
        "outputId": "ba414292-5f54-4e32-9e6c-56aa35a597ee"
      },
      "execution_count": 111,
      "outputs": [
        {
          "output_type": "stream",
          "name": "stdout",
          "text": [
            "[[1. 0. 0. 0. 0.]\n",
            " [0. 1. 0. 0. 0.]\n",
            " [0. 0. 1. 0. 0.]\n",
            " [0. 0. 0. 1. 0.]\n",
            " [0. 0. 0. 0. 1.]]\n"
          ]
        }
      ]
    },
    {
      "cell_type": "code",
      "source": [
        "#Convert list to ndarray\n",
        "typical_list = [1,2,3]\n",
        "corresponding_array = np.asarray(typical_list)\n",
        "corresponding_array"
      ],
      "metadata": {
        "colab": {
          "base_uri": "https://localhost:8080/"
        },
        "id": "Lb9fkJX7A6O2",
        "outputId": "74f4b5e4-d0d8-4492-874a-5e2342ec5eed"
      },
      "execution_count": 112,
      "outputs": [
        {
          "output_type": "execute_result",
          "data": {
            "text/plain": [
              "array([1, 2, 3])"
            ]
          },
          "metadata": {},
          "execution_count": 112
        }
      ]
    },
    {
      "cell_type": "code",
      "source": [
        "#Slicing 1d arrays\n",
        "#retrieving elements from a 1d array\n",
        "a = np.arange(10)\n",
        "a[5]"
      ],
      "metadata": {
        "colab": {
          "base_uri": "https://localhost:8080/"
        },
        "id": "5Nwjbgy-A9Ms",
        "outputId": "a1f90f81-4d06-485c-fd44-a987011dc0d5"
      },
      "execution_count": 114,
      "outputs": [
        {
          "output_type": "execute_result",
          "data": {
            "text/plain": [
              "5"
            ]
          },
          "metadata": {},
          "execution_count": 114
        }
      ]
    },
    {
      "cell_type": "code",
      "source": [
        "#Slice items between indexes\n",
        "a = np.arange(10)\n",
        "a[2:5]"
      ],
      "metadata": {
        "colab": {
          "base_uri": "https://localhost:8080/"
        },
        "id": "TwKnY9EcBI7g",
        "outputId": "2873f20e-d815-4d48-f61a-fd0302311277"
      },
      "execution_count": 115,
      "outputs": [
        {
          "output_type": "execute_result",
          "data": {
            "text/plain": [
              "array([2, 3, 4])"
            ]
          },
          "metadata": {},
          "execution_count": 115
        }
      ]
    },
    {
      "cell_type": "code",
      "source": [
        "#Slice items between indexes in steps\n",
        "a = np.random.random(10)\n",
        "a"
      ],
      "metadata": {
        "colab": {
          "base_uri": "https://localhost:8080/"
        },
        "id": "QxSiJKPzBSkL",
        "outputId": "9ef8b602-d271-435b-ae52-b07a494e50b0"
      },
      "execution_count": 116,
      "outputs": [
        {
          "output_type": "execute_result",
          "data": {
            "text/plain": [
              "array([0.61722991, 0.06700641, 0.51613682, 0.50119011, 0.21569683,\n",
              "       0.03437076, 0.31799253, 0.47528586, 0.21189333, 0.88987469])"
            ]
          },
          "metadata": {},
          "execution_count": 116
        }
      ]
    },
    {
      "cell_type": "code",
      "source": [
        "a[::2]"
      ],
      "metadata": {
        "colab": {
          "base_uri": "https://localhost:8080/"
        },
        "id": "eCmD8qTeBXsS",
        "outputId": "72e34d8f-17ae-4282-f76a-ebabcae36cc4"
      },
      "execution_count": 117,
      "outputs": [
        {
          "output_type": "execute_result",
          "data": {
            "text/plain": [
              "array([0.61722991, 0.51613682, 0.21569683, 0.31799253, 0.21189333])"
            ]
          },
          "metadata": {},
          "execution_count": 117
        }
      ]
    },
    {
      "cell_type": "code",
      "source": [
        "#When certain parameters are unspecified\n",
        "a = np.arange(10)\n",
        "print(a[:6:2])\n",
        "print(a[1::2])\n",
        "print(a[1:6:])"
      ],
      "metadata": {
        "colab": {
          "base_uri": "https://localhost:8080/"
        },
        "id": "tJijcessBdoy",
        "outputId": "dd2125fa-47ab-4f04-9d4b-37da9eb8b55c"
      },
      "execution_count": 118,
      "outputs": [
        {
          "output_type": "stream",
          "name": "stdout",
          "text": [
            "[0 2 4]\n",
            "[1 3 5 7 9]\n",
            "[1 2 3 4 5]\n"
          ]
        }
      ]
    },
    {
      "cell_type": "code",
      "source": [
        "#Slicing 2d arrays\n",
        "#Retrieving elements from a 2d array\n",
        "a = np.array([[1,2,3],[4,5,6]])\n",
        "print(a[1,2])"
      ],
      "metadata": {
        "colab": {
          "base_uri": "https://localhost:8080/"
        },
        "id": "OUWXgQq8Bi56",
        "outputId": "f7074578-c8b3-40a0-8a5c-5a274e856ac2"
      },
      "execution_count": 119,
      "outputs": [
        {
          "output_type": "stream",
          "name": "stdout",
          "text": [
            "6\n"
          ]
        }
      ]
    },
    {
      "cell_type": "code",
      "source": [
        "#Getting the entire array\n",
        "a = np.array([[1,2,3],[4,5,6],[7,8,9]])\n",
        "print(a)\n",
        "print(a[0:2])\n",
        "print(a[0:2,-2:])"
      ],
      "metadata": {
        "colab": {
          "base_uri": "https://localhost:8080/"
        },
        "id": "1AFb6FzbB4MQ",
        "outputId": "8fb53cef-e906-42fc-c49b-d3a3d373f52f"
      },
      "execution_count": 120,
      "outputs": [
        {
          "output_type": "stream",
          "name": "stdout",
          "text": [
            "[[1 2 3]\n",
            " [4 5 6]\n",
            " [7 8 9]]\n",
            "[[1 2 3]\n",
            " [4 5 6]]\n",
            "[[2 3]\n",
            " [5 6]]\n"
          ]
        }
      ]
    },
    {
      "cell_type": "code",
      "source": [
        "#Getting the first row\n",
        "a = np.array([[1,2,3],[4,5,6],[7,8,9]])\n",
        "print(a[0:1,:])"
      ],
      "metadata": {
        "colab": {
          "base_uri": "https://localhost:8080/"
        },
        "id": "RRX3QPgYB9EQ",
        "outputId": "10563358-7cee-441a-e7f7-c639120c0882"
      },
      "execution_count": 121,
      "outputs": [
        {
          "output_type": "stream",
          "name": "stdout",
          "text": [
            "[[1 2 3]]\n"
          ]
        }
      ]
    },
    {
      "cell_type": "code",
      "source": [
        "#Getting the first row with steps in column\n",
        "a = np.array([[1,2,3],[4,5,6],[7,8,9]])\n",
        "print(a[0:1,1:2])"
      ],
      "metadata": {
        "colab": {
          "base_uri": "https://localhost:8080/"
        },
        "id": "UqmRCokCB-Ox",
        "outputId": "268cd30a-22ce-4eb3-cb72-4ddcfd9edc03"
      },
      "execution_count": 122,
      "outputs": [
        {
          "output_type": "stream",
          "name": "stdout",
          "text": [
            "[[2]]\n"
          ]
        }
      ]
    },
    {
      "cell_type": "code",
      "source": [
        "#Getting the first column\n",
        "a = np.array([[1,2,3],[4,5,6],[7,8,9]])\n",
        "print(a)\n",
        "print(a[:,0:1])"
      ],
      "metadata": {
        "colab": {
          "base_uri": "https://localhost:8080/"
        },
        "id": "Qi8r39UwCFmB",
        "outputId": "020efd6b-635b-460c-9ac4-6e2ee43f6629"
      },
      "execution_count": 123,
      "outputs": [
        {
          "output_type": "stream",
          "name": "stdout",
          "text": [
            "[[1 2 3]\n",
            " [4 5 6]\n",
            " [7 8 9]]\n",
            "[[1]\n",
            " [4]\n",
            " [7]]\n"
          ]
        }
      ]
    },
    {
      "cell_type": "code",
      "source": [
        "#Getting the first column in steps\n",
        "a = np.array([[1,2,3],[4,5,6],[7,8,9]])\n",
        "print(a[::2,0:1])"
      ],
      "metadata": {
        "colab": {
          "base_uri": "https://localhost:8080/"
        },
        "id": "HxJOvE2wCLs9",
        "outputId": "2edd67f2-2e63-4d55-cde6-5cc86b4aafef"
      },
      "execution_count": 124,
      "outputs": [
        {
          "output_type": "stream",
          "name": "stdout",
          "text": [
            "[[1]\n",
            " [7]]\n"
          ]
        }
      ]
    },
    {
      "cell_type": "code",
      "source": [
        "#Getting arbitary values\n",
        "a = np.array([[1,2,3],[4,5,6],[7,8,9]])\n",
        "print(a[0:2,1:3])"
      ],
      "metadata": {
        "colab": {
          "base_uri": "https://localhost:8080/"
        },
        "id": "6szgicPGCPf8",
        "outputId": "eb4e63a6-ed45-4d9c-b6e2-8a48413eaa1d"
      },
      "execution_count": 125,
      "outputs": [
        {
          "output_type": "stream",
          "name": "stdout",
          "text": [
            "[[2 3]\n",
            " [5 6]]\n"
          ]
        }
      ]
    },
    {
      "cell_type": "code",
      "source": [
        "#Splicing 3d arrays\n",
        "a = np.array([[[1,2],[3,4],[5,6]],\n",
        "             [[7,8],[9,10],[11,12]],\n",
        "             [[13,14],[15,16],[17,18]]])\n",
        "print(a)\n",
        "print(a[0:2])\n",
        "print(a[0:2,1:,1:])"
      ],
      "metadata": {
        "colab": {
          "base_uri": "https://localhost:8080/"
        },
        "id": "tU7aMbEiCT3A",
        "outputId": "e5cab377-23ee-4ddd-c09e-41fb281c7cef"
      },
      "execution_count": 126,
      "outputs": [
        {
          "output_type": "stream",
          "name": "stdout",
          "text": [
            "[[[ 1  2]\n",
            "  [ 3  4]\n",
            "  [ 5  6]]\n",
            "\n",
            " [[ 7  8]\n",
            "  [ 9 10]\n",
            "  [11 12]]\n",
            "\n",
            " [[13 14]\n",
            "  [15 16]\n",
            "  [17 18]]]\n",
            "[[[ 1  2]\n",
            "  [ 3  4]\n",
            "  [ 5  6]]\n",
            "\n",
            " [[ 7  8]\n",
            "  [ 9 10]\n",
            "  [11 12]]]\n",
            "[[[ 4]\n",
            "  [ 6]]\n",
            "\n",
            " [[10]\n",
            "  [12]]]\n"
          ]
        }
      ]
    },
    {
      "cell_type": "code",
      "source": [
        "import numpy as np"
      ],
      "metadata": {
        "id": "bHZGerrBCXH4"
      },
      "execution_count": 127,
      "outputs": []
    },
    {
      "cell_type": "code",
      "source": [
        "#np.transpose()\n",
        "np.random.randint(20)"
      ],
      "metadata": {
        "colab": {
          "base_uri": "https://localhost:8080/"
        },
        "id": "17luF3QECfrg",
        "outputId": "dc8a6a6f-253d-4e1c-867f-7229dcb04a50"
      },
      "execution_count": 128,
      "outputs": [
        {
          "output_type": "execute_result",
          "data": {
            "text/plain": [
              "4"
            ]
          },
          "metadata": {},
          "execution_count": 128
        }
      ]
    },
    {
      "cell_type": "code",
      "source": [
        "#Set the scale parameter of the exponential distribution\n",
        "scale = 2"
      ],
      "metadata": {
        "id": "_fOHrSnuCkzu"
      },
      "execution_count": 129,
      "outputs": []
    },
    {
      "cell_type": "code",
      "source": [
        "#Generate random numbers from an exponntial distribution\n",
        "random_numbers = np.random.binomial(10,0.2, size=(5,5))\n",
        "print(\"random numbers from binomial distribution:\")\n",
        "print(random_numbers)"
      ],
      "metadata": {
        "colab": {
          "base_uri": "https://localhost:8080/"
        },
        "id": "o3CyETdfCoR_",
        "outputId": "594e19df-292c-49b8-f3c8-c9dc592b18c9"
      },
      "execution_count": 130,
      "outputs": [
        {
          "output_type": "stream",
          "name": "stdout",
          "text": [
            "random numbers from binomial distribution:\n",
            "[[4 0 2 2 0]\n",
            " [2 0 4 0 3]\n",
            " [0 1 5 3 1]\n",
            " [2 3 2 3 1]\n",
            " [2 1 2 5 3]]\n"
          ]
        }
      ]
    },
    {
      "cell_type": "code",
      "source": [
        "#Create a 2d array\n",
        "two_d_array = np.array(np.random.randint(10,45,(8,2)))\n",
        "print(f\"the defined array is:\\n{two_d_array}\")\n",
        "print(f\" \\n the shape of the array is: {two_d_array.shape}\")"
      ],
      "metadata": {
        "colab": {
          "base_uri": "https://localhost:8080/"
        },
        "id": "IdX-vJuDCt4S",
        "outputId": "64f11e32-9e59-4faf-e439-5cd750bf4d90"
      },
      "execution_count": 131,
      "outputs": [
        {
          "output_type": "stream",
          "name": "stdout",
          "text": [
            "the defined array is:\n",
            "[[41 16]\n",
            " [27 10]\n",
            " [36 19]\n",
            " [25 11]\n",
            " [11 27]\n",
            " [20 42]\n",
            " [12 32]\n",
            " [26 30]]\n",
            " \n",
            " the shape of the array is: (8, 2)\n"
          ]
        }
      ]
    },
    {
      "cell_type": "code",
      "source": [
        "#Storing the transpose in another matrix object\n",
        "blabla = np.transpose(two_d_array)\n",
        "print(f\"the transpose of the array is \\n{blabla}\")\n",
        "print(f\" \\n the shape of the array is: {blabla.shape}\")"
      ],
      "metadata": {
        "colab": {
          "base_uri": "https://localhost:8080/"
        },
        "id": "1ABQ0kg9Cx3X",
        "outputId": "c72d9ea3-470b-4b5c-a408-9ac9866388b5"
      },
      "execution_count": 132,
      "outputs": [
        {
          "output_type": "stream",
          "name": "stdout",
          "text": [
            "the transpose of the array is \n",
            "[[41 27 36 25 11 20 12 26]\n",
            " [16 10 19 11 27 42 32 30]]\n",
            " \n",
            " the shape of the array is: (2, 8)\n"
          ]
        }
      ]
    },
    {
      "cell_type": "code",
      "source": [
        "#Create a 3d array\n",
        "random_3d_array = np.array(np.random.randint(10,45,(3,2,4)))\n",
        "print(f\"the defined array is \\n{random_3d_array}\")\n",
        "print(f\" \\n the shape of the array is {random_3d_array.shape}\")"
      ],
      "metadata": {
        "id": "pdmrhNWqC4ae"
      },
      "execution_count": null,
      "outputs": []
    },
    {
      "cell_type": "code",
      "source": [
        "#Storing the transpose of the created 3d array\n",
        "transposed_3d_array = np.transpose(random_3d_array)\n",
        "print(f\"the transpose of the array is \\n{transposed_3d_array}\")\n",
        "print(f\" \\n the shape of the array is {transposed_3d_array.shape}\")"
      ],
      "metadata": {
        "colab": {
          "base_uri": "https://localhost:8080/"
        },
        "id": "0trOCy9lDCIu",
        "outputId": "90c93699-349b-41c0-f849-51ef079e5d96"
      },
      "execution_count": 134,
      "outputs": [
        {
          "metadata": {
            "tags": null
          },
          "name": "stdout",
          "output_type": "stream",
          "text": [
            "the transpose of the array is \n",
            "[[[10 32 42]\n",
            "  [30 30 36]]\n",
            "\n",
            " [[21 37 31]\n",
            "  [43 27 41]]\n",
            "\n",
            " [[28 36 26]\n",
            "  [11 33 25]]\n",
            "\n",
            " [[20 34 38]\n",
            "  [11 30 43]]]\n",
            " \n",
            " the shape of the array is (4, 2, 3)\n"
          ]
        }
      ]
    },
    {
      "cell_type": "code",
      "source": [
        "#np.reshape(shape)\n",
        "#Create a 2d array\n",
        "random_2d_array = np.array(np.random.randint(10,20,(2,3)))\n",
        "print(f\" the defined array is \\n{random_2d_array}\")\n",
        "print(f\" \\n the shape of the array is {random_2d_array.shape}\")"
      ],
      "metadata": {
        "colab": {
          "base_uri": "https://localhost:8080/"
        },
        "id": "aENFTbJSDndV",
        "outputId": "07882d34-ecba-4cc5-8e62-56b1fe5d3c2f"
      },
      "execution_count": 135,
      "outputs": [
        {
          "output_type": "stream",
          "name": "stdout",
          "text": [
            " the defined array is \n",
            "[[14 18 13]\n",
            " [13 10 12]]\n",
            " \n",
            " the shape of the array is (2, 3)\n"
          ]
        }
      ]
    },
    {
      "cell_type": "code",
      "source": [
        "#Reshaping this to 1d,2d, 3d array\n",
        "new_shape = (1,2,3)\n",
        "reshaped_random_2d_array = np.reshape(random_2d_array, new_shape)\n",
        "print(f\"the reshaped array is \\n{reshaped_random_2d_array}\")\n",
        "print(f\" \\n the shape of the array is {reshaped_random_2d_array.shape}\")"
      ],
      "metadata": {
        "colab": {
          "base_uri": "https://localhost:8080/"
        },
        "id": "10kcY-MOFGXh",
        "outputId": "650b0205-85b9-4294-e309-0280d5ec06f3"
      },
      "execution_count": 136,
      "outputs": [
        {
          "output_type": "stream",
          "name": "stdout",
          "text": [
            "the reshaped array is \n",
            "[[[14 18 13]\n",
            "  [13 10 12]]]\n",
            " \n",
            " the shape of the array is (1, 2, 3)\n"
          ]
        }
      ]
    },
    {
      "cell_type": "code",
      "source": [
        "new_shape = (2,-1,1)\n",
        "reshaped_random_2d_array = np.reshape(random_2d_array,new_shape)\n",
        "print(f\" the reshaped array is \\n{reshaped_random_2d_array}\")\n",
        "print(f\" \\n the shape of the array is {reshaped_random_2d_array.shape}\")"
      ],
      "metadata": {
        "colab": {
          "base_uri": "https://localhost:8080/"
        },
        "id": "WeKSaYmQFHnM",
        "outputId": "ccc6dd61-5aa1-456a-85e2-7d7949af307b"
      },
      "execution_count": 137,
      "outputs": [
        {
          "output_type": "stream",
          "name": "stdout",
          "text": [
            " the reshaped array is \n",
            "[[[14]\n",
            "  [18]\n",
            "  [13]]\n",
            "\n",
            " [[13]\n",
            "  [10]\n",
            "  [12]]]\n",
            " \n",
            " the shape of the array is (2, 3, 1)\n"
          ]
        }
      ]
    },
    {
      "cell_type": "code",
      "source": [
        "#Creating a 3d array\n",
        "random_3d_array = np.array(np.random.randint(50,100,(2,5,4)))\n",
        "print(f\" the defined array is \\n{random_3d_array}\")\n",
        "print(f\"\\n the shape of the array is {random_3d_array.shape}\")"
      ],
      "metadata": {
        "colab": {
          "base_uri": "https://localhost:8080/"
        },
        "id": "OFkq-XoTFO-P",
        "outputId": "548dac59-c857-4f96-ea85-fbff536d5058"
      },
      "execution_count": 138,
      "outputs": [
        {
          "output_type": "stream",
          "name": "stdout",
          "text": [
            " the defined array is \n",
            "[[[93 80 63 97]\n",
            "  [57 82 81 84]\n",
            "  [90 84 72 50]\n",
            "  [90 50 76 88]\n",
            "  [89 55 58 85]]\n",
            "\n",
            " [[73 64 92 51]\n",
            "  [73 80 86 89]\n",
            "  [72 93 51 94]\n",
            "  [94 75 83 91]\n",
            "  [83 52 86 85]]]\n",
            "\n",
            " the shape of the array is (2, 5, 4)\n"
          ]
        }
      ]
    },
    {
      "cell_type": "code",
      "source": [
        "#Reshape the created 3d array\n",
        "new_shape = (3,-2,3)\n",
        "print(f\" the reshapes aray is \\n{reshaped_random_2d_array}\")\n",
        "print(f\" \\n the shape of the array is {reshaped_random_2d_array.shape}\")"
      ],
      "metadata": {
        "colab": {
          "base_uri": "https://localhost:8080/"
        },
        "id": "Dpcbr7W8FXan",
        "outputId": "aca2a7d1-450c-4ac7-c380-50cea6fa9e97"
      },
      "execution_count": 139,
      "outputs": [
        {
          "output_type": "stream",
          "name": "stdout",
          "text": [
            " the reshapes aray is \n",
            "[[[14]\n",
            "  [18]\n",
            "  [13]]\n",
            "\n",
            " [[13]\n",
            "  [10]\n",
            "  [12]]]\n",
            " \n",
            " the shape of the array is (2, 3, 1)\n"
          ]
        }
      ]
    },
    {
      "cell_type": "code",
      "source": [
        "#np.resize(shape)\n",
        "#Initailize a 3d array\n",
        "random_3d_array = np.array(np.random.randint(1,10,(3,4,3)))\n",
        "print(f'\\n the defined array is \\n{random_3d_array}')\n",
        "print(f\" \\n the shape of the array is{random_3d_array.shape}\")"
      ],
      "metadata": {
        "colab": {
          "base_uri": "https://localhost:8080/"
        },
        "id": "CeAeQliXFad3",
        "outputId": "34659834-e80e-4a70-e89f-35a775f45e80"
      },
      "execution_count": 140,
      "outputs": [
        {
          "output_type": "stream",
          "name": "stdout",
          "text": [
            "\n",
            " the defined array is \n",
            "[[[2 6 7]\n",
            "  [2 2 5]\n",
            "  [9 1 8]\n",
            "  [8 5 9]]\n",
            "\n",
            " [[6 7 7]\n",
            "  [9 4 2]\n",
            "  [8 5 2]\n",
            "  [6 5 1]]\n",
            "\n",
            " [[5 2 8]\n",
            "  [6 9 8]\n",
            "  [9 8 3]\n",
            "  [6 7 4]]]\n",
            " \n",
            " the shape of the array is(3, 4, 3)\n"
          ]
        }
      ]
    },
    {
      "cell_type": "code",
      "source": [
        "#Resize the created 3d array\n",
        "new_shape = (2,2,3)\n",
        "resized_random_3d_array = np.resize(random_3d_array, new_shape)\n",
        "print(f\" the resized array is \\n{resized_random_3d_array}\")\n",
        "print(f\"\\n the shape od the array is {resized_random_3d_array.shape}\")"
      ],
      "metadata": {
        "colab": {
          "base_uri": "https://localhost:8080/"
        },
        "id": "lAv2pss4FmWX",
        "outputId": "efb4571f-a938-438d-877c-46df1d2573cd"
      },
      "execution_count": 141,
      "outputs": [
        {
          "output_type": "stream",
          "name": "stdout",
          "text": [
            " the resized array is \n",
            "[[[2 6 7]\n",
            "  [2 2 5]]\n",
            "\n",
            " [[9 1 8]\n",
            "  [8 5 9]]]\n",
            "\n",
            " the shape od the array is (2, 2, 3)\n"
          ]
        }
      ]
    },
    {
      "cell_type": "code",
      "source": [
        "random_3d_array = np.array(np.random.randint(1,10,(3,4,3)))\n",
        "random_3d_array.resize(new_shape)\n",
        "random_3d_array"
      ],
      "metadata": {
        "colab": {
          "base_uri": "https://localhost:8080/"
        },
        "id": "5anfT0JEFqTQ",
        "outputId": "3a2e6b4c-f0f9-45bc-ca12-61743de69119"
      },
      "execution_count": 142,
      "outputs": [
        {
          "output_type": "execute_result",
          "data": {
            "text/plain": [
              "array([[[3, 7, 6],\n",
              "        [4, 7, 8]],\n",
              "\n",
              "       [[3, 5, 9],\n",
              "        [9, 6, 3]]])"
            ]
          },
          "metadata": {},
          "execution_count": 142
        }
      ]
    },
    {
      "cell_type": "code",
      "source": [
        "#np.flatten()\n",
        "#Initialize a 3d array\n",
        "random_3d_array = np.array(np.random.randint(1,100,(2,3,3)))\n",
        "print(f\" the defined array is \\n{random_3d_array}\")\n",
        "print(f'\\n the shape of the array is{random_3d_array.shape}')"
      ],
      "metadata": {
        "colab": {
          "base_uri": "https://localhost:8080/"
        },
        "id": "fb_2HEXGFtjH",
        "outputId": "62668f2b-7f29-401f-f7d1-24d653ce38ad"
      },
      "execution_count": 143,
      "outputs": [
        {
          "output_type": "stream",
          "name": "stdout",
          "text": [
            " the defined array is \n",
            "[[[51 92 43]\n",
            "  [66 28 56]\n",
            "  [96 28 55]]\n",
            "\n",
            " [[65 86 40]\n",
            "  [59 95  5]\n",
            "  [62 20 78]]]\n",
            "\n",
            " the shape of the array is(2, 3, 3)\n"
          ]
        }
      ]
    },
    {
      "cell_type": "code",
      "source": [
        "#Flatten the 3d array\n",
        "random_3d_array.flatten()"
      ],
      "metadata": {
        "colab": {
          "base_uri": "https://localhost:8080/"
        },
        "id": "v_ajH7ahF0iQ",
        "outputId": "b8eacdb8-6aed-461b-dbc2-3add200d89b0"
      },
      "execution_count": 144,
      "outputs": [
        {
          "output_type": "execute_result",
          "data": {
            "text/plain": [
              "array([51, 92, 43, 66, 28, 56, 96, 28, 55, 65, 86, 40, 59, 95,  5, 62, 20,\n",
              "       78])"
            ]
          },
          "metadata": {},
          "execution_count": 144
        }
      ]
    },
    {
      "cell_type": "code",
      "source": [
        "random_3d_array"
      ],
      "metadata": {
        "colab": {
          "base_uri": "https://localhost:8080/"
        },
        "id": "iIxJbvcqF5Hd",
        "outputId": "ba05a5c6-def9-4ca3-bed1-fc96a620f739"
      },
      "execution_count": 145,
      "outputs": [
        {
          "output_type": "execute_result",
          "data": {
            "text/plain": [
              "array([[[51, 92, 43],\n",
              "        [66, 28, 56],\n",
              "        [96, 28, 55]],\n",
              "\n",
              "       [[65, 86, 40],\n",
              "        [59, 95,  5],\n",
              "        [62, 20, 78]]])"
            ]
          },
          "metadata": {},
          "execution_count": 145
        }
      ]
    },
    {
      "cell_type": "code",
      "source": [
        "#Flattens the array in row-major order with 'C'\n",
        "random_3d_array.flatten(order='F')"
      ],
      "metadata": {
        "colab": {
          "base_uri": "https://localhost:8080/"
        },
        "id": "DAjEhDGyGXNF",
        "outputId": "c18838c4-4be9-432a-8d0f-013cfa8b836d"
      },
      "execution_count": 146,
      "outputs": [
        {
          "output_type": "execute_result",
          "data": {
            "text/plain": [
              "array([51, 65, 66, 59, 96, 62, 92, 86, 28, 95, 28, 20, 43, 40, 56,  5, 55,\n",
              "       78])"
            ]
          },
          "metadata": {},
          "execution_count": 146
        }
      ]
    },
    {
      "cell_type": "code",
      "source": [
        "random_3d_array.flatten(order='C')"
      ],
      "metadata": {
        "colab": {
          "base_uri": "https://localhost:8080/"
        },
        "id": "3TbircNHHFQ8",
        "outputId": "75686cbc-d2b9-48cd-fe76-b52da3ae5c30"
      },
      "execution_count": 147,
      "outputs": [
        {
          "output_type": "execute_result",
          "data": {
            "text/plain": [
              "array([51, 92, 43, 66, 28, 56, 96, 28, 55, 65, 86, 40, 59, 95,  5, 62, 20,\n",
              "       78])"
            ]
          },
          "metadata": {},
          "execution_count": 147
        }
      ]
    }
  ]
}