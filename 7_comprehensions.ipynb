{
  "nbformat": 4,
  "nbformat_minor": 0,
  "metadata": {
    "colab": {
      "provenance": [],
      "authorship_tag": "ABX9TyMm3mA/6ltLnIxqKPh3Uqgt",
      "include_colab_link": true
    },
    "kernelspec": {
      "name": "python3",
      "display_name": "Python 3"
    },
    "language_info": {
      "name": "python"
    }
  },
  "cells": [
    {
      "cell_type": "markdown",
      "metadata": {
        "id": "view-in-github",
        "colab_type": "text"
      },
      "source": [
        "<a href=\"https://colab.research.google.com/github/VidhiNegi19/sem4/blob/main/7_comprehensions.ipynb\" target=\"_parent\"><img src=\"https://colab.research.google.com/assets/colab-badge.svg\" alt=\"Open In Colab\"/></a>"
      ]
    },
    {
      "cell_type": "code",
      "execution_count": 5,
      "metadata": {
        "colab": {
          "base_uri": "https://localhost:8080/"
        },
        "id": "3suZ3qJ-7dBX",
        "outputId": "2633026d-9e6b-4b78-df5d-a49aaa050dcf"
      },
      "outputs": [
        {
          "output_type": "stream",
          "name": "stdout",
          "text": [
            "[1, 2, 4, 6, 11, 14, 17, 20]\n"
          ]
        }
      ],
      "source": [
        "#The list of numbers\n",
        "numbers=[1,2,4,6,11,14,17,20]\n",
        "print(numbers)"
      ]
    },
    {
      "cell_type": "code",
      "source": [
        "squared_numbers=[1,2,4,6,11,14,17,20]\n",
        "print(squared_numbers)"
      ],
      "metadata": {
        "colab": {
          "base_uri": "https://localhost:8080/"
        },
        "id": "gBkkw0hB8L8s",
        "outputId": "85052eea-d608-4361-d023-f138b25a7901"
      },
      "execution_count": 2,
      "outputs": [
        {
          "output_type": "stream",
          "name": "stdout",
          "text": [
            "[1, 2, 4, 6, 11, 14, 17, 20]\n"
          ]
        }
      ]
    },
    {
      "cell_type": "code",
      "source": [
        "print(f\"The list of squared numbers is {squared_numbers}\")\n",
        ""
      ],
      "metadata": {
        "colab": {
          "base_uri": "https://localhost:8080/"
        },
        "id": "4ZguuQYa88T5",
        "outputId": "c23abb94-65bc-47e3-fba3-6832ade98c76"
      },
      "execution_count": 6,
      "outputs": [
        {
          "output_type": "stream",
          "name": "stdout",
          "text": [
            "The list of squared numbers is [1, 2, 4, 6, 11, 14, 17, 20]\n"
          ]
        }
      ]
    },
    {
      "cell_type": "code",
      "source": [
        "#Getting the list of squares using list comprehension\n",
        "list_of_numbers=[1,2,4,6,11,14,17,20]\n",
        "squared_numbers=[number**2 for number in list_of_numbers]\n",
        "print(squared_numbers)\n",
        ""
      ],
      "metadata": {
        "colab": {
          "base_uri": "https://localhost:8080/"
        },
        "id": "D0F8ebdh9MU_",
        "outputId": "84f760fe-ccf2-4f82-f4d1-2b9f89f4e99d"
      },
      "execution_count": 7,
      "outputs": [
        {
          "output_type": "stream",
          "name": "stdout",
          "text": [
            "[1, 4, 16, 36, 121, 196, 289, 400]\n"
          ]
        }
      ]
    },
    {
      "cell_type": "code",
      "source": [
        "#Writing list comprehension using conditionals\n",
        "even_squared_numbers=[number**2 for number in list_of_numbers if number%2==0]\n",
        "print(even_squared_numbers)\n",
        ""
      ],
      "metadata": {
        "colab": {
          "base_uri": "https://localhost:8080/"
        },
        "id": "SrPs3NrT9Qyv",
        "outputId": "e6805727-d907-4482-8c65-518b0ebac052"
      },
      "execution_count": 8,
      "outputs": [
        {
          "output_type": "stream",
          "name": "stdout",
          "text": [
            "[4, 16, 36, 196, 400]\n"
          ]
        }
      ]
    },
    {
      "cell_type": "code",
      "source": [
        "#Writing list comprehension using conditionals\n",
        "odd_squared_numbers=[number**2 for number in list_of_numbers if number%2!=0]\n",
        "print(odd_squared_numbers)\n",
        ""
      ],
      "metadata": {
        "colab": {
          "base_uri": "https://localhost:8080/"
        },
        "id": "TGhubfNQ9kuP",
        "outputId": "fb76e3a8-2e49-459d-e0d8-6652497424cb"
      },
      "execution_count": 9,
      "outputs": [
        {
          "output_type": "stream",
          "name": "stdout",
          "text": [
            "[1, 121, 289]\n"
          ]
        }
      ]
    },
    {
      "cell_type": "code",
      "source": [
        "#Writing list comprehension using conditionals\n",
        "odd_squared_numbers = [number**2 if number%2!=0 else number**3 for number in list_of_numbers]\n",
        "print(odd_squared_numbers)\n",
        ""
      ],
      "metadata": {
        "colab": {
          "base_uri": "https://localhost:8080/"
        },
        "id": "OpfX2gMS9mku",
        "outputId": "6b768163-64b3-4b54-8c1c-15cefd38a1f0"
      },
      "execution_count": 10,
      "outputs": [
        {
          "output_type": "stream",
          "name": "stdout",
          "text": [
            "[1, 8, 64, 216, 121, 2744, 289, 8000]\n"
          ]
        }
      ]
    },
    {
      "cell_type": "code",
      "source": [
        "even_squared_numbers=[number**2 for number in list_of_numbers if number%2==0]\n",
        ""
      ],
      "metadata": {
        "id": "6fbmZkKX9zJF"
      },
      "execution_count": 11,
      "outputs": []
    },
    {
      "cell_type": "code",
      "source": [
        "list(range(4))"
      ],
      "metadata": {
        "colab": {
          "base_uri": "https://localhost:8080/"
        },
        "id": "6dBrtsUS94g9",
        "outputId": "676ae840-c663-42b2-be33-c7fc0eddcc0d"
      },
      "execution_count": 12,
      "outputs": [
        {
          "output_type": "execute_result",
          "data": {
            "text/plain": [
              "[0, 1, 2, 3]"
            ]
          },
          "metadata": {},
          "execution_count": 12
        }
      ]
    },
    {
      "cell_type": "code",
      "source": [
        "list_of_numbers=[]\n",
        "for num1 in range(4):\n",
        "  for num2 in range(3):\n",
        "    print(num1,num2)\n",
        "    list_of_numbers.append(num2)\n",
        "    print(list_of_numbers)"
      ],
      "metadata": {
        "colab": {
          "base_uri": "https://localhost:8080/"
        },
        "id": "5vmasO1699ut",
        "outputId": "5f5f01b9-506c-48ba-cc18-63d0761a93fe"
      },
      "execution_count": 13,
      "outputs": [
        {
          "output_type": "stream",
          "name": "stdout",
          "text": [
            "0 0\n",
            "[0]\n",
            "0 1\n",
            "[0, 1]\n",
            "0 2\n",
            "[0, 1, 2]\n",
            "1 0\n",
            "[0, 1, 2, 0]\n",
            "1 1\n",
            "[0, 1, 2, 0, 1]\n",
            "1 2\n",
            "[0, 1, 2, 0, 1, 2]\n",
            "2 0\n",
            "[0, 1, 2, 0, 1, 2, 0]\n",
            "2 1\n",
            "[0, 1, 2, 0, 1, 2, 0, 1]\n",
            "2 2\n",
            "[0, 1, 2, 0, 1, 2, 0, 1, 2]\n",
            "3 0\n",
            "[0, 1, 2, 0, 1, 2, 0, 1, 2, 0]\n",
            "3 1\n",
            "[0, 1, 2, 0, 1, 2, 0, 1, 2, 0, 1]\n",
            "3 2\n",
            "[0, 1, 2, 0, 1, 2, 0, 1, 2, 0, 1, 2]\n"
          ]
        }
      ]
    },
    {
      "cell_type": "code",
      "source": [
        "#We can write it in a slightly different way\n",
        "list_of_numbers= [num2 for num1 in range(4) for num2 in range(3)]\n",
        "print(list_of_numbers)\n",
        ""
      ],
      "metadata": {
        "colab": {
          "base_uri": "https://localhost:8080/"
        },
        "id": "VgAuLOfY-Bok",
        "outputId": "dd6de996-6d1d-4340-d011-d9928a49fe31"
      },
      "execution_count": 14,
      "outputs": [
        {
          "output_type": "stream",
          "name": "stdout",
          "text": [
            "[0, 1, 2, 0, 1, 2, 0, 1, 2, 0, 1, 2]\n"
          ]
        }
      ]
    },
    {
      "cell_type": "code",
      "source": [
        "list_of_numbers=[num2**2 for num2 in range(3) for num1 in range(4)]\n",
        "print(list_of_numbers)"
      ],
      "metadata": {
        "colab": {
          "base_uri": "https://localhost:8080/"
        },
        "id": "QVB5JveN-DMF",
        "outputId": "d10b938b-411c-4e59-b865-187992522531"
      },
      "execution_count": 15,
      "outputs": [
        {
          "output_type": "stream",
          "name": "stdout",
          "text": [
            "[0, 0, 0, 0, 1, 1, 1, 1, 4, 4, 4, 4]\n"
          ]
        }
      ]
    },
    {
      "cell_type": "code",
      "source": [
        "sample=[[]]\n",
        "len(sample)\n",
        "sample[0]\n",
        ""
      ],
      "metadata": {
        "colab": {
          "base_uri": "https://localhost:8080/"
        },
        "id": "L5tJwPvr-MdF",
        "outputId": "66dfa94b-963e-47d1-b5ec-1bdcd3264fe2"
      },
      "execution_count": 16,
      "outputs": [
        {
          "output_type": "execute_result",
          "data": {
            "text/plain": [
              "[]"
            ]
          },
          "metadata": {},
          "execution_count": 16
        }
      ]
    },
    {
      "cell_type": "code",
      "source": [
        "list_of_lists=[1]\n",
        "#for num1 in range(4):\n",
        "#Append an empty sublist inside the list\n",
        "list_of_lists.append([]) #[[0]] , list_of_lists[1]\n",
        "#print(list_of_lists"
      ],
      "metadata": {
        "id": "mc7fmg0K-OIc"
      },
      "execution_count": 17,
      "outputs": []
    },
    {
      "cell_type": "code",
      "source": [
        "#Using list comprehension we can write the same thing\n",
        "list_of_lists=[[num1 for num2 in range(3)] for num1 in range(4)]\n",
        "print(list_of_lists)\n",
        "\n",
        ""
      ],
      "metadata": {
        "colab": {
          "base_uri": "https://localhost:8080/"
        },
        "id": "fGmNlC7T-V4k",
        "outputId": "41e31b65-a420-419e-b79a-a1fa76a6087d"
      },
      "execution_count": 19,
      "outputs": [
        {
          "output_type": "stream",
          "name": "stdout",
          "text": [
            "[[0, 0, 0], [1, 1, 1], [2, 2, 2], [3, 3, 3]]\n"
          ]
        }
      ]
    },
    {
      "cell_type": "code",
      "source": [
        "heisenberg_quote= \"It ceases to exist without me. No,you clearly don't know who you're talkingto, so let me clue you in. I am not in danger,Skyler. I am the danger\"\n",
        "words_by_walter = heisenberg_quote.split(' ')\n",
        "print(words_by_walter)\n",
        ""
      ],
      "metadata": {
        "colab": {
          "base_uri": "https://localhost:8080/"
        },
        "id": "J8Muhd8F-vwD",
        "outputId": "98914967-28eb-4204-8ea5-57c77e38b421"
      },
      "execution_count": 20,
      "outputs": [
        {
          "output_type": "stream",
          "name": "stdout",
          "text": [
            "['It', 'ceases', 'to', 'exist', 'without', 'me.', 'No,you', 'clearly', \"don't\", 'know', 'who', \"you're\", 'talkingto,', 'so', 'let', 'me', 'clue', 'you', 'in.', 'I', 'am', 'not', 'in', 'danger,Skyler.', 'I', 'am', 'the', 'danger']\n"
          ]
        }
      ]
    },
    {
      "cell_type": "code",
      "source": [
        "heisenberg_quote.split('t')"
      ],
      "metadata": {
        "colab": {
          "base_uri": "https://localhost:8080/"
        },
        "id": "-zHRfca4-45U",
        "outputId": "35689c1b-67f5-48eb-a5d6-6d1009819f58"
      },
      "execution_count": 21,
      "outputs": [
        {
          "output_type": "execute_result",
          "data": {
            "text/plain": [
              "['I',\n",
              " ' ceases ',\n",
              " 'o exis',\n",
              " ' wi',\n",
              " 'hou',\n",
              " \" me. No,you clearly don'\",\n",
              " \" know who you're \",\n",
              " 'alking',\n",
              " 'o, so le',\n",
              " ' me clue you in. I am no',\n",
              " ' in danger,Skyler. I am ',\n",
              " 'he danger']"
            ]
          },
          "metadata": {},
          "execution_count": 21
        }
      ]
    },
    {
      "cell_type": "code",
      "source": [
        "#Let's you store the first time of each word in another list\n",
        "first_letters = []\n",
        "for word in words_by_walter:\n",
        "  first_letters.append(word[0])\n",
        ""
      ],
      "metadata": {
        "id": "YhfKqAA9-9_q"
      },
      "execution_count": 22,
      "outputs": []
    },
    {
      "cell_type": "code",
      "source": [
        "#Print the first_letters list\n",
        "print(first_letters)"
      ],
      "metadata": {
        "colab": {
          "base_uri": "https://localhost:8080/"
        },
        "id": "ax-Sl9CQ_DC5",
        "outputId": "d1937aca-75c4-4222-8645-095817670ff2"
      },
      "execution_count": 23,
      "outputs": [
        {
          "output_type": "stream",
          "name": "stdout",
          "text": [
            "['I', 'c', 't', 'e', 'w', 'm', 'N', 'c', 'd', 'k', 'w', 'y', 't', 's', 'l', 'm', 'c', 'y', 'i', 'I', 'a', 'n', 'i', 'd', 'I', 'a', 't', 'd']\n"
          ]
        }
      ]
    },
    {
      "cell_type": "code",
      "source": [
        "#The same task but now with list comprehension\n",
        "first_letters=[word[0] for word in words_by_walter]\n",
        "print(first_letters)"
      ],
      "metadata": {
        "colab": {
          "base_uri": "https://localhost:8080/"
        },
        "id": "IBaysjMI_JLK",
        "outputId": "01eb92a2-f796-47a7-f76f-c9f922ed7459"
      },
      "execution_count": 24,
      "outputs": [
        {
          "output_type": "stream",
          "name": "stdout",
          "text": [
            "['I', 'c', 't', 'e', 'w', 'm', 'N', 'c', 'd', 'k', 'w', 'y', 't', 's', 'l', 'm', 'c', 'y', 'i', 'I', 'a', 'n', 'i', 'd', 'I', 'a', 't', 'd']\n"
          ]
        }
      ]
    },
    {
      "cell_type": "code",
      "source": [
        "heisenberg_quote.split(',')"
      ],
      "metadata": {
        "colab": {
          "base_uri": "https://localhost:8080/"
        },
        "id": "3uy_0DNt_POJ",
        "outputId": "e132fd49-6e57-4f2f-c6d1-5ad4b12f07e5"
      },
      "execution_count": 25,
      "outputs": [
        {
          "output_type": "execute_result",
          "data": {
            "text/plain": [
              "['It ceases to exist without me. No',\n",
              " \"you clearly don't know who you're talkingto\",\n",
              " ' so let me clue you in. I am not in danger',\n",
              " 'Skyler. I am the danger']"
            ]
          },
          "metadata": {},
          "execution_count": 25
        }
      ]
    },
    {
      "cell_type": "code",
      "source": [
        "my_string='Alphsbet Inc.'\n",
        "list_of_characters= [char for char in my_string]\n",
        "print(list_of_characters)"
      ],
      "metadata": {
        "colab": {
          "base_uri": "https://localhost:8080/"
        },
        "id": "e_9Z2kiy_SZq",
        "outputId": "2eb57026-1f0d-4f1d-9a83-65cb65c5c830"
      },
      "execution_count": 26,
      "outputs": [
        {
          "output_type": "stream",
          "name": "stdout",
          "text": [
            "['A', 'l', 'p', 'h', 's', 'b', 'e', 't', ' ', 'I', 'n', 'c', '.']\n"
          ]
        }
      ]
    },
    {
      "cell_type": "code",
      "source": [
        "#Suppose we have a tuple of days\n",
        "days = ('Monday','Tuesday','Wednesday','Thursday','Friday','Saturday','Sunday')\n",
        "tuple(day for day in days)\n",
        ""
      ],
      "metadata": {
        "colab": {
          "base_uri": "https://localhost:8080/"
        },
        "id": "ZuOtwS0q_Vei",
        "outputId": "518d2c63-7968-4c36-b70e-8359121fc232"
      },
      "execution_count": 27,
      "outputs": [
        {
          "output_type": "execute_result",
          "data": {
            "text/plain": [
              "('Monday', 'Tuesday', 'Wednesday', 'Thursday', 'Friday', 'Saturday', 'Sunday')"
            ]
          },
          "metadata": {},
          "execution_count": 27
        }
      ]
    },
    {
      "cell_type": "code",
      "source": [
        "#Let us create a tuple where we want to remove the word 'day' from each tuple element\n",
        "days_without_day = tuple([day[:-3] for day in days])\n",
        "print(days_without_day)"
      ],
      "metadata": {
        "colab": {
          "base_uri": "https://localhost:8080/"
        },
        "id": "l_ezbHnT_Yx5",
        "outputId": "9b2eb56f-bded-4a21-e38e-efb21486e3f4"
      },
      "execution_count": 28,
      "outputs": [
        {
          "output_type": "stream",
          "name": "stdout",
          "text": [
            "('Mon', 'Tues', 'Wednes', 'Thurs', 'Fri', 'Satur', 'Sun')\n"
          ]
        }
      ]
    },
    {
      "cell_type": "code",
      "source": [
        "#Using a 'for loop'\n",
        "first_letters = set()\n",
        "for word in words_by_walter:\n",
        "  first_letters.add(word[0])\n",
        "  print(first_letters)\n",
        ""
      ],
      "metadata": {
        "colab": {
          "base_uri": "https://localhost:8080/"
        },
        "id": "epHUxJBu_b5q",
        "outputId": "03558b25-e936-4820-d26d-6d2740dd62df"
      },
      "execution_count": 29,
      "outputs": [
        {
          "output_type": "stream",
          "name": "stdout",
          "text": [
            "{'I'}\n",
            "{'I', 'c'}\n",
            "{'t', 'I', 'c'}\n",
            "{'t', 'e', 'I', 'c'}\n",
            "{'e', 'w', 'I', 'c', 't'}\n",
            "{'e', 'w', 'I', 'c', 't', 'm'}\n",
            "{'e', 'w', 'I', 'c', 't', 'N', 'm'}\n",
            "{'e', 'w', 'I', 'c', 't', 'N', 'm'}\n",
            "{'e', 'w', 'I', 'd', 'c', 't', 'N', 'm'}\n",
            "{'e', 'w', 'I', 'd', 'c', 't', 'N', 'k', 'm'}\n",
            "{'e', 'w', 'I', 'd', 'c', 't', 'N', 'k', 'm'}\n",
            "{'e', 'w', 'I', 'd', 'c', 't', 'N', 'k', 'y', 'm'}\n",
            "{'e', 'w', 'I', 'd', 'c', 't', 'N', 'k', 'y', 'm'}\n",
            "{'e', 'w', 'I', 'd', 'c', 't', 'N', 'k', 's', 'y', 'm'}\n",
            "{'e', 'w', 'I', 'd', 'c', 't', 'N', 'k', 's', 'l', 'y', 'm'}\n",
            "{'e', 'w', 'I', 'd', 'c', 't', 'N', 'k', 's', 'l', 'y', 'm'}\n",
            "{'e', 'w', 'I', 'd', 'c', 't', 'N', 'k', 's', 'l', 'y', 'm'}\n",
            "{'e', 'w', 'I', 'd', 'c', 't', 'N', 'k', 's', 'l', 'y', 'm'}\n",
            "{'e', 'w', 'I', 'd', 'c', 't', 'N', 'k', 's', 'i', 'l', 'y', 'm'}\n",
            "{'e', 'w', 'I', 'd', 'c', 't', 'N', 'k', 's', 'i', 'l', 'y', 'm'}\n",
            "{'e', 'w', 'I', 'd', 'c', 't', 'N', 'k', 's', 'i', 'a', 'l', 'y', 'm'}\n",
            "{'e', 'w', 'I', 'd', 'c', 't', 'n', 'N', 'k', 's', 'i', 'a', 'l', 'y', 'm'}\n",
            "{'e', 'w', 'I', 'd', 'c', 't', 'n', 'N', 'k', 's', 'i', 'a', 'l', 'y', 'm'}\n",
            "{'e', 'w', 'I', 'd', 'c', 't', 'n', 'N', 'k', 's', 'i', 'a', 'l', 'y', 'm'}\n",
            "{'e', 'w', 'I', 'd', 'c', 't', 'n', 'N', 'k', 's', 'i', 'a', 'l', 'y', 'm'}\n",
            "{'e', 'w', 'I', 'd', 'c', 't', 'n', 'N', 'k', 's', 'i', 'a', 'l', 'y', 'm'}\n",
            "{'e', 'w', 'I', 'd', 'c', 't', 'n', 'N', 'k', 's', 'i', 'a', 'l', 'y', 'm'}\n",
            "{'e', 'w', 'I', 'd', 'c', 't', 'n', 'N', 'k', 's', 'i', 'a', 'l', 'y', 'm'}\n"
          ]
        }
      ]
    },
    {
      "cell_type": "code",
      "source": [
        "#Using set comprehension\n",
        "first_letters = {word[0] for word in words_by_walter}\n",
        "print(first_letters)"
      ],
      "metadata": {
        "colab": {
          "base_uri": "https://localhost:8080/"
        },
        "id": "r3eW-PNA_fnZ",
        "outputId": "d8dfa98a-f603-4871-d112-0fc098aafb45"
      },
      "execution_count": 30,
      "outputs": [
        {
          "output_type": "stream",
          "name": "stdout",
          "text": [
            "{'e', 'w', 'I', 'd', 'c', 't', 'n', 'N', 'k', 's', 'i', 'a', 'l', 'y', 'm'}\n"
          ]
        }
      ]
    },
    {
      "cell_type": "code",
      "source": [
        "#Dictionary comprehensions\n",
        "country_city_list = [('India','New Delhi'), ('Australia','Canberra'), ('United States' ,'Washington DC'),('England','London')]\n",
        ""
      ],
      "metadata": {
        "id": "mQ1u8tZw_kmY"
      },
      "execution_count": 31,
      "outputs": []
    },
    {
      "cell_type": "code",
      "source": [
        "#Lets convert the list of tuples to a dictionary\n",
        "country_city_dict = dict(country_city_list)\n",
        "print(country_city_dict)\n",
        ""
      ],
      "metadata": {
        "colab": {
          "base_uri": "https://localhost:8080/"
        },
        "id": "heETpghV_oJg",
        "outputId": "7a302036-5bb7-4834-b849-65e3ff6e724a"
      },
      "execution_count": 32,
      "outputs": [
        {
          "output_type": "stream",
          "name": "stdout",
          "text": [
            "{'India': 'New Delhi', 'Australia': 'Canberra', 'United States': 'Washington DC', 'England': 'London'}\n"
          ]
        }
      ]
    },
    {
      "cell_type": "code",
      "source": [
        "#The conventional for loop approach\n",
        "flipped = {}\n",
        "for country, city in country_city_dict.items():\n",
        "  flipped[city] = country\n",
        "\n",
        "print(flipped)"
      ],
      "metadata": {
        "colab": {
          "base_uri": "https://localhost:8080/"
        },
        "id": "zdEadCAI_rTo",
        "outputId": "e78fe76f-137d-4442-cc6c-4c7727e96b3b"
      },
      "execution_count": 33,
      "outputs": [
        {
          "output_type": "stream",
          "name": "stdout",
          "text": [
            "{'New Delhi': 'India', 'Canberra': 'Australia', 'Washington DC': 'United States', 'London': 'England'}\n"
          ]
        }
      ]
    },
    {
      "cell_type": "code",
      "source": [
        "#The new dictionary comprehension\n",
        "flipped={city:country for country, city in country_city_dict.items()}\n",
        "print(flipped)\n",
        ""
      ],
      "metadata": {
        "colab": {
          "base_uri": "https://localhost:8080/"
        },
        "id": "nwiOi0lh_v3Z",
        "outputId": "b3b94939-2cd3-4810-eb00-68a1753ba115"
      },
      "execution_count": 34,
      "outputs": [
        {
          "output_type": "stream",
          "name": "stdout",
          "text": [
            "{'New Delhi': 'India', 'Canberra': 'Australia', 'Washington DC': 'United States', 'London': 'England'}\n"
          ]
        }
      ]
    },
    {
      "cell_type": "code",
      "source": [
        "#We can further add conditionals\n",
        "flipped={city:country for country, city in country_city_dict.items() if country[0] in ['E','A']}\n",
        "print(flipped)"
      ],
      "metadata": {
        "colab": {
          "base_uri": "https://localhost:8080/"
        },
        "id": "bf4L3wiJ_w3Z",
        "outputId": "df65ced0-f8e3-4bb0-a9cc-4e2efbf57b80"
      },
      "execution_count": 35,
      "outputs": [
        {
          "output_type": "stream",
          "name": "stdout",
          "text": [
            "{'Canberra': 'Australia', 'London': 'England'}\n"
          ]
        }
      ]
    },
    {
      "cell_type": "code",
      "source": [
        "#The new dictionary comprehension\n",
        "flipped={country[:2] : city[-2:] for country, city in country_city_dict.items()}\n",
        "print(flipped)\n",
        ""
      ],
      "metadata": {
        "colab": {
          "base_uri": "https://localhost:8080/"
        },
        "id": "dnuf770W_1iB",
        "outputId": "a83a6fbe-6533-4440-c2a7-9c26c48c008d"
      },
      "execution_count": 36,
      "outputs": [
        {
          "output_type": "stream",
          "name": "stdout",
          "text": [
            "{'In': 'hi', 'Au': 'ra', 'Un': 'DC', 'En': 'on'}\n"
          ]
        }
      ]
    },
    {
      "cell_type": "code",
      "source": [
        "print(country_city_dict)\n",
        ""
      ],
      "metadata": {
        "colab": {
          "base_uri": "https://localhost:8080/"
        },
        "id": "qkVH3wuA_4gJ",
        "outputId": "1a9d705a-759e-48ec-bf35-76ca8964619f"
      },
      "execution_count": 37,
      "outputs": [
        {
          "output_type": "stream",
          "name": "stdout",
          "text": [
            "{'India': 'New Delhi', 'Australia': 'Canberra', 'United States': 'Washington DC', 'England': 'London'}\n"
          ]
        }
      ]
    }
  ]
}