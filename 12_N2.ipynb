{
  "nbformat": 4,
  "nbformat_minor": 0,
  "metadata": {
    "colab": {
      "provenance": [],
      "authorship_tag": "ABX9TyNEgI0X2ie4Fl6pEVGkkOY6",
      "include_colab_link": true
    },
    "kernelspec": {
      "name": "python3",
      "display_name": "Python 3"
    },
    "language_info": {
      "name": "python"
    }
  },
  "cells": [
    {
      "cell_type": "markdown",
      "metadata": {
        "id": "view-in-github",
        "colab_type": "text"
      },
      "source": [
        "<a href=\"https://colab.research.google.com/github/VidhiNegi19/sem4/blob/main/12_N2.ipynb\" target=\"_parent\"><img src=\"https://colab.research.google.com/assets/colab-badge.svg\" alt=\"Open In Colab\"/></a>"
      ]
    },
    {
      "cell_type": "code",
      "source": [
        "import numpy as np"
      ],
      "metadata": {
        "id": "EpaZY5RLFcRb"
      },
      "execution_count": 1,
      "outputs": []
    },
    {
      "cell_type": "code",
      "source": [
        "#np.transpose()\n",
        "#Create a 2d array\n",
        "two_d_array = np.array(np.random.randint(1,5,(2,5)))\n",
        "print(f\"the defined array is\\n{two_d_array}\")\n",
        "print(f\"\\n the shape of the array is {two_d_array.shape}\")"
      ],
      "metadata": {
        "colab": {
          "base_uri": "https://localhost:8080/"
        },
        "id": "SSqozlI1FgL8",
        "outputId": "d936a3f1-3bc5-479b-e41a-b3be43860da0"
      },
      "execution_count": 2,
      "outputs": [
        {
          "output_type": "stream",
          "name": "stdout",
          "text": [
            "the defined array is\n",
            "[[2 3 3 1 4]\n",
            " [4 3 4 1 2]]\n",
            "\n",
            " the shape of the array is (2, 5)\n"
          ]
        }
      ]
    },
    {
      "cell_type": "code",
      "source": [
        "#Storing the transpose in another matrix object\n",
        "another_two_d_array = np.transpose(two_d_array)\n",
        "print(f\" the transpose of the array is \\n{another_two_d_array}\")\n",
        "print(f\"\\n the shape of the array is {another_two_d_array.shape}\")\n",
        ""
      ],
      "metadata": {
        "colab": {
          "base_uri": "https://localhost:8080/"
        },
        "id": "q-lTjNyAHYa5",
        "outputId": "2d88e570-d986-444e-9ef4-71b9c97e4c5f"
      },
      "execution_count": 3,
      "outputs": [
        {
          "output_type": "stream",
          "name": "stdout",
          "text": [
            " the transpose of the array is \n",
            "[[2 4]\n",
            " [3 3]\n",
            " [3 4]\n",
            " [1 1]\n",
            " [4 2]]\n",
            "\n",
            " the shape of the array is (5, 2)\n"
          ]
        }
      ]
    },
    {
      "cell_type": "code",
      "source": [
        "#Creating a 3d array\n",
        "three_d_array = np.array(np.random.randint(1,6,(3,3,3)))\n",
        "print(f\"the defined array is\\n{three_d_array}\")\n",
        "print(f\"\\n the shape of the array is {three_d_array.shape}\")"
      ],
      "metadata": {
        "colab": {
          "base_uri": "https://localhost:8080/"
        },
        "id": "xXaYj82aHbhw",
        "outputId": "70c417e5-6b50-4dcf-ea4c-5a0aa6a43a80"
      },
      "execution_count": 4,
      "outputs": [
        {
          "output_type": "stream",
          "name": "stdout",
          "text": [
            "the defined array is\n",
            "[[[5 5 5]\n",
            "  [1 4 3]\n",
            "  [1 3 2]]\n",
            "\n",
            " [[2 1 2]\n",
            "  [2 1 1]\n",
            "  [4 5 5]]\n",
            "\n",
            " [[3 1 3]\n",
            "  [1 5 3]\n",
            "  [1 5 1]]]\n",
            "\n",
            " the shape of the array is (3, 3, 3)\n"
          ]
        }
      ]
    },
    {
      "cell_type": "code",
      "source": [
        "#Storing the transpose of the created array\n",
        "another_three_d_array = np.transpose(three_d_array)\n",
        "print(f\"the transpose the array is \\n{three_d_array}\")\n",
        "print(f\"\\n the shape of the array is \\n{another_three_d_array.shape}\")"
      ],
      "metadata": {
        "colab": {
          "base_uri": "https://localhost:8080/"
        },
        "id": "ei0TJRMxHg2A",
        "outputId": "ee48fb84-2926-48d4-c0a8-8017cc3ce3c6"
      },
      "execution_count": 5,
      "outputs": [
        {
          "output_type": "stream",
          "name": "stdout",
          "text": [
            "the transpose the array is \n",
            "[[[5 5 5]\n",
            "  [1 4 3]\n",
            "  [1 3 2]]\n",
            "\n",
            " [[2 1 2]\n",
            "  [2 1 1]\n",
            "  [4 5 5]]\n",
            "\n",
            " [[3 1 3]\n",
            "  [1 5 3]\n",
            "  [1 5 1]]]\n",
            "\n",
            " the shape of the array is \n",
            "(3, 3, 3)\n"
          ]
        }
      ]
    },
    {
      "cell_type": "code",
      "source": [
        "#np.reshape()\n",
        "random_two_d_array = np.array(np.random.randint(2,4,(2,6)))\n",
        "print(f\" the defined array is \\n{random_two_d_array}\")\n",
        "print(f\"\\n the shape of the array is{random_two_d_array.shape}\")"
      ],
      "metadata": {
        "colab": {
          "base_uri": "https://localhost:8080/"
        },
        "id": "TQEatYQMHmbX",
        "outputId": "2b3b3cfd-e959-47a6-932a-6087fdf1cb3d"
      },
      "execution_count": 6,
      "outputs": [
        {
          "output_type": "stream",
          "name": "stdout",
          "text": [
            " the defined array is \n",
            "[[2 3 3 3 3 3]\n",
            " [2 2 2 3 2 3]]\n",
            "\n",
            " the shape of the array is(2, 6)\n"
          ]
        }
      ]
    },
    {
      "cell_type": "code",
      "source": [
        "#Now we can reshape this to 1d,2d,3d array\n",
        "new_shape = (2,2,3)\n",
        "reshaped_random_two_d_array = np.reshape(random_two_d_array, new_shape)\n",
        "print(f\" the reshaped array is \\n{reshaped_random_two_d_array}\")\n",
        "print(f\"\\n the shape of the array is{reshaped_random_two_d_array.shape}\")\n",
        ""
      ],
      "metadata": {
        "colab": {
          "base_uri": "https://localhost:8080/"
        },
        "id": "XKfLakJ5Hoxw",
        "outputId": "2107ac60-bd0a-41e2-de64-2402e7341feb"
      },
      "execution_count": 7,
      "outputs": [
        {
          "output_type": "stream",
          "name": "stdout",
          "text": [
            " the reshaped array is \n",
            "[[[2 3 3]\n",
            "  [3 3 3]]\n",
            "\n",
            " [[2 2 2]\n",
            "  [3 2 3]]]\n",
            "\n",
            " the shape of the array is(2, 2, 3)\n"
          ]
        }
      ]
    },
    {
      "cell_type": "code",
      "source": [
        "new_shape = (3,2,2)\n",
        "reshaped_random_two_d_array = np.reshape(random_two_d_array, new_shape)\n",
        "print(f\" the reshaped array is \\n{reshaped_random_two_d_array}\")\n",
        "print(f\" \\n the shape of the array is{reshaped_random_two_d_array.shape}\")"
      ],
      "metadata": {
        "colab": {
          "base_uri": "https://localhost:8080/"
        },
        "id": "__4phN12HsUP",
        "outputId": "9b8629e8-315d-4a83-d7a8-054393950bf3"
      },
      "execution_count": 8,
      "outputs": [
        {
          "output_type": "stream",
          "name": "stdout",
          "text": [
            " the reshaped array is \n",
            "[[[2 3]\n",
            "  [3 3]]\n",
            "\n",
            " [[3 3]\n",
            "  [2 2]]\n",
            "\n",
            " [[2 3]\n",
            "  [2 3]]]\n",
            " \n",
            " the shape of the array is(3, 2, 2)\n"
          ]
        }
      ]
    },
    {
      "cell_type": "code",
      "source": [
        "#Create a 3d array\n",
        "random_3d_array = np.array(np.random.randint(1,5,(3,3,2)))\n",
        "print(f\"the defined array is\\n{random_3d_array}\")\n",
        "print(f\"\\n the shape of the array is {random_3d_array.shape}\")"
      ],
      "metadata": {
        "colab": {
          "base_uri": "https://localhost:8080/"
        },
        "id": "YMyoLuriHx-A",
        "outputId": "db9fecea-e06a-4c89-fd6a-a7e1807c2fa4"
      },
      "execution_count": 9,
      "outputs": [
        {
          "output_type": "stream",
          "name": "stdout",
          "text": [
            "the defined array is\n",
            "[[[3 4]\n",
            "  [2 1]\n",
            "  [2 1]]\n",
            "\n",
            " [[2 4]\n",
            "  [4 4]\n",
            "  [2 4]]\n",
            "\n",
            " [[1 3]\n",
            "  [1 2]\n",
            "  [3 1]]]\n",
            "\n",
            " the shape of the array is (3, 3, 2)\n"
          ]
        }
      ]
    },
    {
      "cell_type": "code",
      "source": [
        "#Reshape the created 3d array\n",
        "new_shape = (3,2,3)\n",
        "reshaped_random_3d_array = np.reshape(random_3d_array, new_shape)\n",
        "print(f\" the reshaped array is \\n{reshaped_random_3d_array}\")\n",
        "print(\"f\\n the shape of the array is {reshaped_random_3d_array.shape}\")"
      ],
      "metadata": {
        "colab": {
          "base_uri": "https://localhost:8080/"
        },
        "id": "Z_jT2IekH_KX",
        "outputId": "0e0d79b0-0207-46b2-a08f-050c93fa257a"
      },
      "execution_count": 10,
      "outputs": [
        {
          "output_type": "stream",
          "name": "stdout",
          "text": [
            " the reshaped array is \n",
            "[[[3 4 2]\n",
            "  [1 2 1]]\n",
            "\n",
            " [[2 4 4]\n",
            "  [4 2 4]]\n",
            "\n",
            " [[1 3 1]\n",
            "  [2 3 1]]]\n",
            "f\n",
            " the shape of the array is {reshaped_random_3d_array.shape}\n"
          ]
        }
      ]
    },
    {
      "cell_type": "code",
      "source": [
        "#np.resize(shape)\n",
        "#Initialize a 3d array\n",
        "random_3d_array = np.array(np.random.randint(1,5,(3,3,2)))\n",
        "print(f\"the defined array is\\n{random_3d_array}\")\n",
        "print(f\"\\n the shape of the array is {random_3d_array.shape}\")"
      ],
      "metadata": {
        "colab": {
          "base_uri": "https://localhost:8080/"
        },
        "id": "DP4PDbW4IHTm",
        "outputId": "0769fe56-a6cd-4ad5-8791-f2443a425704"
      },
      "execution_count": 11,
      "outputs": [
        {
          "output_type": "stream",
          "name": "stdout",
          "text": [
            "the defined array is\n",
            "[[[2 1]\n",
            "  [1 1]\n",
            "  [3 2]]\n",
            "\n",
            " [[4 3]\n",
            "  [2 3]\n",
            "  [2 3]]\n",
            "\n",
            " [[2 4]\n",
            "  [2 3]\n",
            "  [1 2]]]\n",
            "\n",
            " the shape of the array is (3, 3, 2)\n"
          ]
        }
      ]
    },
    {
      "cell_type": "code",
      "source": [
        "#Resize the created 3d array\n",
        "new_shape = (3,2,3)\n",
        "resized_random_3d_array = np.resize(random_3d_array, new_shape)\n",
        "print(f\" the resized array is \\n{resized_random_3d_array}\")\n",
        "print(f\" \\n the shape of the array is {reshaped_random_3d_array.shape}\")"
      ],
      "metadata": {
        "colab": {
          "base_uri": "https://localhost:8080/"
        },
        "id": "6sCkXvtIIR3B",
        "outputId": "5848bf38-98e5-408f-b9f1-a3e02e3ccd99"
      },
      "execution_count": 12,
      "outputs": [
        {
          "output_type": "stream",
          "name": "stdout",
          "text": [
            " the resized array is \n",
            "[[[2 1 1]\n",
            "  [1 3 2]]\n",
            "\n",
            " [[4 3 2]\n",
            "  [3 2 3]]\n",
            "\n",
            " [[2 4 2]\n",
            "  [3 1 2]]]\n",
            " \n",
            " the shape of the array is (3, 2, 3)\n"
          ]
        }
      ]
    },
    {
      "cell_type": "code",
      "source": [
        "random_3d_array.resize(new_shape)\n",
        "random_3d_array"
      ],
      "metadata": {
        "colab": {
          "base_uri": "https://localhost:8080/"
        },
        "id": "TghBF5XVIVJm",
        "outputId": "d0deac0b-360d-4bff-b2d8-677a7e8a5097"
      },
      "execution_count": 13,
      "outputs": [
        {
          "output_type": "execute_result",
          "data": {
            "text/plain": [
              "array([[[2, 1, 1],\n",
              "        [1, 3, 2]],\n",
              "\n",
              "       [[4, 3, 2],\n",
              "        [3, 2, 3]],\n",
              "\n",
              "       [[2, 4, 2],\n",
              "        [3, 1, 2]]])"
            ]
          },
          "metadata": {},
          "execution_count": 13
        }
      ]
    },
    {
      "cell_type": "code",
      "source": [
        "#np.flatten()\n",
        "#Initialize a 3d array\n",
        "random_3d_array = np.array(np.random.randint(1,5,(3,3,2)))\n",
        "print(f\"the defined array is\\n{random_3d_array}\")\n",
        "print(f\"\\n the shape of the array is {random_3d_array.shape}\")"
      ],
      "metadata": {
        "colab": {
          "base_uri": "https://localhost:8080/"
        },
        "id": "yw3f4cQBIYyG",
        "outputId": "fd2160c6-6dbb-4e0d-c45f-e83910924f09"
      },
      "execution_count": 14,
      "outputs": [
        {
          "output_type": "stream",
          "name": "stdout",
          "text": [
            "the defined array is\n",
            "[[[4 3]\n",
            "  [4 2]\n",
            "  [2 1]]\n",
            "\n",
            " [[3 3]\n",
            "  [1 2]\n",
            "  [4 2]]\n",
            "\n",
            " [[2 3]\n",
            "  [3 2]\n",
            "  [3 4]]]\n",
            "\n",
            " the shape of the array is (3, 3, 2)\n"
          ]
        }
      ]
    },
    {
      "cell_type": "code",
      "source": [
        "#Flatten the 3d array\n",
        "random_3d_array.flatten()"
      ],
      "metadata": {
        "colab": {
          "base_uri": "https://localhost:8080/"
        },
        "id": "yp8ootZiIfcG",
        "outputId": "4bb639ff-0726-494d-b286-1972f30f1f68"
      },
      "execution_count": 15,
      "outputs": [
        {
          "output_type": "execute_result",
          "data": {
            "text/plain": [
              "array([4, 3, 4, 2, 2, 1, 3, 3, 1, 2, 4, 2, 2, 3, 3, 2, 3, 4])"
            ]
          },
          "metadata": {},
          "execution_count": 15
        }
      ]
    },
    {
      "cell_type": "code",
      "source": [
        "#Flattens the array in row-major order with 'c'\n",
        "random_3d_array.flatten('c')"
      ],
      "metadata": {
        "colab": {
          "base_uri": "https://localhost:8080/"
        },
        "id": "-XTdYKuPIp--",
        "outputId": "15f0a8ec-24be-4b2f-fee7-cebf59a10693"
      },
      "execution_count": 16,
      "outputs": [
        {
          "output_type": "execute_result",
          "data": {
            "text/plain": [
              "array([4, 3, 4, 2, 2, 1, 3, 3, 1, 2, 4, 2, 2, 3, 3, 2, 3, 4])"
            ]
          },
          "metadata": {},
          "execution_count": 16
        }
      ]
    },
    {
      "cell_type": "code",
      "source": [
        "random_3d_array.flatten('f')"
      ],
      "metadata": {
        "colab": {
          "base_uri": "https://localhost:8080/"
        },
        "id": "styE7uu6IxKN",
        "outputId": "ac1a76cc-d4c5-47b5-dbd4-efd65bca09e2"
      },
      "execution_count": 17,
      "outputs": [
        {
          "output_type": "execute_result",
          "data": {
            "text/plain": [
              "array([4, 3, 2, 4, 1, 3, 2, 4, 3, 3, 3, 3, 2, 2, 2, 1, 2, 4])"
            ]
          },
          "metadata": {},
          "execution_count": 17
        }
      ]
    },
    {
      "cell_type": "code",
      "source": [
        "#np.insert(arr,obj,values,axis)\n",
        "import numpy as np\n",
        "\n",
        "a = np.random.randint(10,20,(2,3,4))\n",
        "print(a)\n",
        "print(a.shape)"
      ],
      "metadata": {
        "colab": {
          "base_uri": "https://localhost:8080/"
        },
        "id": "fU6wY_InI3c2",
        "outputId": "1200ca7c-7c5e-4692-ff7c-ebb993cc2e21"
      },
      "execution_count": 18,
      "outputs": [
        {
          "output_type": "stream",
          "name": "stdout",
          "text": [
            "[[[16 13 14 10]\n",
            "  [15 13 17 18]\n",
            "  [15 18 17 16]]\n",
            "\n",
            " [[10 17 14 12]\n",
            "  [17 11 15 19]\n",
            "  [14 16 15 18]]]\n",
            "(2, 3, 4)\n"
          ]
        }
      ]
    },
    {
      "cell_type": "code",
      "source": [
        "#Insert along axis=0\n",
        "np.insert(a,1,100,axis=0)"
      ],
      "metadata": {
        "colab": {
          "base_uri": "https://localhost:8080/"
        },
        "id": "RJr6jr8_I8bd",
        "outputId": "d667b6cb-955c-4e3a-e839-842f17f6eccf"
      },
      "execution_count": 19,
      "outputs": [
        {
          "output_type": "execute_result",
          "data": {
            "text/plain": [
              "array([[[ 16,  13,  14,  10],\n",
              "        [ 15,  13,  17,  18],\n",
              "        [ 15,  18,  17,  16]],\n",
              "\n",
              "       [[100, 100, 100, 100],\n",
              "        [100, 100, 100, 100],\n",
              "        [100, 100, 100, 100]],\n",
              "\n",
              "       [[ 10,  17,  14,  12],\n",
              "        [ 17,  11,  15,  19],\n",
              "        [ 14,  16,  15,  18]]])"
            ]
          },
          "metadata": {},
          "execution_count": 19
        }
      ]
    },
    {
      "cell_type": "code",
      "source": [
        "#Along axis=1\n",
        "np.insert(a,0,50,axis=1)"
      ],
      "metadata": {
        "colab": {
          "base_uri": "https://localhost:8080/"
        },
        "id": "pnmJUw1aI_qN",
        "outputId": "d3a080ce-4c13-4c63-d059-77681701c30d"
      },
      "execution_count": 20,
      "outputs": [
        {
          "output_type": "execute_result",
          "data": {
            "text/plain": [
              "array([[[50, 50, 50, 50],\n",
              "        [16, 13, 14, 10],\n",
              "        [15, 13, 17, 18],\n",
              "        [15, 18, 17, 16]],\n",
              "\n",
              "       [[50, 50, 50, 50],\n",
              "        [10, 17, 14, 12],\n",
              "        [17, 11, 15, 19],\n",
              "        [14, 16, 15, 18]]])"
            ]
          },
          "metadata": {},
          "execution_count": 20
        }
      ]
    },
    {
      "cell_type": "code",
      "source": [
        "#Along axis=2\n",
        "np.insert(a,0,200,axis=2)"
      ],
      "metadata": {
        "colab": {
          "base_uri": "https://localhost:8080/"
        },
        "id": "8UOjZKXkJDHO",
        "outputId": "5b5eee94-02a5-4bb9-fa8d-8db8c3a22ded"
      },
      "execution_count": 21,
      "outputs": [
        {
          "output_type": "execute_result",
          "data": {
            "text/plain": [
              "array([[[200,  16,  13,  14,  10],\n",
              "        [200,  15,  13,  17,  18],\n",
              "        [200,  15,  18,  17,  16]],\n",
              "\n",
              "       [[200,  10,  17,  14,  12],\n",
              "        [200,  17,  11,  15,  19],\n",
              "        [200,  14,  16,  15,  18]]])"
            ]
          },
          "metadata": {},
          "execution_count": 21
        }
      ]
    },
    {
      "cell_type": "code",
      "source": [
        "#np.append(arr,values,axis)\n",
        "\n",
        "a = np.random.randint(2,6,(2,3,3))\n",
        "print(a)\n",
        "print(a.shape)"
      ],
      "metadata": {
        "colab": {
          "base_uri": "https://localhost:8080/"
        },
        "id": "DV8sYU1NJJcF",
        "outputId": "3782ea4a-a5f0-43be-a686-e5c6490f8bb5"
      },
      "execution_count": 22,
      "outputs": [
        {
          "output_type": "stream",
          "name": "stdout",
          "text": [
            "[[[4 2 5]\n",
            "  [2 2 3]\n",
            "  [2 4 4]]\n",
            "\n",
            " [[5 5 5]\n",
            "  [2 5 5]\n",
            "  [4 5 2]]]\n",
            "(2, 3, 3)\n"
          ]
        }
      ]
    },
    {
      "cell_type": "code",
      "source": [
        "#Append a value to the array. It flattens the array and append =99 to the end\n",
        "np.append(a,50)"
      ],
      "metadata": {
        "colab": {
          "base_uri": "https://localhost:8080/"
        },
        "id": "8xgbB7AZJM5X",
        "outputId": "311964e9-f1f6-4fd3-9865-65e1871eddd7"
      },
      "execution_count": 23,
      "outputs": [
        {
          "output_type": "execute_result",
          "data": {
            "text/plain": [
              "array([ 4,  2,  5,  2,  2,  3,  2,  4,  4,  5,  5,  5,  2,  5,  5,  4,  5,\n",
              "        2, 50])"
            ]
          },
          "metadata": {},
          "execution_count": 23
        }
      ]
    },
    {
      "cell_type": "code",
      "source": [
        "#Fix the axis other than axis of appending\n",
        "b = np.random.randint(2,6,(2,1,3))\n",
        "print(b)"
      ],
      "metadata": {
        "colab": {
          "base_uri": "https://localhost:8080/"
        },
        "id": "JdUxZEIjJQSk",
        "outputId": "795918e9-e1d5-432f-8cbb-bc4f26bd2ce7"
      },
      "execution_count": 24,
      "outputs": [
        {
          "output_type": "stream",
          "name": "stdout",
          "text": [
            "[[[5 3 2]]\n",
            "\n",
            " [[4 4 3]]]\n"
          ]
        }
      ]
    },
    {
      "cell_type": "code",
      "source": [
        "print(a)\n",
        "print(a.shape)"
      ],
      "metadata": {
        "colab": {
          "base_uri": "https://localhost:8080/"
        },
        "id": "QkRUh2ALJTnV",
        "outputId": "79c8210c-0a78-44c6-fbe6-8358f4b66e1c"
      },
      "execution_count": 25,
      "outputs": [
        {
          "output_type": "stream",
          "name": "stdout",
          "text": [
            "[[[4 2 5]\n",
            "  [2 2 3]\n",
            "  [2 4 4]]\n",
            "\n",
            " [[5 5 5]\n",
            "  [2 5 5]\n",
            "  [4 5 2]]]\n",
            "(2, 3, 3)\n"
          ]
        }
      ]
    },
    {
      "cell_type": "code",
      "source": [
        "np.append(a,b,axis=1)"
      ],
      "metadata": {
        "colab": {
          "base_uri": "https://localhost:8080/"
        },
        "id": "b8wF_sD9JX3b",
        "outputId": "6d95044a-0717-4117-aa9f-2f5324215ee3"
      },
      "execution_count": 26,
      "outputs": [
        {
          "output_type": "execute_result",
          "data": {
            "text/plain": [
              "array([[[4, 2, 5],\n",
              "        [2, 2, 3],\n",
              "        [2, 4, 4],\n",
              "        [5, 3, 2]],\n",
              "\n",
              "       [[5, 5, 5],\n",
              "        [2, 5, 5],\n",
              "        [4, 5, 2],\n",
              "        [4, 4, 3]]])"
            ]
          },
          "metadata": {},
          "execution_count": 26
        }
      ]
    },
    {
      "cell_type": "code",
      "source": [
        "#np.delete(arr,pbj,axis)\n",
        "\n",
        "a = np.random.randint(2,6,(2,3,3))\n",
        "print(a)\n",
        "print(a.shape)"
      ],
      "metadata": {
        "colab": {
          "base_uri": "https://localhost:8080/"
        },
        "id": "TrhCd-0vJbvl",
        "outputId": "7d9cd46d-0945-430e-b801-92490124df82"
      },
      "execution_count": 27,
      "outputs": [
        {
          "output_type": "stream",
          "name": "stdout",
          "text": [
            "[[[2 2 3]\n",
            "  [2 2 2]\n",
            "  [3 5 5]]\n",
            "\n",
            " [[5 4 4]\n",
            "  [5 2 2]\n",
            "  [2 3 2]]]\n",
            "(2, 3, 3)\n"
          ]
        }
      ]
    },
    {
      "cell_type": "code",
      "source": [
        "#Delete along axis=0\n",
        "np.delete(a,(0), axis=0)"
      ],
      "metadata": {
        "colab": {
          "base_uri": "https://localhost:8080/"
        },
        "id": "XnDmpDjOJeTN",
        "outputId": "0c2380c0-e2f7-4478-c15d-3e5fe140d5ae"
      },
      "execution_count": 28,
      "outputs": [
        {
          "output_type": "execute_result",
          "data": {
            "text/plain": [
              "array([[[5, 4, 4],\n",
              "        [5, 2, 2],\n",
              "        [2, 3, 2]]])"
            ]
          },
          "metadata": {},
          "execution_count": 28
        }
      ]
    },
    {
      "cell_type": "code",
      "source": [
        "#Delete along axis=1\n",
        "np.delete(a,(0,2), axis=1)\n",
        ""
      ],
      "metadata": {
        "colab": {
          "base_uri": "https://localhost:8080/"
        },
        "id": "voHtHsqHJrp1",
        "outputId": "863dd14d-327f-4ca0-b072-12c3bc74b04e"
      },
      "execution_count": 29,
      "outputs": [
        {
          "output_type": "execute_result",
          "data": {
            "text/plain": [
              "array([[[2, 2, 2]],\n",
              "\n",
              "       [[5, 2, 2]]])"
            ]
          },
          "metadata": {},
          "execution_count": 29
        }
      ]
    },
    {
      "cell_type": "code",
      "source": [
        "a"
      ],
      "metadata": {
        "colab": {
          "base_uri": "https://localhost:8080/"
        },
        "id": "x4VVl5R4Jwgk",
        "outputId": "f1a3b4fd-7a81-4d8c-f66b-b38ebd240c8a"
      },
      "execution_count": 30,
      "outputs": [
        {
          "output_type": "execute_result",
          "data": {
            "text/plain": [
              "array([[[2, 2, 3],\n",
              "        [2, 2, 2],\n",
              "        [3, 5, 5]],\n",
              "\n",
              "       [[5, 4, 4],\n",
              "        [5, 2, 2],\n",
              "        [2, 3, 2]]])"
            ]
          },
          "metadata": {},
          "execution_count": 30
        }
      ]
    },
    {
      "cell_type": "code",
      "source": [
        "#Delete along axis=2\n",
        "np.delete(a,(0,1), axis=2)"
      ],
      "metadata": {
        "colab": {
          "base_uri": "https://localhost:8080/"
        },
        "id": "LO74X68mJ189",
        "outputId": "097a18db-6bfb-420f-9801-9cd8200b3c01"
      },
      "execution_count": 31,
      "outputs": [
        {
          "output_type": "execute_result",
          "data": {
            "text/plain": [
              "array([[[3],\n",
              "        [2],\n",
              "        [5]],\n",
              "\n",
              "       [[4],\n",
              "        [2],\n",
              "        [2]]])"
            ]
          },
          "metadata": {},
          "execution_count": 31
        }
      ]
    },
    {
      "cell_type": "code",
      "source": [
        "#np.unique(arr,return_index,return_inverse,return_counts)\n",
        "#Initialized array\n",
        "\n",
        "a= np.random.randint(2,20,(2,3,3))\n",
        "print(a)\n",
        "print(a.shape)"
      ],
      "metadata": {
        "colab": {
          "base_uri": "https://localhost:8080/"
        },
        "id": "9y_buI4XJ3Ak",
        "outputId": "2e7b6dcb-e0e0-4caf-e036-4e975a96c584"
      },
      "execution_count": 32,
      "outputs": [
        {
          "output_type": "stream",
          "name": "stdout",
          "text": [
            "[[[19 14 19]\n",
            "  [10 14  7]\n",
            "  [ 8 11  6]]\n",
            "\n",
            " [[ 9 18 11]\n",
            "  [ 8  3 19]\n",
            "  [13  2  8]]]\n",
            "(2, 3, 3)\n"
          ]
        }
      ]
    },
    {
      "cell_type": "code",
      "source": [
        "np.unique(a)"
      ],
      "metadata": {
        "colab": {
          "base_uri": "https://localhost:8080/"
        },
        "id": "FoBP1JRNKBz_",
        "outputId": "7e5c3f93-32fe-4fa2-8e7f-5b581fa43a39"
      },
      "execution_count": 33,
      "outputs": [
        {
          "output_type": "execute_result",
          "data": {
            "text/plain": [
              "array([ 2,  3,  6,  7,  8,  9, 10, 11, 13, 14, 18, 19])"
            ]
          },
          "metadata": {},
          "execution_count": 33
        }
      ]
    },
    {
      "cell_type": "code",
      "source": [
        "#Return_counts = True\n",
        "np.unique(a,return_counts=True)"
      ],
      "metadata": {
        "colab": {
          "base_uri": "https://localhost:8080/"
        },
        "id": "i_AV6af-KW6E",
        "outputId": "730379af-d677-446e-e264-c0f2c81dee5b"
      },
      "execution_count": 34,
      "outputs": [
        {
          "output_type": "execute_result",
          "data": {
            "text/plain": [
              "(array([ 2,  3,  6,  7,  8,  9, 10, 11, 13, 14, 18, 19]),\n",
              " array([1, 1, 1, 1, 3, 1, 1, 2, 1, 2, 1, 3]))"
            ]
          },
          "metadata": {},
          "execution_count": 34
        }
      ]
    },
    {
      "cell_type": "code",
      "source": [
        "#Return_index = True\n",
        "np.unique(a,return_counts = True, return_index = True)"
      ],
      "metadata": {
        "colab": {
          "base_uri": "https://localhost:8080/"
        },
        "id": "yLpboqV0KZm8",
        "outputId": "927027e7-f363-49b3-8d0c-f768496a87e0"
      },
      "execution_count": 35,
      "outputs": [
        {
          "output_type": "execute_result",
          "data": {
            "text/plain": [
              "(array([ 2,  3,  6,  7,  8,  9, 10, 11, 13, 14, 18, 19]),\n",
              " array([16, 13,  8,  5,  6,  9,  3,  7, 15,  1, 10,  0]),\n",
              " array([1, 1, 1, 1, 3, 1, 1, 2, 1, 2, 1, 3]))"
            ]
          },
          "metadata": {},
          "execution_count": 35
        }
      ]
    },
    {
      "cell_type": "code",
      "source": [
        "#Lets take an example of a list\n",
        "\n",
        "a = [1,2,3]\n",
        "b=a\n",
        "b[0] = 10\n",
        "print(b)\n",
        "print(a)"
      ],
      "metadata": {
        "colab": {
          "base_uri": "https://localhost:8080/"
        },
        "id": "RZ7urbFPKebU",
        "outputId": "f6b923a5-cff2-439a-d266-a2c6163bd594"
      },
      "execution_count": 36,
      "outputs": [
        {
          "output_type": "stream",
          "name": "stdout",
          "text": [
            "[10, 2, 3]\n",
            "[10, 2, 3]\n"
          ]
        }
      ]
    },
    {
      "cell_type": "code",
      "source": [
        "#Lets use the copy method\n",
        "a=[1,2,3]\n",
        "b=a.copy()\n",
        "b[0] = 10\n",
        "print(b)\n",
        "print(a)"
      ],
      "metadata": {
        "colab": {
          "base_uri": "https://localhost:8080/"
        },
        "id": "s3k3DT0sKgwb",
        "outputId": "c2dd4072-0d92-44ee-92da-e0a86af88692"
      },
      "execution_count": 37,
      "outputs": [
        {
          "output_type": "stream",
          "name": "stdout",
          "text": [
            "[10, 2, 3]\n",
            "[1, 2, 3]\n"
          ]
        }
      ]
    },
    {
      "cell_type": "code",
      "source": [
        "#Let us look at an array\n",
        "a = np.array([2,34,12])\n",
        "b=a\n",
        "b[0] = -999\n",
        "print(b)\n",
        "print(a)"
      ],
      "metadata": {
        "colab": {
          "base_uri": "https://localhost:8080/"
        },
        "id": "0CGAn-HuKjD8",
        "outputId": "fd48da4b-3f18-44dd-8dc3-08ce64ae02f0"
      },
      "execution_count": 38,
      "outputs": [
        {
          "output_type": "stream",
          "name": "stdout",
          "text": [
            "[-999   34   12]\n",
            "[-999   34   12]\n"
          ]
        }
      ]
    },
    {
      "cell_type": "code",
      "source": [
        "a = np.array([2,34,12])\n",
        "b=a.copy()\n",
        "b[0] = -999\n",
        "print(b)\n",
        "print(a)"
      ],
      "metadata": {
        "colab": {
          "base_uri": "https://localhost:8080/"
        },
        "id": "EUye9E5JKlvT",
        "outputId": "97c08a87-3f1a-40b2-8d7b-f1d90f1d0bcf"
      },
      "execution_count": 39,
      "outputs": [
        {
          "output_type": "stream",
          "name": "stdout",
          "text": [
            "[-999   34   12]\n",
            "[ 2 34 12]\n"
          ]
        }
      ]
    },
    {
      "cell_type": "code",
      "source": [
        "#Basic operations and functions\n",
        "np.arange(3)"
      ],
      "metadata": {
        "id": "c-IuymTnKok8"
      },
      "execution_count": null,
      "outputs": []
    },
    {
      "cell_type": "code",
      "source": [
        "np.arange(3) + 5"
      ],
      "metadata": {
        "colab": {
          "base_uri": "https://localhost:8080/"
        },
        "id": "CsKurXT-KpKs",
        "outputId": "19ab4f0b-7e48-4710-cd3f-940ed830c368"
      },
      "execution_count": 40,
      "outputs": [
        {
          "output_type": "execute_result",
          "data": {
            "text/plain": [
              "array([5, 6, 7])"
            ]
          },
          "metadata": {},
          "execution_count": 40
        }
      ]
    },
    {
      "cell_type": "code",
      "source": [
        "np.ones((3,3))"
      ],
      "metadata": {
        "colab": {
          "base_uri": "https://localhost:8080/"
        },
        "id": "LnJJtUCRK3F7",
        "outputId": "ef1554e2-e14f-40fd-8da1-08809001947f"
      },
      "execution_count": 41,
      "outputs": [
        {
          "output_type": "execute_result",
          "data": {
            "text/plain": [
              "array([[1., 1., 1.],\n",
              "       [1., 1., 1.],\n",
              "       [1., 1., 1.]])"
            ]
          },
          "metadata": {},
          "execution_count": 41
        }
      ]
    },
    {
      "cell_type": "code",
      "source": [
        "np.ones((3,3)) + np.arange(3)"
      ],
      "metadata": {
        "colab": {
          "base_uri": "https://localhost:8080/"
        },
        "id": "lwc_F2vqK79J",
        "outputId": "332753d0-a724-4b09-f4d9-7430d43d790f"
      },
      "execution_count": 42,
      "outputs": [
        {
          "output_type": "execute_result",
          "data": {
            "text/plain": [
              "array([[1., 2., 3.],\n",
              "       [1., 2., 3.],\n",
              "       [1., 2., 3.]])"
            ]
          },
          "metadata": {},
          "execution_count": 42
        }
      ]
    },
    {
      "cell_type": "code",
      "source": [
        "np.ones((2,4))"
      ],
      "metadata": {
        "colab": {
          "base_uri": "https://localhost:8080/"
        },
        "id": "elp5cqsrK-mz",
        "outputId": "81aedf9a-65f2-4de2-8b75-004663226aaf"
      },
      "execution_count": 43,
      "outputs": [
        {
          "output_type": "execute_result",
          "data": {
            "text/plain": [
              "array([[1., 1., 1., 1.],\n",
              "       [1., 1., 1., 1.]])"
            ]
          },
          "metadata": {},
          "execution_count": 43
        }
      ]
    },
    {
      "cell_type": "code",
      "source": [
        "np.ones((2,4)) + np.arange(4)"
      ],
      "metadata": {
        "colab": {
          "base_uri": "https://localhost:8080/"
        },
        "id": "kSnNf_e8LBFU",
        "outputId": "2f5cdc90-0e10-4ae5-dad0-851d05a27b35"
      },
      "execution_count": 44,
      "outputs": [
        {
          "output_type": "execute_result",
          "data": {
            "text/plain": [
              "array([[1., 2., 3., 4.],\n",
              "       [1., 2., 3., 4.]])"
            ]
          },
          "metadata": {},
          "execution_count": 44
        }
      ]
    },
    {
      "cell_type": "code",
      "source": [
        "np.arange(3).reshape((3,1))"
      ],
      "metadata": {
        "colab": {
          "base_uri": "https://localhost:8080/"
        },
        "id": "UTT5K4ZOLDdk",
        "outputId": "3ce164d8-d1e2-4da9-93c8-d3889c5560c9"
      },
      "execution_count": 45,
      "outputs": [
        {
          "output_type": "execute_result",
          "data": {
            "text/plain": [
              "array([[0],\n",
              "       [1],\n",
              "       [2]])"
            ]
          },
          "metadata": {},
          "execution_count": 45
        }
      ]
    },
    {
      "cell_type": "code",
      "source": [
        "np.arange(3).reshape((3,1)) + np.arange(3)"
      ],
      "metadata": {
        "colab": {
          "base_uri": "https://localhost:8080/"
        },
        "id": "ZoYWJYZ8LEZz",
        "outputId": "3401b3bf-9ee0-43ba-8822-07689c72fc0b"
      },
      "execution_count": 46,
      "outputs": [
        {
          "output_type": "execute_result",
          "data": {
            "text/plain": [
              "array([[0, 1, 2],\n",
              "       [1, 2, 3],\n",
              "       [2, 3, 4]])"
            ]
          },
          "metadata": {},
          "execution_count": 46
        }
      ]
    },
    {
      "cell_type": "code",
      "source": [
        "np.arange(3).reshape((3,1)) + np.arange(4)"
      ],
      "metadata": {
        "colab": {
          "base_uri": "https://localhost:8080/"
        },
        "id": "vjIGZGzHLILJ",
        "outputId": "371ecfd2-16d6-44d6-9f99-febdfb3d1192"
      },
      "execution_count": 47,
      "outputs": [
        {
          "output_type": "execute_result",
          "data": {
            "text/plain": [
              "array([[0, 1, 2, 3],\n",
              "       [1, 2, 3, 4],\n",
              "       [2, 3, 4, 5]])"
            ]
          },
          "metadata": {},
          "execution_count": 47
        }
      ]
    },
    {
      "cell_type": "code",
      "source": [
        "np.arange(2)"
      ],
      "metadata": {
        "colab": {
          "base_uri": "https://localhost:8080/"
        },
        "id": "qIZ4W8RpLJwD",
        "outputId": "6f84f5d9-6d7c-4838-f287-b0d263583c24"
      },
      "execution_count": 48,
      "outputs": [
        {
          "output_type": "execute_result",
          "data": {
            "text/plain": [
              "array([0, 1])"
            ]
          },
          "metadata": {},
          "execution_count": 48
        }
      ]
    },
    {
      "cell_type": "code",
      "source": [
        "a = np.random.randint(2,6,(2,4))\n",
        "print(a)\n",
        "b = np.random.randint(1,10,(2,2))\n",
        "print(b)"
      ],
      "metadata": {
        "colab": {
          "base_uri": "https://localhost:8080/"
        },
        "id": "7NC7_lxYLOSz",
        "outputId": "f637cb02-c143-47d8-e2b2-8c7f4c4f02dc"
      },
      "execution_count": 49,
      "outputs": [
        {
          "output_type": "stream",
          "name": "stdout",
          "text": [
            "[[3 2 2 3]\n",
            " [2 5 3 2]]\n",
            "[[9 4]\n",
            " [1 4]]\n"
          ]
        }
      ]
    },
    {
      "cell_type": "code",
      "source": [
        "a = np.random.randint(2,6,(2,4))\n",
        "print(a)\n",
        "b = np.random.randint(1,10,(2,2))\n",
        "print(b)"
      ],
      "metadata": {
        "colab": {
          "base_uri": "https://localhost:8080/"
        },
        "id": "DlGkfXVkLRSD",
        "outputId": "fc3b7dd4-1a56-4cb1-f0be-cb24e8bd95cf"
      },
      "execution_count": 50,
      "outputs": [
        {
          "output_type": "stream",
          "name": "stdout",
          "text": [
            "[[2 4 3 4]\n",
            " [2 4 2 4]]\n",
            "[[5 4]\n",
            " [7 1]]\n"
          ]
        }
      ]
    },
    {
      "cell_type": "code",
      "source": [
        "# Multiply the first two columns of `a` with `b`\n",
        "result = np.multiply(a[:, :2], b)\n",
        "print(result)\n",
        "print(result.shape)  # Output shape will be (2, 2)"
      ],
      "metadata": {
        "colab": {
          "base_uri": "https://localhost:8080/"
        },
        "id": "JCm7fIqFLYpz",
        "outputId": "2c69ce57-f163-4b1d-feab-60a4d02c8790"
      },
      "execution_count": 53,
      "outputs": [
        {
          "output_type": "stream",
          "name": "stdout",
          "text": [
            "[[10 16]\n",
            " [14  4]]\n",
            "(2, 2)\n"
          ]
        }
      ]
    },
    {
      "cell_type": "code",
      "source": [
        "#Dividing the first two columns of `a` with `b`\n",
        "result = np.divide(a[:, :2], b)\n",
        "print(result)\n",
        "print(result.shape)  # Output shape will be (2, 2)"
      ],
      "metadata": {
        "colab": {
          "base_uri": "https://localhost:8080/",
          "height": 193
        },
        "id": "eUHzdhQCLZlE",
        "outputId": "295da096-12d9-403a-8a91-9eaae34fd6c6"
      },
      "execution_count": 62,
      "outputs": [
        {
          "output_type": "error",
          "ename": "ValueError",
          "evalue": "operands could not be broadcast together with shapes (3,2) (2,2) ",
          "traceback": [
            "\u001b[0;31m---------------------------------------------------------------------------\u001b[0m",
            "\u001b[0;31mValueError\u001b[0m                                Traceback (most recent call last)",
            "\u001b[0;32m<ipython-input-62-76076e22323a>\u001b[0m in \u001b[0;36m<cell line: 0>\u001b[0;34m()\u001b[0m\n\u001b[1;32m      1\u001b[0m \u001b[0;31m#Dividing the first two columns of `a` with `b`\u001b[0m\u001b[0;34m\u001b[0m\u001b[0;34m\u001b[0m\u001b[0m\n\u001b[0;32m----> 2\u001b[0;31m \u001b[0mresult\u001b[0m \u001b[0;34m=\u001b[0m \u001b[0mnp\u001b[0m\u001b[0;34m.\u001b[0m\u001b[0mdivide\u001b[0m\u001b[0;34m(\u001b[0m\u001b[0ma\u001b[0m\u001b[0;34m[\u001b[0m\u001b[0;34m:\u001b[0m\u001b[0;34m,\u001b[0m \u001b[0;34m:\u001b[0m\u001b[0;36m2\u001b[0m\u001b[0;34m]\u001b[0m\u001b[0;34m,\u001b[0m \u001b[0mb\u001b[0m\u001b[0;34m)\u001b[0m\u001b[0;34m\u001b[0m\u001b[0;34m\u001b[0m\u001b[0m\n\u001b[0m\u001b[1;32m      3\u001b[0m \u001b[0mprint\u001b[0m\u001b[0;34m(\u001b[0m\u001b[0mresult\u001b[0m\u001b[0;34m)\u001b[0m\u001b[0;34m\u001b[0m\u001b[0;34m\u001b[0m\u001b[0m\n\u001b[1;32m      4\u001b[0m \u001b[0mprint\u001b[0m\u001b[0;34m(\u001b[0m\u001b[0mresult\u001b[0m\u001b[0;34m.\u001b[0m\u001b[0mshape\u001b[0m\u001b[0;34m)\u001b[0m  \u001b[0;31m# Output shape will be (2, 2)\u001b[0m\u001b[0;34m\u001b[0m\u001b[0;34m\u001b[0m\u001b[0m\n",
            "\u001b[0;31mValueError\u001b[0m: operands could not be broadcast together with shapes (3,2) (2,2) "
          ]
        }
      ]
    },
    {
      "cell_type": "code",
      "source": [
        "#Some aggregations operations\n",
        "\n",
        "a = np.random.randint(5,9,(2,4))\n",
        "print(a)"
      ],
      "metadata": {
        "colab": {
          "base_uri": "https://localhost:8080/"
        },
        "id": "CeB_fEyCLZwc",
        "outputId": "51151637-3115-4547-ccb1-4b89703a29f8"
      },
      "execution_count": 54,
      "outputs": [
        {
          "output_type": "stream",
          "name": "stdout",
          "text": [
            "[[6 6 7 8]\n",
            " [5 5 5 5]]\n"
          ]
        }
      ]
    },
    {
      "cell_type": "code",
      "source": [
        "print(np.sum(a))\n",
        "print(np.sum(a,axis=0))\n",
        "print(np.sum(a,axis=1))\n",
        ""
      ],
      "metadata": {
        "colab": {
          "base_uri": "https://localhost:8080/"
        },
        "id": "wrkTTFMEL-jr",
        "outputId": "6b5b6586-25a7-45a8-eb26-23a2b1977617"
      },
      "execution_count": 55,
      "outputs": [
        {
          "output_type": "stream",
          "name": "stdout",
          "text": [
            "47\n",
            "[11 11 12 13]\n",
            "[27 20]\n"
          ]
        }
      ]
    },
    {
      "cell_type": "code",
      "source": [
        "#Calculate minimum\n",
        "print(np.min(a))\n",
        "print(np.min(a,axis=1))"
      ],
      "metadata": {
        "colab": {
          "base_uri": "https://localhost:8080/"
        },
        "id": "9MODlUlgMBcS",
        "outputId": "28c4e556-4eea-4a0e-c879-c0852312dfee"
      },
      "execution_count": 56,
      "outputs": [
        {
          "output_type": "stream",
          "name": "stdout",
          "text": [
            "5\n",
            "[6 5]\n"
          ]
        }
      ]
    },
    {
      "cell_type": "code",
      "source": [
        "#Sort the array\n",
        "a = np.random.randint(0,20,(3,3))\n",
        "print(a)"
      ],
      "metadata": {
        "colab": {
          "base_uri": "https://localhost:8080/"
        },
        "id": "-zmXyX1AMGKi",
        "outputId": "08b1dfdc-6ff6-4a67-a937-dd1ba5f74316"
      },
      "execution_count": 57,
      "outputs": [
        {
          "output_type": "stream",
          "name": "stdout",
          "text": [
            "[[15  7  3]\n",
            " [ 6 14  8]\n",
            " [ 4 19 19]]\n"
          ]
        }
      ]
    },
    {
      "cell_type": "code",
      "source": [
        "#Ascending columns\n",
        "print(np.sort(a,axis=0))"
      ],
      "metadata": {
        "colab": {
          "base_uri": "https://localhost:8080/"
        },
        "id": "Cc2GpNz3MG6D",
        "outputId": "53cdedd8-36ad-43ca-829a-673d60cb8240"
      },
      "execution_count": 58,
      "outputs": [
        {
          "output_type": "stream",
          "name": "stdout",
          "text": [
            "[[ 4  7  3]\n",
            " [ 6 14  8]\n",
            " [15 19 19]]\n"
          ]
        }
      ]
    },
    {
      "cell_type": "code",
      "source": [
        "#Ascending rows\n",
        "print(np.sort(a,axis=1))"
      ],
      "metadata": {
        "colab": {
          "base_uri": "https://localhost:8080/"
        },
        "id": "NgFqS5WVMK6S",
        "outputId": "0d15fc9f-9569-4ac1-e053-6d57690bfb40"
      },
      "execution_count": 59,
      "outputs": [
        {
          "output_type": "stream",
          "name": "stdout",
          "text": [
            "[[ 3  7 15]\n",
            " [ 6  8 14]\n",
            " [ 4 19 19]]\n"
          ]
        }
      ]
    },
    {
      "cell_type": "code",
      "source": [
        "#Descending\n",
        "print(-np.sort(-a,axis=1))"
      ],
      "metadata": {
        "colab": {
          "base_uri": "https://localhost:8080/"
        },
        "id": "kQp8kU7MMRWT",
        "outputId": "ffc3df8f-58c7-45d3-a18b-7fbc99fc506a"
      },
      "execution_count": 60,
      "outputs": [
        {
          "output_type": "stream",
          "name": "stdout",
          "text": [
            "[[15  7  3]\n",
            " [14  8  6]\n",
            " [19 19  4]]\n"
          ]
        }
      ]
    },
    {
      "cell_type": "code",
      "source": [
        "sum(np.arange(3)*np.arange(3).transpose())"
      ],
      "metadata": {
        "colab": {
          "base_uri": "https://localhost:8080/"
        },
        "id": "GFbvYDkPMSGD",
        "outputId": "9ef0a0af-2393-4318-8351-aaaede59bff5"
      },
      "execution_count": 61,
      "outputs": [
        {
          "output_type": "execute_result",
          "data": {
            "text/plain": [
              "5"
            ]
          },
          "metadata": {},
          "execution_count": 61
        }
      ]
    }
  ]
}