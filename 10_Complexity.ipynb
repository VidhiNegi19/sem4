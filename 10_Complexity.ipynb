{
  "nbformat": 4,
  "nbformat_minor": 0,
  "metadata": {
    "colab": {
      "provenance": [],
      "authorship_tag": "ABX9TyM65D8CZgRL9+6sO7nzneYG",
      "include_colab_link": true
    },
    "kernelspec": {
      "name": "python3",
      "display_name": "Python 3"
    },
    "language_info": {
      "name": "python"
    }
  },
  "cells": [
    {
      "cell_type": "markdown",
      "metadata": {
        "id": "view-in-github",
        "colab_type": "text"
      },
      "source": [
        "<a href=\"https://colab.research.google.com/github/VidhiNegi19/sem4/blob/main/10_Complexity.ipynb\" target=\"_parent\"><img src=\"https://colab.research.google.com/assets/colab-badge.svg\" alt=\"Open In Colab\"/></a>"
      ]
    },
    {
      "cell_type": "code",
      "execution_count": 1,
      "metadata": {
        "colab": {
          "base_uri": "https://localhost:8080/"
        },
        "id": "GA2uALeg0j6a",
        "outputId": "cf4e2fc4-b9e7-40f6-faab-3e9e7e950c4d"
      },
      "outputs": [
        {
          "output_type": "stream",
          "name": "stdout",
          "text": [
            "Match found at index:  5\n"
          ]
        },
        {
          "output_type": "execute_result",
          "data": {
            "text/plain": [
              "5"
            ]
          },
          "metadata": {},
          "execution_count": 1
        }
      ],
      "source": [
        "#Time Complexity\n",
        "integer_to_match = 13\n",
        "list_to_search = [1,3,5,8,12,13,15,16,18,20,22,30,40,50,55,67]\n",
        "\n",
        "c=0\n",
        "for i in range(len(list_to_search)):\n",
        "  if integer_to_match == list_to_search[i]:\n",
        "    print(\"Match found at index: \", i)\n",
        "    break\n",
        "  c+=1\n",
        "c"
      ]
    },
    {
      "cell_type": "code",
      "source": [
        "list_to_search.index(integer_to_match)"
      ],
      "metadata": {
        "colab": {
          "base_uri": "https://localhost:8080/"
        },
        "id": "LF1UtbOp0zCl",
        "outputId": "4622729c-102c-4dfe-a12e-b48eba562202"
      },
      "execution_count": 2,
      "outputs": [
        {
          "output_type": "execute_result",
          "data": {
            "text/plain": [
              "5"
            ]
          },
          "metadata": {},
          "execution_count": 2
        }
      ]
    },
    {
      "cell_type": "code",
      "source": [
        "[1, 3, 5, 8, 12, 13, 15, 16, 18, 20, 22, 30, 40, 50, 55, 67]"
      ],
      "metadata": {
        "colab": {
          "base_uri": "https://localhost:8080/"
        },
        "id": "EMKXZd2s05fE",
        "outputId": "538f7e21-d74e-46c9-d74e-a9e6fd07f0d8"
      },
      "execution_count": 3,
      "outputs": [
        {
          "output_type": "execute_result",
          "data": {
            "text/plain": [
              "[1, 3, 5, 8, 12, 13, 15, 16, 18, 20, 22, 30, 40, 50, 55, 67]"
            ]
          },
          "metadata": {},
          "execution_count": 3
        }
      ]
    },
    {
      "cell_type": "code",
      "source": [
        "def binary_search(arr, low, high, x):\n",
        "  c=0\n",
        "  if high >= low:\n",
        "    mid=(high+low)//2\n",
        "\n",
        "    if arr[mid]==x:\n",
        "      return m\n",
        "    elif arr[mid]> x:\n",
        "      return binary_search(arr, low, mid-1, x)\n",
        "    else:\n",
        "      return binary_search(arr, mid+1, high, x)\n",
        "\n",
        "  else:\n",
        "    return -1"
      ],
      "metadata": {
        "id": "EPiNHZiU0-t0"
      },
      "execution_count": 4,
      "outputs": []
    },
    {
      "cell_type": "code",
      "source": [
        "#Test array\n",
        "integer_to_match = 13\n",
        "list_to_search = [1,3,5,8,12,13,15,16,18,20,22,30,40,50,55,67]"
      ],
      "metadata": {
        "id": "fc8e2Uv31Bd8"
      },
      "execution_count": 5,
      "outputs": []
    },
    {
      "cell_type": "code",
      "source": [
        "def binary_search(arr, low, high, x):\n",
        "  c=0\n",
        "  if high >= low:\n",
        "    mid=(high+low)//2\n",
        "\n",
        "    if arr[mid]==x:\n",
        "      return mid # Changed 'm' to 'mid'\n",
        "    elif arr[mid]> x:\n",
        "      return binary_search(arr, low, mid-1, x)\n",
        "    else:\n",
        "      return binary_search(arr, mid+1, high, x)\n",
        "\n",
        "  else:\n",
        "    return -1"
      ],
      "metadata": {
        "id": "4uocic1v1DmM"
      },
      "execution_count": null,
      "outputs": []
    },
    {
      "cell_type": "code",
      "source": [
        "print(list_to_search[5] == integer_to_match)"
      ],
      "metadata": {
        "colab": {
          "base_uri": "https://localhost:8080/"
        },
        "id": "Jwv9dM7y1HfE",
        "outputId": "91014db4-fdf5-4202-e5a8-4d60e38b0be5"
      },
      "execution_count": 9,
      "outputs": [
        {
          "output_type": "stream",
          "name": "stdout",
          "text": [
            "True\n"
          ]
        }
      ]
    },
    {
      "cell_type": "code",
      "source": [
        "#Space complexity\n",
        "list_to_sum = [1,2,3,4,5,6,7]\n",
        "\n",
        "sum=0\n",
        "for i in range(len(list_to_sum)):\n",
        "  sum = sum + list_to_sum[i]\n",
        "sum"
      ],
      "metadata": {
        "colab": {
          "base_uri": "https://localhost:8080/"
        },
        "id": "tVndCiId1seR",
        "outputId": "2d0cc8e8-5c8a-4776-be20-178170073e1e"
      },
      "execution_count": 10,
      "outputs": [
        {
          "output_type": "execute_result",
          "data": {
            "text/plain": [
              "28"
            ]
          },
          "metadata": {},
          "execution_count": 10
        }
      ]
    },
    {
      "cell_type": "code",
      "source": [
        "sum = []\n",
        "c=0\n",
        "for i in range(len(list_to_sum)):\n",
        "  if i == 0:\n",
        "    sum.append(list_to_sum[i])\n",
        "  else:\n",
        "    sum.append(sum[i-1]+list_to_sum[i])\n",
        "  c+=1\n",
        "c"
      ],
      "metadata": {
        "colab": {
          "base_uri": "https://localhost:8080/"
        },
        "id": "drDBrpi12MwQ",
        "outputId": "3bb16420-c719-4070-bf22-9b984bd0f5da"
      },
      "execution_count": 11,
      "outputs": [
        {
          "output_type": "execute_result",
          "data": {
            "text/plain": [
              "7"
            ]
          },
          "metadata": {},
          "execution_count": 11
        }
      ]
    },
    {
      "cell_type": "code",
      "source": [
        "sum"
      ],
      "metadata": {
        "colab": {
          "base_uri": "https://localhost:8080/"
        },
        "id": "gfc5GK2g2i1B",
        "outputId": "0b990567-fff9-4418-a2bc-074abc58946a"
      },
      "execution_count": 12,
      "outputs": [
        {
          "output_type": "execute_result",
          "data": {
            "text/plain": [
              "[1, 3, 6, 10, 15, 21, 28]"
            ]
          },
          "metadata": {},
          "execution_count": 12
        }
      ]
    },
    {
      "cell_type": "code",
      "source": [
        "sum[-1]"
      ],
      "metadata": {
        "colab": {
          "base_uri": "https://localhost:8080/"
        },
        "id": "PMdrTaI92uif",
        "outputId": "86bd5fa3-8c25-4e06-abb4-5d2f28b25b00"
      },
      "execution_count": 13,
      "outputs": [
        {
          "output_type": "execute_result",
          "data": {
            "text/plain": [
              "28"
            ]
          },
          "metadata": {},
          "execution_count": 13
        }
      ]
    },
    {
      "cell_type": "code",
      "source": [
        "#Approach 1\n",
        "A = [1,11,4,9,16,2,23,45,77,15]\n",
        "B = [51,29,82,32,67,5,2,22,78,98]\n",
        "areas = []\n",
        "c=0\n",
        "for a in A:\n",
        "  for b in B:\n",
        "    areas.append(a*b)\n",
        "    c+=1\n",
        "d=c\n",
        "d"
      ],
      "metadata": {
        "colab": {
          "base_uri": "https://localhost:8080/"
        },
        "id": "H0XtsUlv21Z3",
        "outputId": "9032bb9d-fb2e-438f-8219-2c1e79e7a2e4"
      },
      "execution_count": 14,
      "outputs": [
        {
          "output_type": "execute_result",
          "data": {
            "text/plain": [
              "100"
            ]
          },
          "metadata": {},
          "execution_count": 14
        }
      ]
    },
    {
      "cell_type": "code",
      "source": [
        "max_area = 0\n",
        "for area in areas:\n",
        "  if area>max_area:\n",
        "    max_area=area\n",
        "  d=d+1\n",
        "d"
      ],
      "metadata": {
        "colab": {
          "base_uri": "https://localhost:8080/"
        },
        "id": "ifMqMgCP27ZK",
        "outputId": "45bf073c-e8e9-48bf-8811-660b19a698b4"
      },
      "execution_count": 15,
      "outputs": [
        {
          "output_type": "execute_result",
          "data": {
            "text/plain": [
              "200"
            ]
          },
          "metadata": {},
          "execution_count": 15
        }
      ]
    },
    {
      "cell_type": "code",
      "source": [
        "200"
      ],
      "metadata": {
        "colab": {
          "base_uri": "https://localhost:8080/"
        },
        "id": "eE6AuBtV2_3G",
        "outputId": "f3dcd293-3a9a-456a-efbf-1b6ed9cc9b8a"
      },
      "execution_count": 16,
      "outputs": [
        {
          "output_type": "execute_result",
          "data": {
            "text/plain": [
              "200"
            ]
          },
          "metadata": {},
          "execution_count": 16
        }
      ]
    },
    {
      "cell_type": "code",
      "source": [
        "len(areas)"
      ],
      "metadata": {
        "colab": {
          "base_uri": "https://localhost:8080/"
        },
        "id": "fExcjYXe3Fft",
        "outputId": "06315c47-c9a6-45cc-f201-014ac5d6dc88"
      },
      "execution_count": 17,
      "outputs": [
        {
          "output_type": "execute_result",
          "data": {
            "text/plain": [
              "100"
            ]
          },
          "metadata": {},
          "execution_count": 17
        }
      ]
    },
    {
      "cell_type": "code",
      "source": [
        "max_area"
      ],
      "metadata": {
        "colab": {
          "base_uri": "https://localhost:8080/"
        },
        "id": "do4z5wMO3Irm",
        "outputId": "806099c6-4f54-4e35-e496-ef47b171923a"
      },
      "execution_count": 18,
      "outputs": [
        {
          "output_type": "execute_result",
          "data": {
            "text/plain": [
              "7546"
            ]
          },
          "metadata": {},
          "execution_count": 18
        }
      ]
    },
    {
      "cell_type": "code",
      "source": [
        "max(areas)"
      ],
      "metadata": {
        "colab": {
          "base_uri": "https://localhost:8080/"
        },
        "id": "-lwZKuZI3MFe",
        "outputId": "74abda4a-0bc7-4556-d3e2-26b6368a53c5"
      },
      "execution_count": 19,
      "outputs": [
        {
          "output_type": "execute_result",
          "data": {
            "text/plain": [
              "7546"
            ]
          },
          "metadata": {},
          "execution_count": 19
        }
      ]
    },
    {
      "cell_type": "code",
      "source": [
        "#Approach 2\n",
        "A = [1,11,4,9,16,2,23,45,77,15]\n",
        "B = [51,29,82,32,67,5,2,22,78,98]\n",
        "e=0\n",
        "max_a=0\n",
        "for a in A:\n",
        "  if a>max_a:\n",
        "    max_a=a\n",
        "  e+=1\n",
        "max_b=0\n",
        "for b in B:\n",
        "  if b>max_b:\n",
        "    max_b=b\n",
        "  e+=1\n",
        "e\n",
        ""
      ],
      "metadata": {
        "colab": {
          "base_uri": "https://localhost:8080/"
        },
        "id": "p2Os0Qjt3Nu2",
        "outputId": "44365cd6-c266-4165-c7ae-bdc0c006100e"
      },
      "execution_count": 20,
      "outputs": [
        {
          "output_type": "execute_result",
          "data": {
            "text/plain": [
              "20"
            ]
          },
          "metadata": {},
          "execution_count": 20
        }
      ]
    },
    {
      "cell_type": "code",
      "source": [
        "max_a*max_b"
      ],
      "metadata": {
        "colab": {
          "base_uri": "https://localhost:8080/"
        },
        "id": "RtHZxhkW3Wa1",
        "outputId": "a6a37c5a-c376-4211-a2d2-c39187b25d78"
      },
      "execution_count": 21,
      "outputs": [
        {
          "output_type": "execute_result",
          "data": {
            "text/plain": [
              "7546"
            ]
          },
          "metadata": {},
          "execution_count": 21
        }
      ]
    }
  ]
}