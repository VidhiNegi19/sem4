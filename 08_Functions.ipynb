{
  "nbformat": 4,
  "nbformat_minor": 0,
  "metadata": {
    "colab": {
      "provenance": [],
      "authorship_tag": "ABX9TyNBTsykhZyA2YZOWLWTP30f",
      "include_colab_link": true
    },
    "kernelspec": {
      "name": "python3",
      "display_name": "Python 3"
    },
    "language_info": {
      "name": "python"
    }
  },
  "cells": [
    {
      "cell_type": "markdown",
      "metadata": {
        "id": "view-in-github",
        "colab_type": "text"
      },
      "source": [
        "<a href=\"https://colab.research.google.com/github/VidhiNegi19/sem4/blob/main/08_Functions.ipynb\" target=\"_parent\"><img src=\"https://colab.research.google.com/assets/colab-badge.svg\" alt=\"Open In Colab\"/></a>"
      ]
    },
    {
      "cell_type": "code",
      "execution_count": 3,
      "metadata": {
        "id": "LsH5jeJOA8EK"
      },
      "outputs": [],
      "source": [
        "Sashasaid = \"Hello this is Sasha\""
      ]
    },
    {
      "cell_type": "code",
      "source": [
        "#Using the list comprehension, we can do the above task in this way\n",
        "\n",
        "Sashasaid = \"Hello this is Sasha\"\n",
        "words_by_quote = Sashasaid.split(' ')\n",
        "first_letters = [word[0] for word in words_by_quote]\n",
        "print(first_letters)\n",
        ""
      ],
      "metadata": {
        "colab": {
          "base_uri": "https://localhost:8080/"
        },
        "id": "KmL2n-0IBjLr",
        "outputId": "2d07b8d6-0bc6-40c7-850f-43cba7f5f1b3"
      },
      "execution_count": 4,
      "outputs": [
        {
          "output_type": "stream",
          "name": "stdout",
          "text": [
            "['H', 't', 'i', 'S']\n"
          ]
        }
      ]
    },
    {
      "cell_type": "code",
      "source": [
        "#Using the list comprehension, we can do the above task in this way\n",
        "\n",
        "heisenberg_quote = \"I am the danger\"\n",
        "words_by_quote = heisenberg_quote.split(' ')\n",
        "first_letters = [word[0] for word in words_by_quote]\n",
        "print(first_letters)\n",
        ""
      ],
      "metadata": {
        "colab": {
          "base_uri": "https://localhost:8080/"
        },
        "id": "b0FCx_vFD9kG",
        "outputId": "19aac70d-b6a6-4224-ce5e-732a167a0843"
      },
      "execution_count": 5,
      "outputs": [
        {
          "output_type": "stream",
          "name": "stdout",
          "text": [
            "['I', 'a', 't', 'd']\n"
          ]
        }
      ]
    },
    {
      "cell_type": "code",
      "source": [
        "def extract_first_letters(sentence):\n",
        "  words_in_sentence = sentence.split(' ')\n",
        "  first_letters = [word[0] for word in words_in_sentence]\n",
        "  return first_letters\n",
        "  print(extract_first_letters(heisenberg_quote))\n",
        ""
      ],
      "metadata": {
        "id": "bnBm2i9nD-p8"
      },
      "execution_count": 6,
      "outputs": []
    },
    {
      "cell_type": "code",
      "source": [
        "#Store the result of the function in another variable\n",
        "first_letters_heisenberg = extract_first_letters(heisenberg_quote)\n",
        "print(first_letters_heisenberg)\n",
        ""
      ],
      "metadata": {
        "colab": {
          "base_uri": "https://localhost:8080/"
        },
        "id": "XpI63ZRuECY8",
        "outputId": "87677a7c-cc46-4ea2-b006-0605a5e24623"
      },
      "execution_count": 7,
      "outputs": [
        {
          "output_type": "stream",
          "name": "stdout",
          "text": [
            "['I', 'a', 't', 'd']\n"
          ]
        }
      ]
    },
    {
      "cell_type": "code",
      "source": [
        "from re import I\n",
        "#Function for calculating factorial of a number\n",
        "def factorial(num):\n",
        "  result = 1\n",
        "  if num < 0:\n",
        "    print(\"factorial is not defined for negative numbers\")\n",
        "  elif (num> 0):\n",
        "    for i in range(1, num+1):\n",
        "            result = result * i\n",
        "    print(f\"the factorial of {num} is {result}\")\n",
        "  else:\n",
        "              result = 1\n",
        "              print('factorial of 0 is ',result)\n",
        "\n",
        "factorial(5)"
      ],
      "metadata": {
        "colab": {
          "base_uri": "https://localhost:8080/"
        },
        "id": "oxTQ9jOAEF60",
        "outputId": "009fbb8b-cf71-4f26-eb1d-31e43168e733"
      },
      "execution_count": 8,
      "outputs": [
        {
          "output_type": "stream",
          "name": "stdout",
          "text": [
            "the factorial of 5 is 120\n"
          ]
        }
      ]
    },
    {
      "cell_type": "code",
      "source": [
        "#We can write a list comprehension for the same task\n",
        "list_of_numbers = [1,2,3,4,5,6,7]\n",
        "factorial_list = [factorial(number) for number in list_of_numbers if number%2!=0]\n",
        "print(factorial_list)\n",
        ""
      ],
      "metadata": {
        "colab": {
          "base_uri": "https://localhost:8080/"
        },
        "id": "FDgv2yV3EQhT",
        "outputId": "de7ac6c5-f130-400b-9510-2c2518ef4c9c"
      },
      "execution_count": 9,
      "outputs": [
        {
          "output_type": "stream",
          "name": "stdout",
          "text": [
            "the factorial of 1 is 1\n",
            "the factorial of 3 is 6\n",
            "the factorial of 5 is 120\n",
            "the factorial of 7 is 5040\n",
            "[None, None, None, None]\n"
          ]
        }
      ]
    },
    {
      "cell_type": "code",
      "source": [
        "def assignQuarter(user_date):\n",
        "  date_year = user_date[:4]\n",
        "  date_month = user_date[5:7]\n",
        "\n",
        "  if (date_month >= '01') & (date_month <= '03'):\n",
        "    quarter = date_year + '-Q1'\n",
        "  elif (date_month >= '04') & (date_month <='06'):\n",
        "      quarter = date_year + '-Q2'\n",
        "  elif (date_month >= '07') & (date_month <= '09'):\n",
        "    quarter = date_year + '-Q3'\n",
        "  else:\n",
        "    quarter = date_year + '-Q4'\n",
        "  return quarter"
      ],
      "metadata": {
        "id": "SVPnYdRKER3z"
      },
      "execution_count": 10,
      "outputs": []
    },
    {
      "cell_type": "code",
      "source": [
        "sample_date = '2022-04-01'\n",
        "date_quarter = assignQuarter(sample_date)\n",
        "print(date_quarter)\n",
        ""
      ],
      "metadata": {
        "colab": {
          "base_uri": "https://localhost:8080/"
        },
        "id": "qpUHxIRZEZYz",
        "outputId": "04673494-0b84-4485-953d-ad12a0cef911"
      },
      "execution_count": 11,
      "outputs": [
        {
          "output_type": "stream",
          "name": "stdout",
          "text": [
            "2022-Q2\n"
          ]
        }
      ]
    },
    {
      "cell_type": "code",
      "source": [
        "my_quarter = assignQuarter('2022-07-01')\n",
        "print(my_quarter)"
      ],
      "metadata": {
        "colab": {
          "base_uri": "https://localhost:8080/"
        },
        "id": "bYPEz2xEEivi",
        "outputId": "f18296cd-787b-4b28-dfc4-7ca9bb86d47d"
      },
      "execution_count": 12,
      "outputs": [
        {
          "output_type": "stream",
          "name": "stdout",
          "text": [
            "2022-Q3\n"
          ]
        }
      ]
    },
    {
      "cell_type": "code",
      "source": [
        "#Functoin with multiple return statements\n",
        "def check_even_or_odd(num):\n",
        "  print(f\"given number is {num}\")\n",
        "\n",
        "  if num%2 ==0:\n",
        "    return 'even'\n",
        "  return 'odd'\n",
        "\n",
        "is_even_odd = check_even_or_odd(10)\n",
        "print(is_even_odd)"
      ],
      "metadata": {
        "colab": {
          "base_uri": "https://localhost:8080/"
        },
        "id": "bYnC0euKElV7",
        "outputId": "83a85397-cc40-427b-ce03-53dcbc822a1f"
      },
      "execution_count": 13,
      "outputs": [
        {
          "output_type": "stream",
          "name": "stdout",
          "text": [
            "given number is 10\n",
            "even\n"
          ]
        }
      ]
    },
    {
      "cell_type": "code",
      "source": [
        "#Function which adds an element to list\n",
        "def list_append(my_list, elem):\n",
        "  new_list = my_list + [elem]\n",
        "  return new_list"
      ],
      "metadata": {
        "id": "RA5HKB_YEmhy"
      },
      "execution_count": 14,
      "outputs": []
    },
    {
      "cell_type": "code",
      "source": [
        "heights = [150,160,170,180,190,200]\n",
        "list_append(heights, 210)\n",
        ""
      ],
      "metadata": {
        "colab": {
          "base_uri": "https://localhost:8080/"
        },
        "id": "NkFeFY0pEquS",
        "outputId": "86b6cc4e-fd78-4eb8-8028-ce26e13e27dd"
      },
      "execution_count": 15,
      "outputs": [
        {
          "output_type": "execute_result",
          "data": {
            "text/plain": [
              "[150, 160, 170, 180, 190, 200, 210]"
            ]
          },
          "metadata": {},
          "execution_count": 15
        }
      ]
    },
    {
      "cell_type": "code",
      "source": [
        "list_append(heights, 220)"
      ],
      "metadata": {
        "colab": {
          "base_uri": "https://localhost:8080/"
        },
        "id": "YnVQM2tmEv4y",
        "outputId": "b35fdc49-7dd2-44a7-821f-dc6f95444a8e"
      },
      "execution_count": 16,
      "outputs": [
        {
          "output_type": "execute_result",
          "data": {
            "text/plain": [
              "[150, 160, 170, 180, 190, 200, 220]"
            ]
          },
          "metadata": {},
          "execution_count": 16
        }
      ]
    },
    {
      "cell_type": "code",
      "source": [
        "list_append(heights, elem = 50)\n",
        ""
      ],
      "metadata": {
        "colab": {
          "base_uri": "https://localhost:8080/"
        },
        "id": "7aPLtTqcE1wK",
        "outputId": "580889ce-58c6-4887-dea6-4e715ddd6520"
      },
      "execution_count": 17,
      "outputs": [
        {
          "output_type": "execute_result",
          "data": {
            "text/plain": [
              "[150, 160, 170, 180, 190, 200, 50]"
            ]
          },
          "metadata": {},
          "execution_count": 17
        }
      ]
    },
    {
      "cell_type": "code",
      "source": [
        "heights.append(100)\n",
        "heights\n",
        ""
      ],
      "metadata": {
        "colab": {
          "base_uri": "https://localhost:8080/"
        },
        "id": "_IMCOULjE2xj",
        "outputId": "b18f1736-27ae-46f7-e19b-ade6e5267deb"
      },
      "execution_count": 18,
      "outputs": [
        {
          "output_type": "execute_result",
          "data": {
            "text/plain": [
              "[150, 160, 170, 180, 190, 200, 100]"
            ]
          },
          "metadata": {},
          "execution_count": 18
        }
      ]
    },
    {
      "cell_type": "code",
      "source": [
        "#Scope\n",
        "def experiment():\n",
        "  global x\n",
        "  x = 50\n",
        "  return x"
      ],
      "metadata": {
        "id": "IkmXW5dFE8hy"
      },
      "execution_count": 19,
      "outputs": []
    },
    {
      "cell_type": "code",
      "source": [
        "experiment()"
      ],
      "metadata": {
        "colab": {
          "base_uri": "https://localhost:8080/"
        },
        "id": "IjtOKnLTE_di",
        "outputId": "9b2ff4e0-6986-4af3-bc72-a3a68a8aa56e"
      },
      "execution_count": 20,
      "outputs": [
        {
          "output_type": "execute_result",
          "data": {
            "text/plain": [
              "50"
            ]
          },
          "metadata": {},
          "execution_count": 20
        }
      ]
    },
    {
      "cell_type": "code",
      "source": [
        "x"
      ],
      "metadata": {
        "colab": {
          "base_uri": "https://localhost:8080/"
        },
        "id": "lZDQxefWFGJh",
        "outputId": "ea1e4915-7f51-40c0-b4c0-e8fc861ab127"
      },
      "execution_count": 21,
      "outputs": [
        {
          "output_type": "execute_result",
          "data": {
            "text/plain": [
              "50"
            ]
          },
          "metadata": {},
          "execution_count": 21
        }
      ]
    },
    {
      "cell_type": "code",
      "source": [
        "def new_experiment():\n",
        "  x = 50\n",
        "  return x\n",
        "x = 40"
      ],
      "metadata": {
        "id": "CkP35jaRFJWS"
      },
      "execution_count": 22,
      "outputs": []
    },
    {
      "cell_type": "code",
      "source": [
        "x"
      ],
      "metadata": {
        "colab": {
          "base_uri": "https://localhost:8080/"
        },
        "id": "eZrE3IOlFL5a",
        "outputId": "de203893-e511-4baa-8587-b917d1777b54"
      },
      "execution_count": 23,
      "outputs": [
        {
          "output_type": "execute_result",
          "data": {
            "text/plain": [
              "40"
            ]
          },
          "metadata": {},
          "execution_count": 23
        }
      ]
    },
    {
      "cell_type": "code",
      "source": [
        "new_experiment()"
      ],
      "metadata": {
        "id": "7pqwkRR-FM6n"
      },
      "execution_count": null,
      "outputs": []
    }
  ]
}